{
 "cells": [
  {
   "cell_type": "markdown",
   "metadata": {},
   "source": [
    "### Plan\n",
    "\n",
    "1. Data cleanup\n",
    "    - Formatting issues\n",
    "    - Duplicates\n",
    "    - Missing values\n",
    " \n",
    "\n",
    "2. Exploration\n",
    "    - visualizations\n",
    "\n",
    "\n",
    "3. Modeling\n",
    "\n",
    "\n",
    "4. Evalution"
   ]
  },
  {
   "cell_type": "markdown",
   "metadata": {},
   "source": [
    "### Import Packages"
   ]
  },
  {
   "cell_type": "code",
   "execution_count": 1,
   "metadata": {},
   "outputs": [],
   "source": [
    "import pandas as pd\n",
    "import matplotlib.pyplot as plt\n",
    "import seaborn as sns\n",
    "%matplotlib inline"
   ]
  },
  {
   "cell_type": "markdown",
   "metadata": {},
   "source": [
    "### 1. Data Cleanup for Null Values"
   ]
  },
  {
   "cell_type": "markdown",
   "metadata": {},
   "source": [
    "No nun values:\n",
    "    - imdb.title.ratings.csv\n",
    "    - tmdb.movies.csv\n",
    "    - tn.movie_budgets.csv\n",
    "   \n",
    "Data with nun values:\n",
    "    - bom.movie_gross.csv\n",
    "    - imdb.title.akas.csv\n",
    "    - imdb.title.basics.csv"
   ]
  },
  {
   "cell_type": "markdown",
   "metadata": {},
   "source": [
    "### Import data sets\n",
    "- df_budgets\n",
    "- df_popularity\n",
    "- df_gross\n",
    "- df_basics"
   ]
  },
  {
   "cell_type": "code",
   "execution_count": 91,
   "metadata": {},
   "outputs": [],
   "source": [
    "# Sharon files\n",
    "df_budgets = pd.read_csv(\"files/tn.movie_budgets.csv\")\n",
    "df_popularity = pd.read_csv(\"files/tmdb.movies.csv\")\n",
    "# Daniel files:\n",
    "df_gross = pd.read_csv(\"files/bom.movie_gross.csv\")\n",
    "df_basics = pd.read_csv(\"files/imdb.title.basics.csv\")"
   ]
  },
  {
   "cell_type": "markdown",
   "metadata": {},
   "source": [
    "### Functions for Formatting"
   ]
  },
  {
   "cell_type": "code",
   "execution_count": 92,
   "metadata": {},
   "outputs": [],
   "source": [
    "# turn object to integer:\n",
    "def turn_to_int(data, column):\n",
    "    data[column] = data[column].apply(lambda x: x.replace(\"$\", \"\"))\n",
    "    data[column] = data[column].apply(lambda x: x.replace(\",\", \"\"))\n",
    "    data[column] = data[column].astype(int)"
   ]
  },
  {
   "cell_type": "code",
   "execution_count": 93,
   "metadata": {},
   "outputs": [],
   "source": [
    "# turn interger into object:\n",
    "def turn_to_obj(data, column):\n",
    "    data[column] = data[column].astype(str)"
   ]
  },
  {
   "cell_type": "code",
   "execution_count": 94,
   "metadata": {},
   "outputs": [],
   "source": [
    "# turn id(int) to id(obj):\n",
    "turn_to_obj(df_budgets, \"id\")"
   ]
  },
  {
   "cell_type": "code",
   "execution_count": 95,
   "metadata": {},
   "outputs": [],
   "source": [
    "# turn from obj to int: budget files, to columns \"production_budget\", \"domestic_gross\", \"worldwide_gross\"\n",
    "turn_to_int(df_budgets, \"production_budget\")\n",
    "turn_to_int(df_budgets, \"domestic_gross\")\n",
    "turn_to_int(df_budgets, \"worldwide_gross\")"
   ]
  },
  {
   "cell_type": "code",
   "execution_count": 96,
   "metadata": {},
   "outputs": [],
   "source": [
    "# from df_basics, turn start_year(int) to str\n",
    "turn_to_obj(df_basics, \"start_year\")"
   ]
  },
  {
   "cell_type": "code",
   "execution_count": 97,
   "metadata": {},
   "outputs": [],
   "source": [
    "# Daniel Files: turn year (int) to year(str)\n",
    "turn_to_obj(df_gross, \"year\")"
   ]
  },
  {
   "cell_type": "markdown",
   "metadata": {},
   "source": [
    "### Drop Columns\n",
    "#from df_movies_final, dropping \"id_x\", \"id_y\", \"release_date_y\", \"start_year\", \"original_title\", \"year\"\n",
    "#we are not taking domestic_gross, foreign_gross from df_gross file\n",
    "#from df_aka file, we are not taking ordering, types, attributes, is_original_title\n",
    "#from df_basics, we are not taking tconst"
   ]
  },
  {
   "cell_type": "code",
   "execution_count": 98,
   "metadata": {},
   "outputs": [],
   "source": [
    "def drop_columns(data, column):\n",
    "    data.drop(column, inplace=True, axis=1)# axis=0 to row, axis=1 to column"
   ]
  },
  {
   "cell_type": "code",
   "execution_count": 99,
   "metadata": {},
   "outputs": [],
   "source": [
    "# from df_popularity, dropping \"unnamed\" and \"genre_ids\", \"original_title\"\n",
    "drop_columns(df_popularity, [\"id\", \"Unnamed: 0\", \"genre_ids\", \"original_title\"])"
   ]
  },
  {
   "cell_type": "code",
   "execution_count": 100,
   "metadata": {},
   "outputs": [],
   "source": [
    "# from df_budgets, dropping \"id\" and \"release_date\"\n",
    "drop_columns(df_budgets, [\"id\", \"release_date\"])"
   ]
  },
  {
   "cell_type": "code",
   "execution_count": 101,
   "metadata": {},
   "outputs": [],
   "source": [
    "# from df_gross, dropping \"foreign_gross\" and \"domestic_gross\"\n",
    "drop_columns(df_gross, [\"domestic_gross\", \"foreign_gross\", \"year\"])"
   ]
  },
  {
   "cell_type": "code",
   "execution_count": 102,
   "metadata": {},
   "outputs": [],
   "source": [
    "# from df_basics, dropping \"tconst\", \"start_year\"\n",
    "drop_columns(df_basics, [\"tconst\", \"original_title\"])"
   ]
  },
  {
   "cell_type": "markdown",
   "metadata": {},
   "source": [
    "### Merge datasets"
   ]
  },
  {
   "cell_type": "code",
   "execution_count": 103,
   "metadata": {
    "scrolled": true
   },
   "outputs": [],
   "source": [
    "df_movies = pd.merge(df_popularity, df_gross, how=\"left\", on=\"title\")"
   ]
  },
  {
   "cell_type": "code",
   "execution_count": 104,
   "metadata": {
    "scrolled": false
   },
   "outputs": [],
   "source": [
    "df_budgets.rename(columns = {\"movie\": \"title\"}, inplace=True)"
   ]
  },
  {
   "cell_type": "code",
   "execution_count": 105,
   "metadata": {},
   "outputs": [],
   "source": [
    "df_movies2 = pd.merge(df_movies, df_budgets, how = \"left\", on=\"title\")"
   ]
  },
  {
   "cell_type": "code",
   "execution_count": 106,
   "metadata": {},
   "outputs": [],
   "source": [
    "df_basics.rename(columns = {\"primary_title\": \"title\"}, inplace=True)"
   ]
  },
  {
   "cell_type": "code",
   "execution_count": 107,
   "metadata": {
    "scrolled": true
   },
   "outputs": [],
   "source": [
    "df_movies_final = pd.merge(df_basics, df_movies2, how = \"left\", on=\"title\")"
   ]
  },
  {
   "cell_type": "code",
   "execution_count": 108,
   "metadata": {},
   "outputs": [],
   "source": [
    "#replace null values in release_date with start_year from df_basics\n",
    "df_movies_final.release_date.fillna(df_movies_final.start_year, inplace=True)"
   ]
  },
  {
   "cell_type": "code",
   "execution_count": 109,
   "metadata": {},
   "outputs": [],
   "source": [
    "#\"start_year\" no longer needed\n",
    "drop_columns(df_movies_final, \"start_year\")"
   ]
  },
  {
   "cell_type": "code",
   "execution_count": 110,
   "metadata": {
    "scrolled": true
   },
   "outputs": [],
   "source": [
    "df_movies_final[\"foreign_gross\"] = (df_movies_final.worldwide_gross - df_movies_final.domestic_gross)\n",
    "df_movies_final[\"net_profit\"] = (df_movies_final.worldwide_gross - df_movies_final.production_budget)\n",
    "drop_columns(df_movies_final, [\"runtime_minutes\", \"original_language\", \"studio\"])\n",
    "#\"original_language\", \"studio\", \"runtime_minutes\", no longer needed"
   ]
  },
  {
   "cell_type": "code",
   "execution_count": 111,
   "metadata": {
    "scrolled": true
   },
   "outputs": [],
   "source": [
    "df_movies_final[\"release_month\"] = df_movies_final[\"release_date\"].map(lambda x: 'NaN' if len(x.split('-'))\n",
    "                                                                       == 1 else x.split('-')[1])"
   ]
  },
  {
   "cell_type": "code",
   "execution_count": 113,
   "metadata": {},
   "outputs": [],
   "source": [
    "df_movies_final.rename(columns= {\"release_date\": \"release_year\"}, inplace= True)\n",
    "df_movies_final[\"release_year\"] = df_movies_final[\"release_year\"].map(lambda x: x.split('-')[0])"
   ]
  },
  {
   "cell_type": "code",
   "execution_count": 114,
   "metadata": {
    "scrolled": false
   },
   "outputs": [
    {
     "data": {
      "text/html": [
       "<div>\n",
       "<style scoped>\n",
       "    .dataframe tbody tr th:only-of-type {\n",
       "        vertical-align: middle;\n",
       "    }\n",
       "\n",
       "    .dataframe tbody tr th {\n",
       "        vertical-align: top;\n",
       "    }\n",
       "\n",
       "    .dataframe thead th {\n",
       "        text-align: right;\n",
       "    }\n",
       "</style>\n",
       "<table border=\"1\" class=\"dataframe\">\n",
       "  <thead>\n",
       "    <tr style=\"text-align: right;\">\n",
       "      <th></th>\n",
       "      <th>title</th>\n",
       "      <th>genres</th>\n",
       "      <th>popularity</th>\n",
       "      <th>release_year</th>\n",
       "      <th>vote_average</th>\n",
       "      <th>vote_count</th>\n",
       "      <th>production_budget</th>\n",
       "      <th>domestic_gross</th>\n",
       "      <th>worldwide_gross</th>\n",
       "      <th>foreign_gross</th>\n",
       "      <th>net_profit</th>\n",
       "      <th>release_month</th>\n",
       "    </tr>\n",
       "  </thead>\n",
       "  <tbody>\n",
       "    <tr>\n",
       "      <th>0</th>\n",
       "      <td>Sunghursh</td>\n",
       "      <td>Action,Crime,Drama</td>\n",
       "      <td>NaN</td>\n",
       "      <td>2013</td>\n",
       "      <td>NaN</td>\n",
       "      <td>NaN</td>\n",
       "      <td>NaN</td>\n",
       "      <td>NaN</td>\n",
       "      <td>NaN</td>\n",
       "      <td>NaN</td>\n",
       "      <td>NaN</td>\n",
       "      <td>NaN</td>\n",
       "    </tr>\n",
       "    <tr>\n",
       "      <th>1</th>\n",
       "      <td>One Day Before the Rainy Season</td>\n",
       "      <td>Biography,Drama</td>\n",
       "      <td>NaN</td>\n",
       "      <td>2019</td>\n",
       "      <td>NaN</td>\n",
       "      <td>NaN</td>\n",
       "      <td>NaN</td>\n",
       "      <td>NaN</td>\n",
       "      <td>NaN</td>\n",
       "      <td>NaN</td>\n",
       "      <td>NaN</td>\n",
       "      <td>NaN</td>\n",
       "    </tr>\n",
       "    <tr>\n",
       "      <th>2</th>\n",
       "      <td>The Other Side of the Wind</td>\n",
       "      <td>Drama</td>\n",
       "      <td>9.8</td>\n",
       "      <td>2018</td>\n",
       "      <td>7.0</td>\n",
       "      <td>64.0</td>\n",
       "      <td>NaN</td>\n",
       "      <td>NaN</td>\n",
       "      <td>NaN</td>\n",
       "      <td>NaN</td>\n",
       "      <td>NaN</td>\n",
       "      <td>11</td>\n",
       "    </tr>\n",
       "    <tr>\n",
       "      <th>3</th>\n",
       "      <td>Sabse Bada Sukh</td>\n",
       "      <td>Comedy,Drama</td>\n",
       "      <td>NaN</td>\n",
       "      <td>2018</td>\n",
       "      <td>NaN</td>\n",
       "      <td>NaN</td>\n",
       "      <td>NaN</td>\n",
       "      <td>NaN</td>\n",
       "      <td>NaN</td>\n",
       "      <td>NaN</td>\n",
       "      <td>NaN</td>\n",
       "      <td>NaN</td>\n",
       "    </tr>\n",
       "    <tr>\n",
       "      <th>4</th>\n",
       "      <td>The Wandering Soap Opera</td>\n",
       "      <td>Comedy,Drama,Fantasy</td>\n",
       "      <td>NaN</td>\n",
       "      <td>2017</td>\n",
       "      <td>NaN</td>\n",
       "      <td>NaN</td>\n",
       "      <td>NaN</td>\n",
       "      <td>NaN</td>\n",
       "      <td>NaN</td>\n",
       "      <td>NaN</td>\n",
       "      <td>NaN</td>\n",
       "      <td>NaN</td>\n",
       "    </tr>\n",
       "  </tbody>\n",
       "</table>\n",
       "</div>"
      ],
      "text/plain": [
       "                             title                genres  popularity  \\\n",
       "0                        Sunghursh    Action,Crime,Drama         NaN   \n",
       "1  One Day Before the Rainy Season       Biography,Drama         NaN   \n",
       "2       The Other Side of the Wind                 Drama         9.8   \n",
       "3                  Sabse Bada Sukh          Comedy,Drama         NaN   \n",
       "4         The Wandering Soap Opera  Comedy,Drama,Fantasy         NaN   \n",
       "\n",
       "  release_year  vote_average  vote_count  production_budget  domestic_gross  \\\n",
       "0         2013           NaN         NaN                NaN             NaN   \n",
       "1         2019           NaN         NaN                NaN             NaN   \n",
       "2         2018           7.0        64.0                NaN             NaN   \n",
       "3         2018           NaN         NaN                NaN             NaN   \n",
       "4         2017           NaN         NaN                NaN             NaN   \n",
       "\n",
       "   worldwide_gross  foreign_gross  net_profit release_month  \n",
       "0              NaN            NaN         NaN           NaN  \n",
       "1              NaN            NaN         NaN           NaN  \n",
       "2              NaN            NaN         NaN            11  \n",
       "3              NaN            NaN         NaN           NaN  \n",
       "4              NaN            NaN         NaN           NaN  "
      ]
     },
     "execution_count": 114,
     "metadata": {},
     "output_type": "execute_result"
    }
   ],
   "source": [
    "df_movies_final.head()"
   ]
  },
  {
   "cell_type": "markdown",
   "metadata": {},
   "source": [
    "month vs. popularity, month vs. worldwide_gross"
   ]
  },
  {
   "cell_type": "code",
   "execution_count": 172,
   "metadata": {
    "scrolled": true
   },
   "outputs": [],
   "source": [
    "df_month_mean = df_movies_final.groupby(\"release_month\")[\"popularity\", \"worldwide_gross\"].mean()"
   ]
  },
  {
   "cell_type": "code",
   "execution_count": 174,
   "metadata": {},
   "outputs": [],
   "source": [
    "# seasons = []\n",
    "# for x in df_month_mean[\"season\"]:\n",
    "#     if x == \n",
    "df_month_mean[\"season\"] = df_month_mean.index.map(lambda x: \"winter\" if x == \"01\" or x == \"02\" or x == \"12\"\n",
    "                                                  else (\"spring\" if x == \"03\" or x ==\"04\" or x == \"05\"\n",
    "                                                        else (\"summer\" if x == \"06\" or x ==\"07\" or x ==\"08\"\n",
    "                                                              else \"fall\")))"
   ]
  },
  {
   "cell_type": "code",
   "execution_count": 176,
   "metadata": {},
   "outputs": [
    {
     "data": {
      "image/png": "[encoded data removed]",
      "text/plain": [
       "<Figure size 360x360 with 1 Axes>"
      ]
     },
     "metadata": {
      "needs_background": "light"
     },
     "output_type": "display_data"
    }
   ],
   "source": [
    "sns.lmplot(x=\"popularity\", y=\"worldwide_gross\", data=df_month_mean, fit_reg=False, hue=\"season\", legend=False)\n",
    " \n",
    "plt.legend(loc='lower right')\n",
    " \n",
    "plt.show()"
   ]
  },
  {
   "cell_type": "markdown",
   "metadata": {},
   "source": [
    "### Functions for Exploration"
   ]
  },
  {
   "cell_type": "markdown",
   "metadata": {},
   "source": [
    "1. Drop Outliers"
   ]
  },
  {
   "cell_type": "code",
   "execution_count": 28,
   "metadata": {},
   "outputs": [],
   "source": [
    "#calculate IQR to find outliers\n",
    "def calculate_interquartile_range(data, column):\n",
    "    return data[column].describe().iloc[6] - data[column].describe().iloc[4]"
   ]
  },
  {
   "cell_type": "code",
   "execution_count": 29,
   "metadata": {
    "scrolled": true
   },
   "outputs": [
    {
     "data": {
      "text/plain": [
       "popularity       5.099\n",
       "vote_average     1.900\n",
       "vote_count      54.000\n",
       "dtype: float64"
      ]
     },
     "execution_count": 29,
     "metadata": {},
     "output_type": "execute_result"
    }
   ],
   "source": [
    "calculate_interquartile_range(df_movies_final, [\"popularity\", \"vote_average\", \"vote_count\"])"
   ]
  },
  {
   "cell_type": "code",
   "execution_count": 30,
   "metadata": {},
   "outputs": [],
   "source": [
    "#drop lower and upper outliers from each column\n",
    "def drop_outliers(data, column):\n",
    "    lower_outlier = data[column].describe().loc[\"25%\"] - (1.5 * calculate_interquartile_range(data, column))\n",
    "    upper_outlier = data[column].describe().loc[\"75%\"] + (1.5 * calculate_interquartile_range(data, column))\n",
    "    return data[(data[column] > lower_outlier) & (data[column] < upper_outlier)]"
   ]
  },
  {
   "cell_type": "markdown",
   "metadata": {},
   "source": [
    "2. Calculate Mean"
   ]
  },
  {
   "cell_type": "code",
   "execution_count": 31,
   "metadata": {},
   "outputs": [],
   "source": [
    "#calculate mean of each column without outliers\n",
    "#iterating through each genre\n",
    "def calculate_mean(data, column, genres):\n",
    "    list_obj = []\n",
    "    df_without_outlier = drop_outliers(data, column)\n",
    "    for genre in genres:\n",
    "        mean = round(df_without_outlier[df_without_outlier[\"genres\"].str.contains(genre)==True].mean(),2)\n",
    "        list_obj.append(mean[column])\n",
    "    return list_obj"
   ]
  },
  {
   "cell_type": "code",
   "execution_count": 32,
   "metadata": {
    "scrolled": true
   },
   "outputs": [
    {
     "data": {
      "text/plain": [
       "[29294920.8, 19665651.6, 21882889.42, 21939168.36, 20496335.78, 20775621.01]"
      ]
     },
     "execution_count": 32,
     "metadata": {},
     "output_type": "execute_result"
    }
   ],
   "source": [
    "calculate_mean(df_movies_final, \"production_budget\", \"Action\")"
   ]
  },
  {
   "cell_type": "code",
   "execution_count": 33,
   "metadata": {},
   "outputs": [],
   "source": [
    "genre = [\"Action\", \"Adventure\", \"Animation\", \"Comedy\", \"Crime\", \"Drama\", \"Fantasy\", \"Horror\", \"Mystery\", \"Romance\", \"Sci-Fi\", \"Thriller\"]"
   ]
  },
  {
   "cell_type": "code",
   "execution_count": 34,
   "metadata": {
    "scrolled": false
   },
   "outputs": [],
   "source": [
    "df = pd.DataFrame(genre, columns=['genres'])\n",
    "df.set_index('genres', inplace=True)"
   ]
  },
  {
   "cell_type": "code",
   "execution_count": 35,
   "metadata": {},
   "outputs": [
    {
     "data": {
      "text/html": [
       "<div>\n",
       "<style scoped>\n",
       "    .dataframe tbody tr th:only-of-type {\n",
       "        vertical-align: middle;\n",
       "    }\n",
       "\n",
       "    .dataframe tbody tr th {\n",
       "        vertical-align: top;\n",
       "    }\n",
       "\n",
       "    .dataframe thead th {\n",
       "        text-align: right;\n",
       "    }\n",
       "</style>\n",
       "<table border=\"1\" class=\"dataframe\">\n",
       "  <thead>\n",
       "    <tr style=\"text-align: right;\">\n",
       "      <th></th>\n",
       "      <th>production_budget</th>\n",
       "      <th>domestic_gross</th>\n",
       "      <th>foreign_gross</th>\n",
       "      <th>worldwide_gross</th>\n",
       "      <th>net_profit</th>\n",
       "      <th>popularity</th>\n",
       "      <th>vote_average</th>\n",
       "      <th>vote_count</th>\n",
       "    </tr>\n",
       "    <tr>\n",
       "      <th>genres</th>\n",
       "      <th></th>\n",
       "      <th></th>\n",
       "      <th></th>\n",
       "      <th></th>\n",
       "      <th></th>\n",
       "      <th></th>\n",
       "      <th></th>\n",
       "      <th></th>\n",
       "    </tr>\n",
       "  </thead>\n",
       "  <tbody>\n",
       "    <tr>\n",
       "      <th>Action</th>\n",
       "      <td>30490758.55</td>\n",
       "      <td>30257700.62</td>\n",
       "      <td>28685133.36</td>\n",
       "      <td>59915757.22</td>\n",
       "      <td>25277569.81</td>\n",
       "      <td>4.07</td>\n",
       "      <td>5.60</td>\n",
       "      <td>22.33</td>\n",
       "    </tr>\n",
       "    <tr>\n",
       "      <th>Adventure</th>\n",
       "      <td>33374656.57</td>\n",
       "      <td>35951837.18</td>\n",
       "      <td>31930899.38</td>\n",
       "      <td>66572089.43</td>\n",
       "      <td>30184412.42</td>\n",
       "      <td>4.03</td>\n",
       "      <td>5.89</td>\n",
       "      <td>21.56</td>\n",
       "    </tr>\n",
       "    <tr>\n",
       "      <th>Animation</th>\n",
       "      <td>32450406.50</td>\n",
       "      <td>31866148.40</td>\n",
       "      <td>31416866.92</td>\n",
       "      <td>54508980.93</td>\n",
       "      <td>34694398.45</td>\n",
       "      <td>4.49</td>\n",
       "      <td>6.31</td>\n",
       "      <td>21.04</td>\n",
       "    </tr>\n",
       "    <tr>\n",
       "      <th>Comedy</th>\n",
       "      <td>23592710.77</td>\n",
       "      <td>28117856.98</td>\n",
       "      <td>22454438.29</td>\n",
       "      <td>50223595.40</td>\n",
       "      <td>26407329.02</td>\n",
       "      <td>3.55</td>\n",
       "      <td>5.76</td>\n",
       "      <td>17.99</td>\n",
       "    </tr>\n",
       "    <tr>\n",
       "      <th>Crime</th>\n",
       "      <td>24090947.74</td>\n",
       "      <td>22645401.34</td>\n",
       "      <td>21635241.58</td>\n",
       "      <td>45989445.24</td>\n",
       "      <td>19788747.72</td>\n",
       "      <td>4.09</td>\n",
       "      <td>5.80</td>\n",
       "      <td>23.28</td>\n",
       "    </tr>\n",
       "    <tr>\n",
       "      <th>Drama</th>\n",
       "      <td>17567022.62</td>\n",
       "      <td>18480256.89</td>\n",
       "      <td>17949382.21</td>\n",
       "      <td>36118281.63</td>\n",
       "      <td>16501189.40</td>\n",
       "      <td>3.48</td>\n",
       "      <td>6.00</td>\n",
       "      <td>18.76</td>\n",
       "    </tr>\n",
       "    <tr>\n",
       "      <th>Fantasy</th>\n",
       "      <td>25540303.03</td>\n",
       "      <td>27337646.33</td>\n",
       "      <td>23872271.89</td>\n",
       "      <td>54308639.17</td>\n",
       "      <td>18617069.87</td>\n",
       "      <td>4.01</td>\n",
       "      <td>5.71</td>\n",
       "      <td>19.96</td>\n",
       "    </tr>\n",
       "    <tr>\n",
       "      <th>Horror</th>\n",
       "      <td>16040791.23</td>\n",
       "      <td>19509311.76</td>\n",
       "      <td>19083093.00</td>\n",
       "      <td>38720048.08</td>\n",
       "      <td>21492106.88</td>\n",
       "      <td>3.18</td>\n",
       "      <td>5.05</td>\n",
       "      <td>16.94</td>\n",
       "    </tr>\n",
       "    <tr>\n",
       "      <th>Mystery</th>\n",
       "      <td>19113314.04</td>\n",
       "      <td>25083932.19</td>\n",
       "      <td>25196872.99</td>\n",
       "      <td>48048289.10</td>\n",
       "      <td>27508919.52</td>\n",
       "      <td>3.67</td>\n",
       "      <td>5.54</td>\n",
       "      <td>20.65</td>\n",
       "    </tr>\n",
       "    <tr>\n",
       "      <th>Romance</th>\n",
       "      <td>16027569.74</td>\n",
       "      <td>20741916.30</td>\n",
       "      <td>21677277.86</td>\n",
       "      <td>42193888.11</td>\n",
       "      <td>23195732.36</td>\n",
       "      <td>3.76</td>\n",
       "      <td>5.98</td>\n",
       "      <td>18.98</td>\n",
       "    </tr>\n",
       "    <tr>\n",
       "      <th>Sci-Fi</th>\n",
       "      <td>21588209.31</td>\n",
       "      <td>25429821.16</td>\n",
       "      <td>17869122.67</td>\n",
       "      <td>38903494.94</td>\n",
       "      <td>18980943.19</td>\n",
       "      <td>3.43</td>\n",
       "      <td>5.38</td>\n",
       "      <td>18.40</td>\n",
       "    </tr>\n",
       "    <tr>\n",
       "      <th>Thriller</th>\n",
       "      <td>19629035.68</td>\n",
       "      <td>21211675.41</td>\n",
       "      <td>19765497.62</td>\n",
       "      <td>41191026.89</td>\n",
       "      <td>19417062.58</td>\n",
       "      <td>3.40</td>\n",
       "      <td>5.43</td>\n",
       "      <td>18.76</td>\n",
       "    </tr>\n",
       "  </tbody>\n",
       "</table>\n",
       "</div>"
      ],
      "text/plain": [
       "           production_budget  domestic_gross  foreign_gross  worldwide_gross  \\\n",
       "genres                                                                         \n",
       "Action           30490758.55     30257700.62    28685133.36      59915757.22   \n",
       "Adventure        33374656.57     35951837.18    31930899.38      66572089.43   \n",
       "Animation        32450406.50     31866148.40    31416866.92      54508980.93   \n",
       "Comedy           23592710.77     28117856.98    22454438.29      50223595.40   \n",
       "Crime            24090947.74     22645401.34    21635241.58      45989445.24   \n",
       "Drama            17567022.62     18480256.89    17949382.21      36118281.63   \n",
       "Fantasy          25540303.03     27337646.33    23872271.89      54308639.17   \n",
       "Horror           16040791.23     19509311.76    19083093.00      38720048.08   \n",
       "Mystery          19113314.04     25083932.19    25196872.99      48048289.10   \n",
       "Romance          16027569.74     20741916.30    21677277.86      42193888.11   \n",
       "Sci-Fi           21588209.31     25429821.16    17869122.67      38903494.94   \n",
       "Thriller         19629035.68     21211675.41    19765497.62      41191026.89   \n",
       "\n",
       "            net_profit  popularity  vote_average  vote_count  \n",
       "genres                                                        \n",
       "Action     25277569.81        4.07          5.60       22.33  \n",
       "Adventure  30184412.42        4.03          5.89       21.56  \n",
       "Animation  34694398.45        4.49          6.31       21.04  \n",
       "Comedy     26407329.02        3.55          5.76       17.99  \n",
       "Crime      19788747.72        4.09          5.80       23.28  \n",
       "Drama      16501189.40        3.48          6.00       18.76  \n",
       "Fantasy    18617069.87        4.01          5.71       19.96  \n",
       "Horror     21492106.88        3.18          5.05       16.94  \n",
       "Mystery    27508919.52        3.67          5.54       20.65  \n",
       "Romance    23195732.36        3.76          5.98       18.98  \n",
       "Sci-Fi     18980943.19        3.43          5.38       18.40  \n",
       "Thriller   19417062.58        3.40          5.43       18.76  "
      ]
     },
     "execution_count": 35,
     "metadata": {},
     "output_type": "execute_result"
    }
   ],
   "source": [
    "df[\"production_budget\"] = calculate_mean(df_movies_final, \"production_budget\", genre)\n",
    "df[\"domestic_gross\"] = calculate_mean(df_movies_final, \"domestic_gross\", genre)\n",
    "df[\"foreign_gross\"] = calculate_mean(df_movies_final, \"foreign_gross\", genre)\n",
    "df[\"worldwide_gross\"] = calculate_mean(df_movies_final, \"worldwide_gross\", genre)\n",
    "df[\"net_profit\"] = calculate_mean(df_movies_final, \"net_profit\", genre)\n",
    "df[\"popularity\"] = calculate_mean(df_movies_final, \"popularity\", genre)\n",
    "df[\"vote_average\"] = calculate_mean(df_movies_final, \"vote_average\", genre)\n",
    "df[\"vote_count\"] = calculate_mean(df_movies_final, \"vote_count\", genre)\n",
    "df"
   ]
  },
  {
   "cell_type": "code",
   "execution_count": 36,
   "metadata": {},
   "outputs": [],
   "source": [
    "#Conservative ranking: weighted ranking using \"production_budget\" and \"domestic_gross\" for all genres\n",
    "def conservative_ranking(genre, col1, col2):\n",
    "    weighted_output = []\n",
    "    for film in genre:\n",
    "        weighted_sum = (0.4 * df.loc[film, col1]) + (0.6 * df.loc[film, col2])\n",
    "        weighted_output.append(weighted_sum)\n",
    "    return weighted_output"
   ]
  },
  {
   "cell_type": "code",
   "execution_count": 37,
   "metadata": {},
   "outputs": [],
   "source": [
    "#Compromised ranking: weighted ranking using \"production_budget\", \"domestic_gross\", \"foreign_gross\" for all genres\n",
    "def compromised_ranking(genre, col1, col2, col3):\n",
    "    weighted_output = []\n",
    "    for film in genre:\n",
    "        weighted_sum = (0.2 * df.loc[film, col1]) + (0.4 * df.loc[film, col2]) + (0.4 * df.loc[film, col3])\n",
    "        weighted_output.append(weighted_sum)\n",
    "    return weighted_output"
   ]
  },
  {
   "cell_type": "code",
   "execution_count": 38,
   "metadata": {},
   "outputs": [],
   "source": [
    "#Aggresive Ranking: weighted ranking using \"production_budget\", \"domestic_gross\", \"foreign_gross\" ....for all genres\n",
    "def aggressive_ranking(genre, col1, col2, col3):\n",
    "    weighted_output = []\n",
    "    for film in genre:\n",
    "        weighted_sum = (0.3 * df.loc[film, col1]) + (0.4 * df.loc[film, col2]) + (0.3 * df.loc[film, col3])\n",
    "        weighted_output.append(weighted_sum)\n",
    "    return weighted_output"
   ]
  },
  {
   "cell_type": "code",
   "execution_count": 39,
   "metadata": {},
   "outputs": [],
   "source": [
    "df_rankings = pd.DataFrame(genre, columns=[\"genres\"])\n",
    "df_rankings.set_index('genres', inplace=True)"
   ]
  },
  {
   "cell_type": "code",
   "execution_count": 41,
   "metadata": {},
   "outputs": [
    {
     "data": {
      "text/html": [
       "<div>\n",
       "<style scoped>\n",
       "    .dataframe tbody tr th:only-of-type {\n",
       "        vertical-align: middle;\n",
       "    }\n",
       "\n",
       "    .dataframe tbody tr th {\n",
       "        vertical-align: top;\n",
       "    }\n",
       "\n",
       "    .dataframe thead th {\n",
       "        text-align: right;\n",
       "    }\n",
       "</style>\n",
       "<table border=\"1\" class=\"dataframe\">\n",
       "  <thead>\n",
       "    <tr style=\"text-align: right;\">\n",
       "      <th></th>\n",
       "      <th>conservative</th>\n",
       "      <th>compromised</th>\n",
       "      <th>aggressive</th>\n",
       "    </tr>\n",
       "    <tr>\n",
       "      <th>genres</th>\n",
       "      <th></th>\n",
       "      <th></th>\n",
       "      <th></th>\n",
       "    </tr>\n",
       "  </thead>\n",
       "  <tbody>\n",
       "    <tr>\n",
       "      <th>Action</th>\n",
       "      <td>3.035092e+07</td>\n",
       "      <td>2.967529e+07</td>\n",
       "      <td>10.160</td>\n",
       "    </tr>\n",
       "    <tr>\n",
       "      <th>Adventure</th>\n",
       "      <td>3.492096e+07</td>\n",
       "      <td>3.382803e+07</td>\n",
       "      <td>10.033</td>\n",
       "    </tr>\n",
       "    <tr>\n",
       "      <th>Animation</th>\n",
       "      <td>3.209985e+07</td>\n",
       "      <td>3.180329e+07</td>\n",
       "      <td>10.183</td>\n",
       "    </tr>\n",
       "    <tr>\n",
       "      <th>Comedy</th>\n",
       "      <td>2.630780e+07</td>\n",
       "      <td>2.494746e+07</td>\n",
       "      <td>8.766</td>\n",
       "    </tr>\n",
       "    <tr>\n",
       "      <th>Crime</th>\n",
       "      <td>2.322362e+07</td>\n",
       "      <td>2.253045e+07</td>\n",
       "      <td>10.531</td>\n",
       "    </tr>\n",
       "    <tr>\n",
       "      <th>Drama</th>\n",
       "      <td>1.811496e+07</td>\n",
       "      <td>1.808526e+07</td>\n",
       "      <td>9.072</td>\n",
       "    </tr>\n",
       "    <tr>\n",
       "      <th>Fantasy</th>\n",
       "      <td>2.661871e+07</td>\n",
       "      <td>2.559203e+07</td>\n",
       "      <td>9.475</td>\n",
       "    </tr>\n",
       "    <tr>\n",
       "      <th>Horror</th>\n",
       "      <td>1.812190e+07</td>\n",
       "      <td>1.864512e+07</td>\n",
       "      <td>8.056</td>\n",
       "    </tr>\n",
       "    <tr>\n",
       "      <th>Mystery</th>\n",
       "      <td>2.269568e+07</td>\n",
       "      <td>2.393498e+07</td>\n",
       "      <td>9.512</td>\n",
       "    </tr>\n",
       "    <tr>\n",
       "      <th>Romance</th>\n",
       "      <td>1.885618e+07</td>\n",
       "      <td>2.017319e+07</td>\n",
       "      <td>9.214</td>\n",
       "    </tr>\n",
       "    <tr>\n",
       "      <th>Sci-Fi</th>\n",
       "      <td>2.389318e+07</td>\n",
       "      <td>2.163722e+07</td>\n",
       "      <td>8.701</td>\n",
       "    </tr>\n",
       "    <tr>\n",
       "      <th>Thriller</th>\n",
       "      <td>2.057862e+07</td>\n",
       "      <td>2.031668e+07</td>\n",
       "      <td>8.820</td>\n",
       "    </tr>\n",
       "  </tbody>\n",
       "</table>\n",
       "</div>"
      ],
      "text/plain": [
       "           conservative   compromised  aggressive\n",
       "genres                                           \n",
       "Action     3.035092e+07  2.967529e+07      10.160\n",
       "Adventure  3.492096e+07  3.382803e+07      10.033\n",
       "Animation  3.209985e+07  3.180329e+07      10.183\n",
       "Comedy     2.630780e+07  2.494746e+07       8.766\n",
       "Crime      2.322362e+07  2.253045e+07      10.531\n",
       "Drama      1.811496e+07  1.808526e+07       9.072\n",
       "Fantasy    2.661871e+07  2.559203e+07       9.475\n",
       "Horror     1.812190e+07  1.864512e+07       8.056\n",
       "Mystery    2.269568e+07  2.393498e+07       9.512\n",
       "Romance    1.885618e+07  2.017319e+07       9.214\n",
       "Sci-Fi     2.389318e+07  2.163722e+07       8.701\n",
       "Thriller   2.057862e+07  2.031668e+07       8.820"
      ]
     },
     "execution_count": 41,
     "metadata": {},
     "output_type": "execute_result"
    }
   ],
   "source": [
    "df_rankings[\"conservative\"] = conservative_ranking(df.index, \"production_budget\", \"domestic_gross\")\n",
    "df_rankings[\"compromised\"] = compromised_ranking(df.index, \"production_budget\", \"domestic_gross\", \"foreign_gross\")\n",
    "df_rankings[\"aggressive\"] = aggressive_ranking(df.index, \"popularity\", \"vote_average\", \"vote_count\")\n",
    "df_rankings"
   ]
  },
  {
   "cell_type": "code",
   "execution_count": 42,
   "metadata": {},
   "outputs": [],
   "source": [
    "def min_and_max_values(data, column):\n",
    "    return data.loc[(data[column] == data[column].min())\n",
    "                    | (data[column] == data[column].max())][column]"
   ]
  },
  {
   "cell_type": "code",
   "execution_count": 43,
   "metadata": {},
   "outputs": [
    {
     "data": {
      "text/plain": [
       "genres\n",
       "Adventure    3.492096e+07\n",
       "Drama        1.811496e+07\n",
       "Name: conservative, dtype: float64"
      ]
     },
     "execution_count": 43,
     "metadata": {},
     "output_type": "execute_result"
    }
   ],
   "source": [
    "min_and_max_values(df_rankings, 'conservative')"
   ]
  },
  {
   "cell_type": "code",
   "execution_count": 44,
   "metadata": {},
   "outputs": [
    {
     "data": {
      "text/plain": [
       "genres\n",
       "Adventure    3.382803e+07\n",
       "Drama        1.808526e+07\n",
       "Name: compromised, dtype: float64"
      ]
     },
     "execution_count": 44,
     "metadata": {},
     "output_type": "execute_result"
    }
   ],
   "source": [
    "min_and_max_values(df_rankings, 'compromised')"
   ]
  },
  {
   "cell_type": "code",
   "execution_count": 45,
   "metadata": {},
   "outputs": [
    {
     "data": {
      "text/plain": [
       "genres\n",
       "Crime     10.531\n",
       "Horror     8.056\n",
       "Name: aggressive, dtype: float64"
      ]
     },
     "execution_count": 45,
     "metadata": {},
     "output_type": "execute_result"
    }
   ],
   "source": [
    "min_and_max_values(df_rankings, 'aggressive')"
   ]
  },
  {
   "cell_type": "code",
   "execution_count": 58,
   "metadata": {},
   "outputs": [
    {
     "data": {
      "text/plain": [
       "genres\n",
       "Drama        1.811496e+07\n",
       "Horror       1.812190e+07\n",
       "Romance      1.885618e+07\n",
       "Thriller     2.057862e+07\n",
       "Mystery      2.269568e+07\n",
       "Crime        2.322362e+07\n",
       "Sci-Fi       2.389318e+07\n",
       "Comedy       2.630780e+07\n",
       "Fantasy      2.661871e+07\n",
       "Action       3.035092e+07\n",
       "Animation    3.209985e+07\n",
       "Adventure    3.492096e+07\n",
       "Name: conservative, dtype: float64"
      ]
     },
     "execution_count": 58,
     "metadata": {},
     "output_type": "execute_result"
    }
   ],
   "source": [
    "ordered_df_rankings = df_rankings.sort_values(by=[\"conservative\"])\n",
    "ordered_df_rankings[\"conservative\"]"
   ]
  },
  {
   "cell_type": "code",
   "execution_count": 68,
   "metadata": {},
   "outputs": [
    {
     "data": {
      "image/png": "[encoded data removed]",
      "text/plain": [
       "<Figure size 432x288 with 1 Axes>"
      ]
     },
     "metadata": {
      "needs_background": "light"
     },
     "output_type": "display_data"
    }
   ],
   "source": [
    "ordered_df_rankings = df_rankings.sort_values(by=[\"conservative\"])\n",
    "\n",
    "plt.barh(ordered_df_rankings.index, ordered_df_rankings['conservative'])\n",
    "plt.xlabel(\"Weighted Sum (in ten millions)\")\n",
    "plt.ylabel(\"Genres\")\n",
    "plt.title(\"Conservative Rankings\")\n",
    "\n",
    "plt.show()"
   ]
  },
  {
   "cell_type": "code",
   "execution_count": null,
   "metadata": {},
   "outputs": [],
   "source": []
  }
 ],
 "metadata": {
  "kernelspec": {
   "display_name": "Python 3",
   "language": "python",
   "name": "python3"
  },
  "language_info": {
   "codemirror_mode": {
    "name": "ipython",
    "version": 3
   },
   "file_extension": ".py",
   "mimetype": "text/x-python",
   "name": "python",
   "nbconvert_exporter": "python",
   "pygments_lexer": "ipython3",
   "version": "3.7.3"
  }
 },
 "nbformat": 4,
 "nbformat_minor": 2
}
