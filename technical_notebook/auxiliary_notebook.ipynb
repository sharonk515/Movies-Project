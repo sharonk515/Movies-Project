{
 "cells": [
  {
   "cell_type": "markdown",
   "metadata": {},
   "source": [
    "### Plan\n",
    "\n",
    "1. Data cleanup\n",
    "    - Formatting issues\n",
    "    - Missing values\n",
    " \n",
    "\n",
    "2. Exploration\n",
    "    - Visualizations"
   ]
  },
  {
   "cell_type": "markdown",
   "metadata": {},
   "source": [
    "### Import Packages"
   ]
  },
  {
   "cell_type": "code",
   "execution_count": null,
   "metadata": {},
   "outputs": [],
   "source": [
    "import pandas as pd\n",
    "import matplotlib.pyplot as plt\n",
    "import seaborn as sns"
   ]
  },
  {
   "cell_type": "markdown",
   "metadata": {},
   "source": [
    "### Functions"
   ]
  },
  {
   "cell_type": "code",
   "execution_count": null,
   "metadata": {},
   "outputs": [],
   "source": [
    "def turn_to_int(dataframe, column):\n",
    "    dataframe[column] = dataframe[column].apply(lambda x: x.replace(\"$\", \"\"))\n",
    "    dataframe[column] = dataframe[column].apply(lambda x: x.replace(\",\", \"\"))\n",
    "    dataframe[column] = dataframe[column].astype(int)"
   ]
  },
  {
   "cell_type": "code",
   "execution_count": null,
   "metadata": {},
   "outputs": [],
   "source": [
    "def turn_to_obj(dataframe, column):\n",
    "    dataframe[column] = dataframe[column].astype(str)"
   ]
  },
  {
   "cell_type": "code",
   "execution_count": null,
   "metadata": {},
   "outputs": [],
   "source": [
    "def drop_columns(dataframe, column):\n",
    "    dataframe.drop(column, inplace=True, axis=1)"
   ]
  },
  {
   "cell_type": "code",
   "execution_count": null,
   "metadata": {},
   "outputs": [],
   "source": [
    "def merge_dataframes(df_1, df_2):\n",
    "    df_movies = pd.merge(df_1, df_2, how=\"left\", on=\"title\")\n",
    "    \n",
    "    return df_movies"
   ]
  },
  {
   "cell_type": "code",
   "execution_count": null,
   "metadata": {},
   "outputs": [],
   "source": [
    "def calculate_interquartile_range(dataframe, column):\n",
    "    return (dataframe[column].describe().iloc[6]\n",
    "            - dataframe[column].describe().iloc[4])"
   ]
  },
  {
   "cell_type": "code",
   "execution_count": null,
   "metadata": {},
   "outputs": [],
   "source": [
    "def drop_outliers(dataframe, column):\n",
    "    lower_outlier = (dataframe[column].describe().loc[\"25%\"]\n",
    "                     - (1.5 * calculate_interquartile_range(data, column)))\n",
    "    upper_outlier = (dataframe[column].describe().loc[\"75%\"]\n",
    "                     + (1.5 * calculate_interquartile_range(data, column)))\n",
    "    \n",
    "    return dataframe[(dataframe[column] > lower_outlier)\n",
    "                & (dataframe[column] < upper_outlier)]"
   ]
  },
  {
   "cell_type": "code",
   "execution_count": null,
   "metadata": {},
   "outputs": [],
   "source": [
    "def calculate_mean(dataframe, column, genres):\n",
    "    mean_list = []\n",
    "    df_without_outlier = drop_outliers(dataframe, column)\n",
    "    \n",
    "    for genre in genres:\n",
    "        mean = round(df_without_outlier[df_without_outlier[\"genres\"].str.contains(genre)==True].mean(),2)\n",
    "        mean_list.append(mean[column])\n",
    "    \n",
    "    return mean_list"
   ]
  },
  {
   "cell_type": "code",
   "execution_count": null,
   "metadata": {},
   "outputs": [],
   "source": [
    "def conservative_ranking(genre, col1, col2):\n",
    "    weighted_output = []\n",
    "    \n",
    "    for film in genre:\n",
    "        weighted_sum = ((0.4 * df_mean.loc[film, col1])\n",
    "                        + (0.6 * df_mean.loc[film, col2]))\n",
    "        weighted_output.append(weighted_sum)\n",
    "    \n",
    "    return weighted_output"
   ]
  },
  {
   "cell_type": "code",
   "execution_count": null,
   "metadata": {},
   "outputs": [],
   "source": [
    "def compromised_ranking(genre, col1, col2, col3):\n",
    "    weighted_output = []\n",
    "    \n",
    "    for film in genre:\n",
    "        weighted_sum = ((0.2 * df_mean.loc[film, col1])\n",
    "                        + (0.4 * df_mean.loc[film, col2])\n",
    "                        + (0.4 * df_mean.loc[film, col3]))\n",
    "        weighted_output.append(weighted_sum)\n",
    "    \n",
    "    return weighted_output"
   ]
  },
  {
   "cell_type": "code",
   "execution_count": null,
   "metadata": {},
   "outputs": [],
   "source": [
    "def aggressive_ranking(genre, col1, col2, col3):\n",
    "    weighted_output = []\n",
    "    \n",
    "    for film in genre:\n",
    "        weighted_sum = ((0.3 * df_mean.loc[film, col1])\n",
    "                        + (0.4 * df_mean.loc[film, col2])\n",
    "                        + (0.3 * df_mean.loc[film, col3]))\n",
    "        weighted_output.append(weighted_sum)\n",
    "    \n",
    "    return weighted_output"
   ]
  },
  {
   "cell_type": "code",
   "execution_count": null,
   "metadata": {},
   "outputs": [],
   "source": [
    "# Percent Weight Bar Graph\n",
    "def percent_weight_bar_graph(dataframe, x_value, y_value, hue_value):\n",
    "    g = sns.catplot(x=x_value, y=y_value, hue=hue_value, data=dataframe, kind=\"bar\")\n",
    "    sns.despine(left=False, bottom=False)\n",
    "    \n",
    "    g.fig.set_size_inches(10, 5)\n",
    "    \n",
    "    plt.ylabel(\"Weight Percentages\")\n",
    "    plt.xlabel(\"Ranking Type\")\n",
    "    plt.title(\"Percent of Weights\")\n",
    "    \n",
    "    plt.subplots_adjust(top=0.9)\n",
    "    \n",
    "    plt.savefig(\"percent_of_weights_bar.png\")\n",
    "    \n",
    "    plt.show()"
   ]
  },
  {
   "cell_type": "code",
   "execution_count": null,
   "metadata": {},
   "outputs": [],
   "source": [
    "def weighted_ranking_bar_graph(dataframe, column, title):\n",
    "    plt.figure(figsize = (12,7))\n",
    "\n",
    "    ordered_rankings = dataframe.sort_values(by=[column])\n",
    "    values = np.array(ordered_rankings[column]) \n",
    "    clrs = ['dodgerblue' if (x < max(values) and x > min(values)) else 'salmon' for x in values]\n",
    "\n",
    "    sns.barplot(ordered_rankings.index, values, palette = clrs)\n",
    "    sns.despine(left=False, bottom=False)\n",
    "    \n",
    "    plt.ylabel(\"Weighted Sum of Averages\")\n",
    "    plt.xlabel(\"Genres\")\n",
    "    plt.title(title)\n",
    "    \n",
    "    plt.savefig(f\"{title}_bar.png\")\n",
    "    \n",
    "    plt.show()"
   ]
  },
  {
   "cell_type": "code",
   "execution_count": null,
   "metadata": {},
   "outputs": [],
   "source": [
    "def weighted_ranking_box_plot(dataframe, column, title):\n",
    "    sns.boxplot(dataframe[column], color=\"lightsalmon\")\n",
    "    sns.despine(left=True)\n",
    "    \n",
    "    plt.xlabel(\"Weighted Sum of Averages\")\n",
    "    plt.title(f\"{title} Distribution\")\n",
    "    \n",
    "    plt.savefig(f\"{title}_box.png\")\n",
    "    \n",
    "    plt.show()"
   ]
  },
  {
   "cell_type": "code",
   "execution_count": null,
   "metadata": {},
   "outputs": [],
   "source": [
    "def min_and_max_values(dataframe, column):\n",
    "    return dataframe.loc[(dataframe[column] == dataframe[column].min())\n",
    "                    | (dataframe[column] == dataframe[column].max())][column]"
   ]
  },
  {
   "cell_type": "markdown",
   "metadata": {},
   "source": [
    "### 1. Data Cleanup"
   ]
  },
  {
   "cell_type": "markdown",
   "metadata": {},
   "source": [
    "### Read data"
   ]
  },
  {
   "cell_type": "code",
   "execution_count": null,
   "metadata": {},
   "outputs": [],
   "source": [
    "df_budgets = pd.read_csv(\"files/tn.movie_budgets.csv\")\n",
    "df_popularity = pd.read_csv(\"files/tmdb.movies.csv\")\n",
    "df_basics = pd.read_csv(\"files/imdb.title.basics.csv\")"
   ]
  },
  {
   "cell_type": "markdown",
   "metadata": {},
   "source": [
    "### Update Formats"
   ]
  },
  {
   "cell_type": "markdown",
   "metadata": {},
   "source": [
    "##### 1) Turn numeric object from string to integer"
   ]
  },
  {
   "cell_type": "code",
   "execution_count": null,
   "metadata": {},
   "outputs": [],
   "source": [
    "turn_to_int(df_budgets, \"production_budget\")\n",
    "turn_to_int(df_budgets, \"domestic_gross\")\n",
    "turn_to_int(df_budgets, \"worldwide_gross\")"
   ]
  },
  {
   "cell_type": "markdown",
   "metadata": {},
   "source": [
    "##### 2) Turn non-numeric object from integer to string"
   ]
  },
  {
   "cell_type": "code",
   "execution_count": null,
   "metadata": {},
   "outputs": [],
   "source": [
    "turn_to_obj(df_basics, \"start_year\")"
   ]
  },
  {
   "cell_type": "markdown",
   "metadata": {},
   "source": [
    "### Drop Columns\n"
   ]
  },
  {
   "cell_type": "code",
   "execution_count": null,
   "metadata": {},
   "outputs": [],
   "source": [
    "drop_columns(df_popularity, [\"id\", \"Unnamed: 0\", \"genre_ids\",\n",
    "                             \"original_title\", \"original_language\"])"
   ]
  },
  {
   "cell_type": "code",
   "execution_count": null,
   "metadata": {},
   "outputs": [],
   "source": [
    "drop_columns(df_budgets, [\"id\", \"release_date\"])"
   ]
  },
  {
   "cell_type": "code",
   "execution_count": null,
   "metadata": {},
   "outputs": [],
   "source": [
    "drop_columns(df_basics, [\"tconst\", \"runtime_minutes\", \"original_title\"])"
   ]
  },
  {
   "cell_type": "markdown",
   "metadata": {},
   "source": [
    "### Merge datasets\n",
    "\n",
    "##### 1) Rename"
   ]
  },
  {
   "cell_type": "code",
   "execution_count": null,
   "metadata": {},
   "outputs": [],
   "source": [
    "df_budgets.rename(columns = {\"movie\": \"title\"}, inplace=True)"
   ]
  },
  {
   "cell_type": "code",
   "execution_count": null,
   "metadata": {},
   "outputs": [],
   "source": [
    "df_basics.rename(columns = {\"primary_title\": \"title\"}, inplace=True)"
   ]
  },
  {
   "cell_type": "markdown",
   "metadata": {},
   "source": [
    "##### 2) Merge"
   ]
  },
  {
   "cell_type": "code",
   "execution_count": null,
   "metadata": {},
   "outputs": [],
   "source": [
    "df_movie = merge_dataframes(df_popularity, df_budgets)\n",
    "df_movies_final = merge_dataframes(df_basics, df_movie)"
   ]
  },
  {
   "cell_type": "markdown",
   "metadata": {},
   "source": [
    "### Missing Values"
   ]
  },
  {
   "cell_type": "code",
   "execution_count": null,
   "metadata": {
    "scrolled": true
   },
   "outputs": [],
   "source": [
    "df_movies_final.release_date.fillna(df_movies_final.start_year, inplace=True)"
   ]
  },
  {
   "cell_type": "code",
   "execution_count": null,
   "metadata": {},
   "outputs": [],
   "source": [
    "drop_columns(df_movies_final, \"start_year\")"
   ]
  },
  {
   "cell_type": "markdown",
   "metadata": {},
   "source": [
    "### New Columns"
   ]
  },
  {
   "cell_type": "code",
   "execution_count": null,
   "metadata": {},
   "outputs": [],
   "source": [
    "df_movies_final[\"foreign_gross\"] = ((df_movies_final.worldwide_gross\n",
    "                                     - df_movies_final.domestic_gross))"
   ]
  },
  {
   "cell_type": "code",
   "execution_count": null,
   "metadata": {},
   "outputs": [],
   "source": [
    "df_movies_final[\"net_profit\"] = ((df_movies_final.worldwide_gross\n",
    "                                  - df_movies_final.production_budget))"
   ]
  },
  {
   "cell_type": "markdown",
   "metadata": {},
   "source": [
    "### 2. Exploration"
   ]
  },
  {
   "cell_type": "markdown",
   "metadata": {},
   "source": [
    "##### Calculate Mean of DataFrame without Outliers"
   ]
  },
  {
   "cell_type": "markdown",
   "metadata": {},
   "source": [
    "1) Find Interquartile Range to calculate Outliers"
   ]
  },
  {
   "cell_type": "code",
   "execution_count": null,
   "metadata": {},
   "outputs": [],
   "source": [
    "calculate_interquartile_range(df_movies_final,\n",
    "                              [\"popularity\", \"vote_average\", \"vote_count\"])"
   ]
  },
  {
   "cell_type": "code",
   "execution_count": null,
   "metadata": {},
   "outputs": [],
   "source": [
    "genre = [\"Action\", \"Adventure\", \"Animation\", \"Comedy\", \"Crime\", \"Drama\",\n",
    "         \"Fantasy\", \"Horror\", \"Mystery\", \"Romance\", \"Sci-Fi\", \"Thriller\"]"
   ]
  },
  {
   "cell_type": "markdown",
   "metadata": {},
   "source": [
    "2) Create new DataFrame of Means for each column based on Genre"
   ]
  },
  {
   "cell_type": "code",
   "execution_count": null,
   "metadata": {},
   "outputs": [],
   "source": [
    "df_mean = pd.DataFrame(genre, columns=['genres'])\n",
    "df_mean.set_index('genres', inplace=True)"
   ]
  },
  {
   "cell_type": "code",
   "execution_count": null,
   "metadata": {},
   "outputs": [],
   "source": [
    "df_mean[\"production_budget\"] = calculate_mean(df_movies_final, \"production_budget\", genre)\n",
    "\n",
    "df_mean[\"domestic_gross\"] = calculate_mean(df_movies_final, \"domestic_gross\", genre)\n",
    "\n",
    "df_mean[\"foreign_gross\"] = calculate_mean(df_movies_final, \"foreign_gross\", genre)\n",
    "\n",
    "df_mean[\"worldwide_gross\"] = calculate_mean(df_movies_final, \"worldwide_gross\", genre)\n",
    "\n",
    "df_mean[\"net_profit\"] = calculate_mean(df_movies_final, \"net_profit\", genre)\n",
    "\n",
    "df_mean[\"popularity\"] = calculate_mean(df_movies_final, \"popularity\", genre)\n",
    "\n",
    "df_mean[\"vote_average\"] = calculate_mean(df_movies_final, \"vote_average\", genre)\n",
    "\n",
    "df_mean[\"vote_count\"] = calculate_mean(df_movies_final, \"vote_count\", genre)\n",
    "\n",
    "df_mean"
   ]
  },
  {
   "cell_type": "markdown",
   "metadata": {},
   "source": [
    "##### Calculate weighted rankings for each genre\n",
    "\n",
    "    - Conservative \n",
    "    - Compromised\n",
    "    - Aggressive"
   ]
  },
  {
   "cell_type": "code",
   "execution_count": null,
   "metadata": {},
   "outputs": [],
   "source": [
    "df_rankings = pd.DataFrame(genre, columns=[\"genres\"])\n",
    "df_rankings.set_index('genres', inplace=True)"
   ]
  },
  {
   "cell_type": "code",
   "execution_count": null,
   "metadata": {},
   "outputs": [],
   "source": [
    "df_rankings[\"conservative\"] = conservative_ranking(df_rankings.index, \"production_budget\", \"domestic_gross\")\n",
    "\n",
    "df_rankings[\"compromised\"] = compromised_ranking(df_rankings.index, \"production_budget\", \"domestic_gross\", \"foreign_gross\")\n",
    "\n",
    "df_rankings[\"aggressive\"] = aggressive_ranking(df_rankings.index, \"popularity\", \"vote_average\", \"vote_count\")\n",
    "\n",
    "df_rankings"
   ]
  }
 ],
 "metadata": {
  "kernelspec": {
   "display_name": "Python 3",
   "language": "python",
   "name": "python3"
  },
  "language_info": {
   "codemirror_mode": {
    "name": "ipython",
    "version": 3
   },
   "file_extension": ".py",
   "mimetype": "text/x-python",
   "name": "python",
   "nbconvert_exporter": "python",
   "pygments_lexer": "ipython3",
   "version": "3.7.3"
  }
 },
 "nbformat": 4,
 "nbformat_minor": 2
}
