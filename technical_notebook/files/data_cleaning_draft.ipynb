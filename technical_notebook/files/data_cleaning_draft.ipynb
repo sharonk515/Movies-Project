{
 "cells": [
  {
   "cell_type": "markdown",
   "metadata": {},
   "source": [
    "### Plan\n",
    "\n",
    "1. Data cleanup\n",
    "    - Formatting issues\n",
    "    - Missing values\n",
    " \n",
    "\n",
    "2. Exploration\n",
    "    - Visualizations\n",
    "\n",
    "\n",
    "3. Evaluation"
   ]
  },
  {
   "cell_type": "markdown",
   "metadata": {},
   "source": [
    "### Import Packages"
   ]
  },
  {
   "cell_type": "code",
   "execution_count": 1,
   "metadata": {},
   "outputs": [],
   "source": [
    "import pandas as pd\n",
    "import matplotlib.pyplot as plt\n",
    "import seaborn as sns"
   ]
  },
  {
   "cell_type": "markdown",
   "metadata": {},
   "source": [
    "### Functions"
   ]
  },
  {
   "cell_type": "code",
   "execution_count": 2,
   "metadata": {},
   "outputs": [],
   "source": [
    "def turn_to_int(dataframe, column):\n",
    "    dataframe[column] = dataframe[column].apply(lambda x: x.replace(\"$\", \"\"))\n",
    "    dataframe[column] = dataframe[column].apply(lambda x: x.replace(\",\", \"\"))\n",
    "    dataframe[column] = dataframe[column].astype(int)"
   ]
  },
  {
   "cell_type": "code",
   "execution_count": 3,
   "metadata": {},
   "outputs": [],
   "source": [
    "def turn_to_obj(dataframe, column):\n",
    "    dataframe[column] = dataframe[column].astype(str)"
   ]
  },
  {
   "cell_type": "code",
   "execution_count": 4,
   "metadata": {},
   "outputs": [],
   "source": [
    "def drop_columns(dataframe, column):\n",
    "    dataframe.drop(column, inplace=True, axis=1)"
   ]
  },
  {
   "cell_type": "code",
   "execution_count": 5,
   "metadata": {},
   "outputs": [],
   "source": [
    "def merge_dataframes(df_1, df_2):\n",
    "    df_movies = pd.merge(df_1, df_2, how=\"left\", on=\"title\")\n",
    "    \n",
    "    return df_movies"
   ]
  },
  {
   "cell_type": "code",
   "execution_count": 6,
   "metadata": {},
   "outputs": [],
   "source": [
    "def calculate_interquartile_range(dataframe, column):\n",
    "    return (dataframe[column].describe().iloc[6]\n",
    "            - dataframe[column].describe().iloc[4])"
   ]
  },
  {
   "cell_type": "code",
   "execution_count": 33,
   "metadata": {},
   "outputs": [],
   "source": [
    "def drop_outliers(dataframe, column):\n",
    "    lower_outlier = (dataframe[column].describe().loc[\"25%\"]\n",
    "                     - (1.5 * calculate_interquartile_range(dataframe, column)))\n",
    "    upper_outlier = (dataframe[column].describe().loc[\"75%\"]\n",
    "                     + (1.5 * calculate_interquartile_range(dataframe, column)))\n",
    "    \n",
    "    return dataframe[(dataframe[column] > lower_outlier)\n",
    "                & (dataframe[column] < upper_outlier)]"
   ]
  },
  {
   "cell_type": "code",
   "execution_count": 8,
   "metadata": {},
   "outputs": [],
   "source": [
    "def calculate_mean(dataframe, column, genres):\n",
    "    mean_list = []\n",
    "    df_without_outlier = drop_outliers(dataframe, column)\n",
    "    \n",
    "    for genre in genres:\n",
    "        mean = round(df_without_outlier[df_without_outlier[\"genres\"].str.contains(genre)==True].mean(),2)\n",
    "        mean_list.append(mean[column])\n",
    "    \n",
    "    return mean_list"
   ]
  },
  {
   "cell_type": "code",
   "execution_count": 9,
   "metadata": {},
   "outputs": [],
   "source": [
    "def conservative_ranking(genre, col1, col2):\n",
    "    weighted_output = []\n",
    "    \n",
    "    for film in genre:\n",
    "        weighted_sum = ((0.4 * df_mean.loc[film, col1])\n",
    "                        + (0.6 * df_mean.loc[film, col2]))\n",
    "        weighted_output.append(weighted_sum)\n",
    "    \n",
    "    return weighted_output"
   ]
  },
  {
   "cell_type": "code",
   "execution_count": 10,
   "metadata": {},
   "outputs": [],
   "source": [
    "def compromised_ranking(genre, col1, col2, col3):\n",
    "    weighted_output = []\n",
    "    \n",
    "    for film in genre:\n",
    "        weighted_sum = ((0.2 * df_mean.loc[film, col1])\n",
    "                        + (0.4 * df_mean.loc[film, col2])\n",
    "                        + (0.4 * df_mean.loc[film, col3]))\n",
    "        weighted_output.append(weighted_sum)\n",
    "    \n",
    "    return weighted_output"
   ]
  },
  {
   "cell_type": "code",
   "execution_count": 11,
   "metadata": {},
   "outputs": [],
   "source": [
    "def aggressive_ranking(genre, col1, col2, col3):\n",
    "    weighted_output = []\n",
    "    \n",
    "    for film in genre:\n",
    "        weighted_sum = ((0.3 * df_mean.loc[film, col1])\n",
    "                        + (0.4 * df_mean.loc[film, col2])\n",
    "                        + (0.3 * df_mean.loc[film, col3]))\n",
    "        weighted_output.append(weighted_sum)\n",
    "    \n",
    "    return weighted_output"
   ]
  },
  {
   "cell_type": "code",
   "execution_count": 12,
   "metadata": {},
   "outputs": [],
   "source": [
    "# Percent Weight Bar Graph\n",
    "def percent_weight_bar_graph(dataframe, x_value, y_value, hue_value):\n",
    "    g = sns.catplot(x=x_value, y=y_value, hue=hue_value, data=dataframe, kind=\"bar\")\n",
    "    sns.despine(left=False, bottom=False)\n",
    "    \n",
    "    g.fig.set_size_inches(10, 5)\n",
    "    \n",
    "    plt.ylabel(\"Weight Percentages\")\n",
    "    plt.xlabel(\"Ranking Type\")\n",
    "    plt.title(\"Percent of Weights\")\n",
    "    \n",
    "    plt.subplots_adjust(top=0.9)\n",
    "    \n",
    "    plt.savefig(\"percent_of_weights_bar.png\")\n",
    "    \n",
    "    plt.show()"
   ]
  },
  {
   "cell_type": "code",
   "execution_count": 13,
   "metadata": {},
   "outputs": [],
   "source": [
    "def weighted_ranking_bar_graph(dataframe, column, title):\n",
    "    plt.figure(figsize = (12,7))\n",
    "\n",
    "    ordered_rankings = dataframe.sort_values(by=[column])\n",
    "    values = np.array(ordered_rankings[column]) \n",
    "    clrs = ['dodgerblue' if (x < max(values) and x > min(values)) else 'salmon' for x in values]\n",
    "\n",
    "    sns.barplot(ordered_rankings.index, values, palette = clrs)\n",
    "    sns.despine(left=False, bottom=False)\n",
    "    \n",
    "    plt.ylabel(\"Weighted Sum of Averages\")\n",
    "    plt.xlabel(\"Genres\")\n",
    "    plt.title(title)\n",
    "    \n",
    "    plt.savefig(f\"{title}_bar.png\")\n",
    "    \n",
    "    plt.show()"
   ]
  },
  {
   "cell_type": "code",
   "execution_count": 14,
   "metadata": {},
   "outputs": [],
   "source": [
    "def weighted_ranking_box_plot(dataframe, column, title):\n",
    "    sns.boxplot(dataframe[column], color=\"lightsalmon\")\n",
    "    sns.despine(left=True)\n",
    "    \n",
    "    plt.xlabel(\"Weighted Sum of Averages\")\n",
    "    plt.title(f\"{title} Distribution\")\n",
    "    \n",
    "    plt.savefig(f\"{title}_box.png\")\n",
    "    \n",
    "    plt.show()"
   ]
  },
  {
   "cell_type": "code",
   "execution_count": 15,
   "metadata": {},
   "outputs": [],
   "source": [
    "def min_and_max_values(dataframe, column):\n",
    "    return dataframe.loc[(dataframe[column] == dataframe[column].min())\n",
    "                    | (dataframe[column] == dataframe[column].max())][column]"
   ]
  },
  {
   "cell_type": "markdown",
   "metadata": {},
   "source": [
    "### 1. Data Cleanup"
   ]
  },
  {
   "cell_type": "markdown",
   "metadata": {},
   "source": [
    "### Read data"
   ]
  },
  {
   "cell_type": "code",
   "execution_count": 16,
   "metadata": {},
   "outputs": [],
   "source": [
    "df_budgets = pd.read_csv(\"tn.movie_budgets.csv\")\n",
    "df_popularity = pd.read_csv(\"tmdb.movies.csv\")\n",
    "df_basics = pd.read_csv(\"imdb.title.basics.csv\")"
   ]
  },
  {
   "cell_type": "markdown",
   "metadata": {},
   "source": [
    "### Update Formats"
   ]
  },
  {
   "cell_type": "markdown",
   "metadata": {},
   "source": [
    "##### 1) Turn numeric object from string to integer"
   ]
  },
  {
   "cell_type": "code",
   "execution_count": 17,
   "metadata": {},
   "outputs": [],
   "source": [
    "turn_to_int(df_budgets, \"production_budget\")\n",
    "turn_to_int(df_budgets, \"domestic_gross\")\n",
    "turn_to_int(df_budgets, \"worldwide_gross\")"
   ]
  },
  {
   "cell_type": "markdown",
   "metadata": {},
   "source": [
    "##### 2) Turn non-numeric object from integer to string"
   ]
  },
  {
   "cell_type": "code",
   "execution_count": 18,
   "metadata": {},
   "outputs": [],
   "source": [
    "turn_to_obj(df_basics, \"start_year\")"
   ]
  },
  {
   "cell_type": "markdown",
   "metadata": {},
   "source": [
    "### Drop Columns\n"
   ]
  },
  {
   "cell_type": "code",
   "execution_count": 19,
   "metadata": {},
   "outputs": [],
   "source": [
    "drop_columns(df_popularity, [\"id\", \"Unnamed: 0\", \"genre_ids\",\n",
    "                             \"original_title\", \"original_language\"])"
   ]
  },
  {
   "cell_type": "code",
   "execution_count": 20,
   "metadata": {},
   "outputs": [],
   "source": [
    "drop_columns(df_budgets, [\"id\", \"release_date\"])"
   ]
  },
  {
   "cell_type": "code",
   "execution_count": 21,
   "metadata": {},
   "outputs": [],
   "source": [
    "drop_columns(df_basics, [\"tconst\", \"runtime_minutes\", \"original_title\"])"
   ]
  },
  {
   "cell_type": "markdown",
   "metadata": {},
   "source": [
    "### Merge datasets\n",
    "\n",
    "##### 1) Rename"
   ]
  },
  {
   "cell_type": "code",
   "execution_count": 22,
   "metadata": {},
   "outputs": [],
   "source": [
    "df_budgets.rename(columns = {\"movie\": \"title\"}, inplace=True)"
   ]
  },
  {
   "cell_type": "code",
   "execution_count": 23,
   "metadata": {},
   "outputs": [],
   "source": [
    "df_basics.rename(columns = {\"primary_title\": \"title\"}, inplace=True)"
   ]
  },
  {
   "cell_type": "markdown",
   "metadata": {},
   "source": [
    "##### 2) Merge"
   ]
  },
  {
   "cell_type": "code",
   "execution_count": 24,
   "metadata": {},
   "outputs": [],
   "source": [
    "df_movie = merge_dataframes(df_popularity, df_budgets)\n",
    "df_movies_final = merge_dataframes(df_basics, df_movie)"
   ]
  },
  {
   "cell_type": "markdown",
   "metadata": {},
   "source": [
    "### Missing Values"
   ]
  },
  {
   "cell_type": "code",
   "execution_count": 25,
   "metadata": {
    "scrolled": true
   },
   "outputs": [],
   "source": [
    "df_movies_final.release_date.fillna(df_movies_final.start_year, inplace=True)"
   ]
  },
  {
   "cell_type": "code",
   "execution_count": 26,
   "metadata": {},
   "outputs": [],
   "source": [
    "drop_columns(df_movies_final, \"start_year\")"
   ]
  },
  {
   "cell_type": "markdown",
   "metadata": {},
   "source": [
    "### New Columns"
   ]
  },
  {
   "cell_type": "code",
   "execution_count": 27,
   "metadata": {},
   "outputs": [],
   "source": [
    "df_movies_final[\"foreign_gross\"] = ((df_movies_final.worldwide_gross\n",
    "                                     - df_movies_final.domestic_gross))"
   ]
  },
  {
   "cell_type": "code",
   "execution_count": 28,
   "metadata": {},
   "outputs": [],
   "source": [
    "df_movies_final[\"net_profit\"] = ((df_movies_final.worldwide_gross\n",
    "                                  - df_movies_final.production_budget))"
   ]
  },
  {
   "cell_type": "markdown",
   "metadata": {},
   "source": [
    "### 2. Exploration"
   ]
  },
  {
   "cell_type": "markdown",
   "metadata": {},
   "source": [
    "##### Calculate Mean of DataFrame without Outliers"
   ]
  },
  {
   "cell_type": "markdown",
   "metadata": {},
   "source": [
    "1) Find Interquartile Range to calculate Outliers"
   ]
  },
  {
   "cell_type": "code",
   "execution_count": 29,
   "metadata": {},
   "outputs": [
    {
     "data": {
      "text/plain": [
       "popularity       5.099\n",
       "vote_average     1.900\n",
       "vote_count      54.000\n",
       "dtype: float64"
      ]
     },
     "execution_count": 29,
     "metadata": {},
     "output_type": "execute_result"
    }
   ],
   "source": [
    "calculate_interquartile_range(df_movies_final,\n",
    "                              [\"popularity\", \"vote_average\", \"vote_count\"])"
   ]
  },
  {
   "cell_type": "code",
   "execution_count": 30,
   "metadata": {},
   "outputs": [],
   "source": [
    "genre = [\"Action\", \"Adventure\", \"Animation\", \"Comedy\", \"Crime\", \"Drama\",\n",
    "         \"Fantasy\", \"Horror\", \"Mystery\", \"Romance\", \"Sci-Fi\", \"Thriller\"]"
   ]
  },
  {
   "cell_type": "markdown",
   "metadata": {},
   "source": [
    "2) Create new DataFrame of Means for each column based on Genre"
   ]
  },
  {
   "cell_type": "code",
   "execution_count": 31,
   "metadata": {},
   "outputs": [],
   "source": [
    "df_mean = pd.DataFrame(genre, columns=['genres'])\n",
    "df_mean.set_index('genres', inplace=True)"
   ]
  },
  {
   "cell_type": "code",
   "execution_count": 34,
   "metadata": {},
   "outputs": [
    {
     "data": {
      "text/html": [
       "<div>\n",
       "<style scoped>\n",
       "    .dataframe tbody tr th:only-of-type {\n",
       "        vertical-align: middle;\n",
       "    }\n",
       "\n",
       "    .dataframe tbody tr th {\n",
       "        vertical-align: top;\n",
       "    }\n",
       "\n",
       "    .dataframe thead th {\n",
       "        text-align: right;\n",
       "    }\n",
       "</style>\n",
       "<table border=\"1\" class=\"dataframe\">\n",
       "  <thead>\n",
       "    <tr style=\"text-align: right;\">\n",
       "      <th></th>\n",
       "      <th>production_budget</th>\n",
       "      <th>domestic_gross</th>\n",
       "      <th>foreign_gross</th>\n",
       "      <th>worldwide_gross</th>\n",
       "      <th>net_profit</th>\n",
       "      <th>popularity</th>\n",
       "      <th>vote_average</th>\n",
       "      <th>vote_count</th>\n",
       "    </tr>\n",
       "    <tr>\n",
       "      <th>genres</th>\n",
       "      <th></th>\n",
       "      <th></th>\n",
       "      <th></th>\n",
       "      <th></th>\n",
       "      <th></th>\n",
       "      <th></th>\n",
       "      <th></th>\n",
       "      <th></th>\n",
       "    </tr>\n",
       "  </thead>\n",
       "  <tbody>\n",
       "    <tr>\n",
       "      <th>Action</th>\n",
       "      <td>30490758.55</td>\n",
       "      <td>30257700.62</td>\n",
       "      <td>28685133.36</td>\n",
       "      <td>59915757.22</td>\n",
       "      <td>25277569.81</td>\n",
       "      <td>4.07</td>\n",
       "      <td>5.60</td>\n",
       "      <td>22.33</td>\n",
       "    </tr>\n",
       "    <tr>\n",
       "      <th>Adventure</th>\n",
       "      <td>33374656.57</td>\n",
       "      <td>35951837.18</td>\n",
       "      <td>31930899.38</td>\n",
       "      <td>66572089.43</td>\n",
       "      <td>30184412.42</td>\n",
       "      <td>4.03</td>\n",
       "      <td>5.89</td>\n",
       "      <td>21.56</td>\n",
       "    </tr>\n",
       "    <tr>\n",
       "      <th>Animation</th>\n",
       "      <td>32450406.50</td>\n",
       "      <td>31866148.40</td>\n",
       "      <td>31416866.92</td>\n",
       "      <td>54508980.93</td>\n",
       "      <td>34694398.45</td>\n",
       "      <td>4.49</td>\n",
       "      <td>6.31</td>\n",
       "      <td>21.04</td>\n",
       "    </tr>\n",
       "    <tr>\n",
       "      <th>Comedy</th>\n",
       "      <td>23592710.77</td>\n",
       "      <td>28117856.98</td>\n",
       "      <td>22454438.29</td>\n",
       "      <td>50223595.40</td>\n",
       "      <td>26407329.02</td>\n",
       "      <td>3.55</td>\n",
       "      <td>5.76</td>\n",
       "      <td>17.99</td>\n",
       "    </tr>\n",
       "    <tr>\n",
       "      <th>Crime</th>\n",
       "      <td>24090947.74</td>\n",
       "      <td>22645401.34</td>\n",
       "      <td>21635241.58</td>\n",
       "      <td>45989445.24</td>\n",
       "      <td>19788747.72</td>\n",
       "      <td>4.09</td>\n",
       "      <td>5.80</td>\n",
       "      <td>23.28</td>\n",
       "    </tr>\n",
       "    <tr>\n",
       "      <th>Drama</th>\n",
       "      <td>17567022.62</td>\n",
       "      <td>18480256.89</td>\n",
       "      <td>17949382.21</td>\n",
       "      <td>36118281.63</td>\n",
       "      <td>16501189.40</td>\n",
       "      <td>3.48</td>\n",
       "      <td>6.00</td>\n",
       "      <td>18.76</td>\n",
       "    </tr>\n",
       "    <tr>\n",
       "      <th>Fantasy</th>\n",
       "      <td>25540303.03</td>\n",
       "      <td>27337646.33</td>\n",
       "      <td>23872271.89</td>\n",
       "      <td>54308639.17</td>\n",
       "      <td>18617069.87</td>\n",
       "      <td>4.01</td>\n",
       "      <td>5.71</td>\n",
       "      <td>19.96</td>\n",
       "    </tr>\n",
       "    <tr>\n",
       "      <th>Horror</th>\n",
       "      <td>16040791.23</td>\n",
       "      <td>19509311.76</td>\n",
       "      <td>19083093.00</td>\n",
       "      <td>38720048.08</td>\n",
       "      <td>21492106.88</td>\n",
       "      <td>3.18</td>\n",
       "      <td>5.05</td>\n",
       "      <td>16.94</td>\n",
       "    </tr>\n",
       "    <tr>\n",
       "      <th>Mystery</th>\n",
       "      <td>19113314.04</td>\n",
       "      <td>25083932.19</td>\n",
       "      <td>25196872.99</td>\n",
       "      <td>48048289.10</td>\n",
       "      <td>27508919.52</td>\n",
       "      <td>3.67</td>\n",
       "      <td>5.54</td>\n",
       "      <td>20.65</td>\n",
       "    </tr>\n",
       "    <tr>\n",
       "      <th>Romance</th>\n",
       "      <td>16027569.74</td>\n",
       "      <td>20741916.30</td>\n",
       "      <td>21677277.86</td>\n",
       "      <td>42193888.11</td>\n",
       "      <td>23195732.36</td>\n",
       "      <td>3.76</td>\n",
       "      <td>5.98</td>\n",
       "      <td>18.98</td>\n",
       "    </tr>\n",
       "    <tr>\n",
       "      <th>Sci-Fi</th>\n",
       "      <td>21588209.31</td>\n",
       "      <td>25429821.16</td>\n",
       "      <td>17869122.67</td>\n",
       "      <td>38903494.94</td>\n",
       "      <td>18980943.19</td>\n",
       "      <td>3.43</td>\n",
       "      <td>5.38</td>\n",
       "      <td>18.40</td>\n",
       "    </tr>\n",
       "    <tr>\n",
       "      <th>Thriller</th>\n",
       "      <td>19629035.68</td>\n",
       "      <td>21211675.41</td>\n",
       "      <td>19765497.62</td>\n",
       "      <td>41191026.89</td>\n",
       "      <td>19417062.58</td>\n",
       "      <td>3.40</td>\n",
       "      <td>5.43</td>\n",
       "      <td>18.76</td>\n",
       "    </tr>\n",
       "  </tbody>\n",
       "</table>\n",
       "</div>"
      ],
      "text/plain": [
       "           production_budget  domestic_gross  foreign_gross  worldwide_gross  \\\n",
       "genres                                                                         \n",
       "Action           30490758.55     30257700.62    28685133.36      59915757.22   \n",
       "Adventure        33374656.57     35951837.18    31930899.38      66572089.43   \n",
       "Animation        32450406.50     31866148.40    31416866.92      54508980.93   \n",
       "Comedy           23592710.77     28117856.98    22454438.29      50223595.40   \n",
       "Crime            24090947.74     22645401.34    21635241.58      45989445.24   \n",
       "Drama            17567022.62     18480256.89    17949382.21      36118281.63   \n",
       "Fantasy          25540303.03     27337646.33    23872271.89      54308639.17   \n",
       "Horror           16040791.23     19509311.76    19083093.00      38720048.08   \n",
       "Mystery          19113314.04     25083932.19    25196872.99      48048289.10   \n",
       "Romance          16027569.74     20741916.30    21677277.86      42193888.11   \n",
       "Sci-Fi           21588209.31     25429821.16    17869122.67      38903494.94   \n",
       "Thriller         19629035.68     21211675.41    19765497.62      41191026.89   \n",
       "\n",
       "            net_profit  popularity  vote_average  vote_count  \n",
       "genres                                                        \n",
       "Action     25277569.81        4.07          5.60       22.33  \n",
       "Adventure  30184412.42        4.03          5.89       21.56  \n",
       "Animation  34694398.45        4.49          6.31       21.04  \n",
       "Comedy     26407329.02        3.55          5.76       17.99  \n",
       "Crime      19788747.72        4.09          5.80       23.28  \n",
       "Drama      16501189.40        3.48          6.00       18.76  \n",
       "Fantasy    18617069.87        4.01          5.71       19.96  \n",
       "Horror     21492106.88        3.18          5.05       16.94  \n",
       "Mystery    27508919.52        3.67          5.54       20.65  \n",
       "Romance    23195732.36        3.76          5.98       18.98  \n",
       "Sci-Fi     18980943.19        3.43          5.38       18.40  \n",
       "Thriller   19417062.58        3.40          5.43       18.76  "
      ]
     },
     "execution_count": 34,
     "metadata": {},
     "output_type": "execute_result"
    }
   ],
   "source": [
    "df_mean[\"production_budget\"] = calculate_mean(df_movies_final, \"production_budget\", genre)\n",
    "\n",
    "df_mean[\"domestic_gross\"] = calculate_mean(df_movies_final, \"domestic_gross\", genre)\n",
    "\n",
    "df_mean[\"foreign_gross\"] = calculate_mean(df_movies_final, \"foreign_gross\", genre)\n",
    "\n",
    "df_mean[\"worldwide_gross\"] = calculate_mean(df_movies_final, \"worldwide_gross\", genre)\n",
    "\n",
    "df_mean[\"net_profit\"] = calculate_mean(df_movies_final, \"net_profit\", genre)\n",
    "\n",
    "df_mean[\"popularity\"] = calculate_mean(df_movies_final, \"popularity\", genre)\n",
    "\n",
    "df_mean[\"vote_average\"] = calculate_mean(df_movies_final, \"vote_average\", genre)\n",
    "\n",
    "df_mean[\"vote_count\"] = calculate_mean(df_movies_final, \"vote_count\", genre)\n",
    "\n",
    "df_mean"
   ]
  },
  {
   "cell_type": "markdown",
   "metadata": {},
   "source": [
    "##### Calculate weighted rankings for each genre\n",
    "\n",
    "    - Conservative \n",
    "    - Compromised\n",
    "    - Aggressive"
   ]
  },
  {
   "cell_type": "code",
   "execution_count": null,
   "metadata": {},
   "outputs": [],
   "source": [
    "df_rankings = pd.DataFrame(genre, columns=[\"genres\"])\n",
    "df_rankings.set_index('genres', inplace=True)"
   ]
  },
  {
   "cell_type": "code",
   "execution_count": null,
   "metadata": {},
   "outputs": [],
   "source": [
    "df_rankings[\"conservative\"] = conservative_ranking(df_rankings.index, \"production_budget\", \"domestic_gross\")\n",
    "\n",
    "df_rankings[\"compromised\"] = compromised_ranking(df_rankings.index, \"production_budget\", \"domestic_gross\", \"foreign_gross\")\n",
    "\n",
    "df_rankings[\"aggressive\"] = aggressive_ranking(df_rankings.index, \"popularity\", \"vote_average\", \"vote_count\")\n",
    "\n",
    "df_rankings"
   ]
  },
  {
   "cell_type": "markdown",
   "metadata": {},
   "source": [
    "### 3. Evaluation: Our recommended movie genres\n",
    "\n",
    "The purpose of the following analysis is to show the executive team our recommendations regarding the potential development of a new movie studio. Using sensitivity analysis, film genres were ranked based on different categories, such as production budget, domestic gross, or vote count. The analysis accounts the implementation of 3 scenarios: 1) Conservative, 2) Compromised, 3) Aggressive. Each scenario assigns different weights across the categories; the weights were assigned based on assumptions and experimentation.\n",
    "\n",
    "##### Types of Rankings:\n",
    "    - Conservative\n",
    "        Takes into account production budget (40%) and domestic gross (60%)\n",
    "\n",
    "    - Compromised\n",
    "        Takes into account production budget (20%), domestic gross (40%), and foreign gross (40%)\n",
    "\n",
    "    - Aggressive\n",
    "        Takes into account popularity (30%), vote average (40%), and vote count (30%)"
   ]
  },
  {
   "cell_type": "code",
   "execution_count": null,
   "metadata": {},
   "outputs": [],
   "source": [
    "percent_weight_bar_graph(df_percent_weight, \"ranking_type\", \"percent\", \"inputs\")"
   ]
  },
  {
   "cell_type": "markdown",
   "metadata": {},
   "source": [
    "![percent_weight](percent_of_weights_bar.png)"
   ]
  },
  {
   "cell_type": "markdown",
   "metadata": {},
   "source": [
    "Finally, the output provides two options per scenario: the lowest and highest ranked genres. Recommendation is to start with the lowest ranked genre for least exposure to potential downside relative to highest ranked genre."
   ]
  },
  {
   "cell_type": "markdown",
   "metadata": {},
   "source": [
    "##### Conservative Ranking:\n",
    "\n",
    "- Graphs in Dollars (Ten Millions)"
   ]
  },
  {
   "cell_type": "code",
   "execution_count": null,
   "metadata": {},
   "outputs": [],
   "source": [
    "#Bar Graph\n",
    "weighted_ranking_bar_graph(df_rankings, \"conservative\", \"Conservative Ranking\")"
   ]
  },
  {
   "cell_type": "markdown",
   "metadata": {},
   "source": [
    "![conservative_bar](Conservative_Ranking.png)"
   ]
  },
  {
   "cell_type": "code",
   "execution_count": null,
   "metadata": {},
   "outputs": [],
   "source": [
    "#Box Plot\n",
    "weighted_ranking_box_plot(df_rankings, \"conservative\", \"Conservative Ranking\")"
   ]
  },
  {
   "cell_type": "markdown",
   "metadata": {},
   "source": [
    "![conservative_box](Conservative_Ranking_box.png)"
   ]
  },
  {
   "cell_type": "markdown",
   "metadata": {},
   "source": [
    "- Output"
   ]
  },
  {
   "cell_type": "code",
   "execution_count": null,
   "metadata": {},
   "outputs": [],
   "source": [
    "min_and_max_values(df_rankings, \"conservative\")"
   ]
  },
  {
   "cell_type": "markdown",
   "metadata": {},
   "source": [
    "Minimum: Lowest budget and lowest domestic sales\n",
    "\n",
    "Maximum: Highest budget and highest domestic sales"
   ]
  },
  {
   "cell_type": "markdown",
   "metadata": {},
   "source": [
    "##### Compromised Ranking:\n",
    "\n",
    "- Graphs in Dollars (Ten Millions)"
   ]
  },
  {
   "cell_type": "code",
   "execution_count": null,
   "metadata": {},
   "outputs": [],
   "source": [
    "#Bar Graph\n",
    "weighted_ranking_bar_graph(df_rankings, \"compromised\", \"Compromised Ranking\")"
   ]
  },
  {
   "cell_type": "markdown",
   "metadata": {},
   "source": [
    "![compromised_bar](Compromised_Ranking.png)"
   ]
  },
  {
   "cell_type": "code",
   "execution_count": null,
   "metadata": {},
   "outputs": [],
   "source": [
    "#Box Plot\n",
    "weighted_ranking_box_graph(df_rankings, \"compromised\", \"Compromised Ranking\")"
   ]
  },
  {
   "cell_type": "markdown",
   "metadata": {},
   "source": [
    "![compromised_box](Compromised_Ranking_box.png)"
   ]
  },
  {
   "cell_type": "markdown",
   "metadata": {},
   "source": [
    "- Output"
   ]
  },
  {
   "cell_type": "code",
   "execution_count": null,
   "metadata": {},
   "outputs": [],
   "source": [
    "min_and_max_values(df_rankings, \"compromised\")"
   ]
  },
  {
   "cell_type": "markdown",
   "metadata": {},
   "source": [
    "Minimum: Lowest budget and lowest domestic and foreign sales\n",
    "\n",
    "Maximum: Highest budget and highest domestic and foreign sales"
   ]
  },
  {
   "cell_type": "markdown",
   "metadata": {},
   "source": [
    "##### Aggressive Ranking:\n",
    "\n",
    "- Graphs in Units"
   ]
  },
  {
   "cell_type": "code",
   "execution_count": null,
   "metadata": {},
   "outputs": [],
   "source": [
    "#Bar Graph\n",
    "weighted_ranking_bar_graph(df_rankings, \"aggressive\", \"Aggressive Ranking\")"
   ]
  },
  {
   "cell_type": "markdown",
   "metadata": {},
   "source": [
    "![aggressive_bar](Aggressive_Ranking.png)"
   ]
  },
  {
   "cell_type": "code",
   "execution_count": null,
   "metadata": {},
   "outputs": [],
   "source": [
    "#Bar Plot\n",
    "weighted_ranking_box_graph(df_rankings, \"aggressive\", \"Aggressive Ranking\")"
   ]
  },
  {
   "cell_type": "markdown",
   "metadata": {},
   "source": [
    "![aggressive_box](Aggressive_Ranking_Box.png)"
   ]
  },
  {
   "cell_type": "markdown",
   "metadata": {},
   "source": [
    "- Output"
   ]
  },
  {
   "cell_type": "code",
   "execution_count": null,
   "metadata": {},
   "outputs": [],
   "source": [
    "min_and_max_values(df_rankings, \"aggressive\")"
   ]
  },
  {
   "cell_type": "markdown",
   "metadata": {},
   "source": [
    "Minimum: Lowest popularity and lowest vote count and average\n",
    "\n",
    "Maximum: Highest popularity and lowest vote count and average"
   ]
  }
 ],
 "metadata": {
  "kernelspec": {
   "display_name": "Python 3",
   "language": "python",
   "name": "python3"
  },
  "language_info": {
   "codemirror_mode": {
    "name": "ipython",
    "version": 3
   },
   "file_extension": ".py",
   "mimetype": "text/x-python",
   "name": "python",
   "nbconvert_exporter": "python",
   "pygments_lexer": "ipython3",
   "version": "3.7.3"
  }
 },
 "nbformat": 4,
 "nbformat_minor": 2
}
