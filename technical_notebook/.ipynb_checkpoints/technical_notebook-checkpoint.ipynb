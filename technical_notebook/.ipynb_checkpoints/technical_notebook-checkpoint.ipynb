{
 "cells": [
  {
   "cell_type": "markdown",
   "metadata": {},
   "source": [
    "### Evaluation: Our recommended movie genres\n",
    "\n",
    "The purpose of the following analysis is to show the executive team our recommendations regarding the potential development of a new movie studio. Using sensitivity analysis, film genres were ranked based on different categories, such as production budget, domestic gross, or vote count. The analysis accounts the implementation of 3 scenarios: 1) Conservative, 2) Compromised, 3) Aggressive. Each scenario assigns different weights across the categories; the weights were assigned based on assumptions and experimentation.\n",
    "\n",
    "##### Types of Rankings:\n",
    "    - Conservative\n",
    "        Takes into account production budget (40%) and domestic gross (60%)\n",
    "\n",
    "    - Compromised\n",
    "        Takes into account production budget (20%), domestic gross (40%), and foreign gross (40%)\n",
    "\n",
    "    - Aggressive\n",
    "        Takes into account popularity (30%), vote average (40%), and vote count (30%)"
   ]
  },
  {
   "cell_type": "markdown",
   "metadata": {},
   "source": [
    "percent_weight_bar_graph(df_percent_weight, \"ranking_type\", \"percent\", \"inputs\")"
   ]
  },
  {
   "cell_type": "markdown",
   "metadata": {},
   "source": [
    "![percent_weight](percent_of_weights_bar.png)"
   ]
  },
  {
   "cell_type": "markdown",
   "metadata": {},
   "source": [
    "Finally, the output provides two options per scenario: the lowest and highest ranked genres. Recommendation is to start with the lowest ranked genre for least exposure to potential downside relative to highest ranked genre."
   ]
  },
  {
   "cell_type": "markdown",
   "metadata": {},
   "source": [
    "##### Conservative Ranking:\n",
    "\n",
    "- Graphs in Dollars (Ten Millions)"
   ]
  },
  {
   "cell_type": "markdown",
   "metadata": {},
   "source": [
    "#Bar Graph\n",
    "weighted_ranking_bar_graph(df_rankings, \"conservative\", \"Conservative Ranking\")"
   ]
  },
  {
   "cell_type": "markdown",
   "metadata": {},
   "source": [
    "![conservative_bar](Conservative_Ranking.png)"
   ]
  },
  {
   "cell_type": "markdown",
   "metadata": {},
   "source": [
    "#Box Plot\n",
    "weighted_ranking_box_plot(df_rankings, \"conservative\", \"Conservative Ranking\")"
   ]
  },
  {
   "cell_type": "markdown",
   "metadata": {},
   "source": [
    "![conservative_box](Conservative_Ranking_box.png)"
   ]
  },
  {
   "cell_type": "markdown",
   "metadata": {},
   "source": [
    "- Output"
   ]
  },
  {
   "cell_type": "markdown",
   "metadata": {},
   "source": [
    "min_and_max_values(df_rankings, \"conservative\")"
   ]
  },
  {
   "cell_type": "markdown",
   "metadata": {},
   "source": [
    "Minimum: Lowest budget and lowest domestic sales\n",
    "\n",
    "Maximum: Highest budget and highest domestic sales"
   ]
  },
  {
   "cell_type": "markdown",
   "metadata": {},
   "source": [
    "##### Compromised Ranking:\n",
    "\n",
    "- Graphs in Dollars (Ten Millions)"
   ]
  },
  {
   "cell_type": "markdown",
   "metadata": {},
   "source": [
    "#Bar Graph\n",
    "weighted_ranking_bar_graph(df_rankings, \"compromised\", \"Compromised Ranking\")"
   ]
  },
  {
   "cell_type": "markdown",
   "metadata": {},
   "source": [
    "![compromised_bar](Compromised_Ranking.png)"
   ]
  },
  {
   "cell_type": "markdown",
   "metadata": {},
   "source": [
    "#Box Plot\n",
    "weighted_ranking_box_graph(df_rankings, \"compromised\", \"Compromised Ranking\")"
   ]
  },
  {
   "cell_type": "markdown",
   "metadata": {},
   "source": [
    "![compromised_box](Compromised_Ranking_box.png)"
   ]
  },
  {
   "cell_type": "markdown",
   "metadata": {},
   "source": [
    "- Output"
   ]
  },
  {
   "cell_type": "markdown",
   "metadata": {},
   "source": [
    "min_and_max_values(df_rankings, \"compromised\")"
   ]
  },
  {
   "cell_type": "markdown",
   "metadata": {},
   "source": [
    "Minimum: Lowest budget and lowest domestic and foreign sales\n",
    "\n",
    "Maximum: Highest budget and highest domestic and foreign sales"
   ]
  },
  {
   "cell_type": "markdown",
   "metadata": {},
   "source": [
    "##### Aggressive Ranking:\n",
    "\n",
    "- Graphs in Units"
   ]
  },
  {
   "cell_type": "markdown",
   "metadata": {},
   "source": [
    "#Bar Graph\n",
    "weighted_ranking_bar_graph(df_rankings, \"aggressive\", \"Aggressive Ranking\")"
   ]
  },
  {
   "cell_type": "markdown",
   "metadata": {},
   "source": [
    "![aggressive_bar](Aggressive_Ranking.png)"
   ]
  },
  {
   "cell_type": "markdown",
   "metadata": {},
   "source": [
    "#Bar Plot\n",
    "weighted_ranking_box_graph(df_rankings, \"aggressive\", \"Aggressive Ranking\")"
   ]
  },
  {
   "cell_type": "markdown",
   "metadata": {},
   "source": [
    "![aggressive_box](Aggressive_Ranking_Box.png)"
   ]
  },
  {
   "cell_type": "markdown",
   "metadata": {},
   "source": [
    "- Output"
   ]
  },
  {
   "cell_type": "markdown",
   "metadata": {},
   "source": [
    "min_and_max_values(df_rankings, \"aggressive\")"
   ]
  },
  {
   "cell_type": "markdown",
   "metadata": {},
   "source": [
    "Minimum: Lowest popularity and lowest vote count and average\n",
    "\n",
    "Maximum: Highest popularity and lowest vote count and average"
   ]
  }
 ],
 "metadata": {
  "kernelspec": {
   "display_name": "Python 3",
   "language": "python",
   "name": "python3"
  },
  "language_info": {
   "codemirror_mode": {
    "name": "ipython",
    "version": 3
   },
   "file_extension": ".py",
   "mimetype": "text/x-python",
   "name": "python",
   "nbconvert_exporter": "python",
   "pygments_lexer": "ipython3",
   "version": "3.7.3"
  }
 },
 "nbformat": 4,
 "nbformat_minor": 2
}
