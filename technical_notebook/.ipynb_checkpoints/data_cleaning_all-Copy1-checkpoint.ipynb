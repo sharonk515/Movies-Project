{
 "cells": [
  {
   "cell_type": "markdown",
   "metadata": {},
   "source": [
    "### Plan\n",
    "\n",
    "1. Data cleanup\n",
    " - Formatting issues\n",
    " - Duplicates\n",
    " - Missing values\n",
    " \n",
    "2. Exploration\n",
    "\n",
    " - visualizations\n",
    "\n",
    "3. Modeling\n",
    "    - \n",
    "\n",
    "4. Evalution\n",
    "    -"
   ]
  },
  {
   "cell_type": "markdown",
   "metadata": {},
   "source": [
    "### Import Packages"
   ]
  },
  {
   "cell_type": "code",
   "execution_count": 202,
   "metadata": {},
   "outputs": [],
   "source": [
    "import pandas as pd\n",
    "import numpy as np\n",
    "import matplotlib.pyplot as plt\n",
    "import seaborn as sns\n",
    "from datetime import datetime\n",
    "import time\n",
    "%matplotlib inline"
   ]
  },
  {
   "cell_type": "markdown",
   "metadata": {},
   "source": [
    "### 1. Data Cleanup for Null Values"
   ]
  },
  {
   "cell_type": "markdown",
   "metadata": {},
   "source": [
    "File name: imdb.title.ratings.csv\n",
    "- No nun values"
   ]
  },
  {
   "cell_type": "markdown",
   "metadata": {},
   "source": [
    "File Name: tmdb.movies.csv\n",
    "- No nun values"
   ]
  },
  {
   "cell_type": "markdown",
   "metadata": {},
   "source": [
    "File Name: tn.movie_budgets.csv\n",
    "- No nun values"
   ]
  },
  {
   "cell_type": "markdown",
   "metadata": {},
   "source": [
    "Data with nun values:"
   ]
  },
  {
   "cell_type": "markdown",
   "metadata": {},
   "source": [
    "File name: bom.movie_gross.csv\n",
    "- leaving null value in data set"
   ]
  },
  {
   "cell_type": "markdown",
   "metadata": {},
   "source": [
    "File Name: imdb.title.akas.csv\n",
    "- leaving null value in data set"
   ]
  },
  {
   "cell_type": "markdown",
   "metadata": {},
   "source": [
    "File Name: imdb.title.basics.csv\n",
    "- leaving null vale in data set"
   ]
  },
  {
   "cell_type": "markdown",
   "metadata": {},
   "source": [
    "### Import data sets\n",
    "- df_ratings #dropped for merge\n",
    "- df_budgets\n",
    "- df_popularity\n",
    "- df_gross\n",
    "- df_akas #dropped for merge\n",
    "- df_basics"
   ]
  },
  {
   "cell_type": "code",
   "execution_count": 2,
   "metadata": {},
   "outputs": [],
   "source": [
    "# Sharon files\n",
    "# df_ratings = pd.read_csv(\"imdb.title.ratings.csv\") dropped for merge\n",
    "df_budgets = pd.read_csv(\"files/tn.movie_budgets.csv\")\n",
    "df_popularity = pd.read_csv(\"files/tmdb.movies.csv\")"
   ]
  },
  {
   "cell_type": "code",
   "execution_count": 3,
   "metadata": {},
   "outputs": [],
   "source": [
    "# Daniel files: bom.movie_gross.csv\"\n",
    "df_gross = pd.read_csv(\"files/bom.movie_gross.csv\")\n",
    "# df_akas = pd.read_csv(\"imdb.title.akas.csv\") dropped for merge\n",
    "df_basics = pd.read_csv(\"files/imdb.title.basics.csv\")"
   ]
  },
  {
   "cell_type": "markdown",
   "metadata": {},
   "source": [
    "### Functions for Formatting"
   ]
  },
  {
   "cell_type": "code",
   "execution_count": 4,
   "metadata": {},
   "outputs": [],
   "source": [
    "# turn object to integer:\n",
    "\n",
    "def turn_to_int(data, column):\n",
    "    data[column] = data[column].apply(lambda x: x.replace(\"$\", \"\"))\n",
    "    data[column] = data[column].apply(lambda x: x.replace(\",\", \"\"))\n",
    "    data[column] = data[column].astype(int)"
   ]
  },
  {
   "cell_type": "code",
   "execution_count": 5,
   "metadata": {},
   "outputs": [],
   "source": [
    "# turn interger into object:\n",
    "def turn_to_obj(data, column):\n",
    "    data[column] = data[column].astype(str)"
   ]
  },
  {
   "cell_type": "code",
   "execution_count": 6,
   "metadata": {},
   "outputs": [],
   "source": [
    "# turn id(int) to id(obj):\n",
    "turn_to_obj(df_budgets, \"id\")"
   ]
  },
  {
   "cell_type": "code",
   "execution_count": 7,
   "metadata": {},
   "outputs": [],
   "source": [
    "# turn from obj to int: budget files, to columns \"production_budget\", \"domestic_gross\", \"worldwide_gross\"\n",
    "turn_to_int(df_budgets, \"production_budget\")\n",
    "turn_to_int(df_budgets, \"domestic_gross\")\n",
    "turn_to_int(df_budgets, \"worldwide_gross\")"
   ]
  },
  {
   "cell_type": "code",
   "execution_count": 8,
   "metadata": {},
   "outputs": [],
   "source": [
    "# from df_basics, turn start_year(int) to str\n",
    "turn_to_obj(df_basics, \"start_year\")"
   ]
  },
  {
   "cell_type": "code",
   "execution_count": 9,
   "metadata": {},
   "outputs": [],
   "source": [
    "# Daniel Files: turn year (int) to year(str)\n",
    "turn_to_obj(df_gross, \"year\")"
   ]
  },
  {
   "cell_type": "markdown",
   "metadata": {},
   "source": [
    "### Drop Columns\n",
    "#from df_movies_final, dropping \"id_x\", \"id_y\", \"release_date_y\", \"start_year\", \"original_title\", \"year\"\n",
    "#we are not taking domestic_gross, foreign_gross from df_gross file\n",
    "#from df_aka file, we are not taking ordering, types, attributes, is_original_title\n",
    "#from df_basics, we are not taking tconst"
   ]
  },
  {
   "cell_type": "code",
   "execution_count": 10,
   "metadata": {},
   "outputs": [],
   "source": [
    "def drop_columns(data, column):\n",
    "    data.drop(column, inplace=True, axis=1)# axis=0 to row, axis=1 to column"
   ]
  },
  {
   "cell_type": "code",
   "execution_count": 10,
   "metadata": {},
   "outputs": [],
   "source": [
    "# from ratings, dropping \"numvotes\"\n",
    "# drop_columns(df_ratings, \"numvotes\")\n",
    "# df_ratings.head()"
   ]
  },
  {
   "cell_type": "code",
   "execution_count": 11,
   "metadata": {},
   "outputs": [],
   "source": [
    "# from df_popularity, dropping \"unnamed\" and \"genre_ids\", \"original_title\"\n",
    "drop_columns(df_popularity, [\"id\", \"Unnamed: 0\", \"genre_ids\", \"original_title\"])"
   ]
  },
  {
   "cell_type": "code",
   "execution_count": 37,
   "metadata": {},
   "outputs": [
    {
     "data": {
      "text/html": [
       "<div>\n",
       "<style scoped>\n",
       "    .dataframe tbody tr th:only-of-type {\n",
       "        vertical-align: middle;\n",
       "    }\n",
       "\n",
       "    .dataframe tbody tr th {\n",
       "        vertical-align: top;\n",
       "    }\n",
       "\n",
       "    .dataframe thead th {\n",
       "        text-align: right;\n",
       "    }\n",
       "</style>\n",
       "<table border=\"1\" class=\"dataframe\">\n",
       "  <thead>\n",
       "    <tr style=\"text-align: right;\">\n",
       "      <th></th>\n",
       "      <th>original_language</th>\n",
       "      <th>popularity</th>\n",
       "      <th>release_date</th>\n",
       "      <th>title</th>\n",
       "      <th>vote_average</th>\n",
       "      <th>vote_count</th>\n",
       "    </tr>\n",
       "  </thead>\n",
       "  <tbody>\n",
       "    <tr>\n",
       "      <th>0</th>\n",
       "      <td>en</td>\n",
       "      <td>33.533</td>\n",
       "      <td>2010-11-19</td>\n",
       "      <td>Harry Potter and the Deathly Hallows: Part 1</td>\n",
       "      <td>7.7</td>\n",
       "      <td>10788</td>\n",
       "    </tr>\n",
       "    <tr>\n",
       "      <th>1</th>\n",
       "      <td>en</td>\n",
       "      <td>28.734</td>\n",
       "      <td>2010-03-26</td>\n",
       "      <td>How to Train Your Dragon</td>\n",
       "      <td>7.7</td>\n",
       "      <td>7610</td>\n",
       "    </tr>\n",
       "    <tr>\n",
       "      <th>2</th>\n",
       "      <td>en</td>\n",
       "      <td>28.515</td>\n",
       "      <td>2010-05-07</td>\n",
       "      <td>Iron Man 2</td>\n",
       "      <td>6.8</td>\n",
       "      <td>12368</td>\n",
       "    </tr>\n",
       "    <tr>\n",
       "      <th>3</th>\n",
       "      <td>en</td>\n",
       "      <td>28.005</td>\n",
       "      <td>1995-11-22</td>\n",
       "      <td>Toy Story</td>\n",
       "      <td>7.9</td>\n",
       "      <td>10174</td>\n",
       "    </tr>\n",
       "    <tr>\n",
       "      <th>4</th>\n",
       "      <td>en</td>\n",
       "      <td>27.920</td>\n",
       "      <td>2010-07-16</td>\n",
       "      <td>Inception</td>\n",
       "      <td>8.3</td>\n",
       "      <td>22186</td>\n",
       "    </tr>\n",
       "  </tbody>\n",
       "</table>\n",
       "</div>"
      ],
      "text/plain": [
       "  original_language  popularity release_date  \\\n",
       "0                en      33.533   2010-11-19   \n",
       "1                en      28.734   2010-03-26   \n",
       "2                en      28.515   2010-05-07   \n",
       "3                en      28.005   1995-11-22   \n",
       "4                en      27.920   2010-07-16   \n",
       "\n",
       "                                          title  vote_average  vote_count  \n",
       "0  Harry Potter and the Deathly Hallows: Part 1           7.7       10788  \n",
       "1                      How to Train Your Dragon           7.7        7610  \n",
       "2                                    Iron Man 2           6.8       12368  \n",
       "3                                     Toy Story           7.9       10174  \n",
       "4                                     Inception           8.3       22186  "
      ]
     },
     "execution_count": 37,
     "metadata": {},
     "output_type": "execute_result"
    }
   ],
   "source": [
    "df_popularity.head()"
   ]
  },
  {
   "cell_type": "code",
   "execution_count": 12,
   "metadata": {},
   "outputs": [
    {
     "data": {
      "text/html": [
       "<div>\n",
       "<style scoped>\n",
       "    .dataframe tbody tr th:only-of-type {\n",
       "        vertical-align: middle;\n",
       "    }\n",
       "\n",
       "    .dataframe tbody tr th {\n",
       "        vertical-align: top;\n",
       "    }\n",
       "\n",
       "    .dataframe thead th {\n",
       "        text-align: right;\n",
       "    }\n",
       "</style>\n",
       "<table border=\"1\" class=\"dataframe\">\n",
       "  <thead>\n",
       "    <tr style=\"text-align: right;\">\n",
       "      <th></th>\n",
       "      <th>movie</th>\n",
       "      <th>production_budget</th>\n",
       "      <th>domestic_gross</th>\n",
       "      <th>worldwide_gross</th>\n",
       "    </tr>\n",
       "  </thead>\n",
       "  <tbody>\n",
       "    <tr>\n",
       "      <th>0</th>\n",
       "      <td>Avatar</td>\n",
       "      <td>425000000</td>\n",
       "      <td>760507625</td>\n",
       "      <td>2776345279</td>\n",
       "    </tr>\n",
       "    <tr>\n",
       "      <th>1</th>\n",
       "      <td>Pirates of the Caribbean: On Stranger Tides</td>\n",
       "      <td>410600000</td>\n",
       "      <td>241063875</td>\n",
       "      <td>1045663875</td>\n",
       "    </tr>\n",
       "    <tr>\n",
       "      <th>2</th>\n",
       "      <td>Dark Phoenix</td>\n",
       "      <td>350000000</td>\n",
       "      <td>42762350</td>\n",
       "      <td>149762350</td>\n",
       "    </tr>\n",
       "    <tr>\n",
       "      <th>3</th>\n",
       "      <td>Avengers: Age of Ultron</td>\n",
       "      <td>330600000</td>\n",
       "      <td>459005868</td>\n",
       "      <td>1403013963</td>\n",
       "    </tr>\n",
       "    <tr>\n",
       "      <th>4</th>\n",
       "      <td>Star Wars Ep. VIII: The Last Jedi</td>\n",
       "      <td>317000000</td>\n",
       "      <td>620181382</td>\n",
       "      <td>1316721747</td>\n",
       "    </tr>\n",
       "  </tbody>\n",
       "</table>\n",
       "</div>"
      ],
      "text/plain": [
       "                                         movie  production_budget  \\\n",
       "0                                       Avatar          425000000   \n",
       "1  Pirates of the Caribbean: On Stranger Tides          410600000   \n",
       "2                                 Dark Phoenix          350000000   \n",
       "3                      Avengers: Age of Ultron          330600000   \n",
       "4            Star Wars Ep. VIII: The Last Jedi          317000000   \n",
       "\n",
       "   domestic_gross  worldwide_gross  \n",
       "0       760507625       2776345279  \n",
       "1       241063875       1045663875  \n",
       "2        42762350        149762350  \n",
       "3       459005868       1403013963  \n",
       "4       620181382       1316721747  "
      ]
     },
     "execution_count": 12,
     "metadata": {},
     "output_type": "execute_result"
    }
   ],
   "source": [
    "# from df_budgets, dropping \"id\" and \"release_date\"\n",
    "drop_columns(df_budgets, [\"id\", \"release_date\"])\n",
    "df_budgets.head()"
   ]
  },
  {
   "cell_type": "code",
   "execution_count": 13,
   "metadata": {},
   "outputs": [],
   "source": [
    "# from df_gross, dropping \"foreign_gross\" and \"domestic_gross\"\n",
    "drop_columns(df_gross, [\"domestic_gross\", \"foreign_gross\", \"year\"])"
   ]
  },
  {
   "cell_type": "code",
   "execution_count": 40,
   "metadata": {},
   "outputs": [
    {
     "data": {
      "text/html": [
       "<div>\n",
       "<style scoped>\n",
       "    .dataframe tbody tr th:only-of-type {\n",
       "        vertical-align: middle;\n",
       "    }\n",
       "\n",
       "    .dataframe tbody tr th {\n",
       "        vertical-align: top;\n",
       "    }\n",
       "\n",
       "    .dataframe thead th {\n",
       "        text-align: right;\n",
       "    }\n",
       "</style>\n",
       "<table border=\"1\" class=\"dataframe\">\n",
       "  <thead>\n",
       "    <tr style=\"text-align: right;\">\n",
       "      <th></th>\n",
       "      <th>title</th>\n",
       "      <th>studio</th>\n",
       "    </tr>\n",
       "  </thead>\n",
       "  <tbody>\n",
       "    <tr>\n",
       "      <th>0</th>\n",
       "      <td>Toy Story 3</td>\n",
       "      <td>BV</td>\n",
       "    </tr>\n",
       "    <tr>\n",
       "      <th>1</th>\n",
       "      <td>Alice in Wonderland (2010)</td>\n",
       "      <td>BV</td>\n",
       "    </tr>\n",
       "    <tr>\n",
       "      <th>2</th>\n",
       "      <td>Harry Potter and the Deathly Hallows Part 1</td>\n",
       "      <td>WB</td>\n",
       "    </tr>\n",
       "    <tr>\n",
       "      <th>3</th>\n",
       "      <td>Inception</td>\n",
       "      <td>WB</td>\n",
       "    </tr>\n",
       "    <tr>\n",
       "      <th>4</th>\n",
       "      <td>Shrek Forever After</td>\n",
       "      <td>P/DW</td>\n",
       "    </tr>\n",
       "  </tbody>\n",
       "</table>\n",
       "</div>"
      ],
      "text/plain": [
       "                                         title studio\n",
       "0                                  Toy Story 3     BV\n",
       "1                   Alice in Wonderland (2010)     BV\n",
       "2  Harry Potter and the Deathly Hallows Part 1     WB\n",
       "3                                    Inception     WB\n",
       "4                          Shrek Forever After   P/DW"
      ]
     },
     "execution_count": 40,
     "metadata": {},
     "output_type": "execute_result"
    }
   ],
   "source": [
    "df_gross.head()"
   ]
  },
  {
   "cell_type": "code",
   "execution_count": 41,
   "metadata": {},
   "outputs": [],
   "source": [
    "# from df_akas, dropping \"ordering\", \"types\", \"attributes\", \"is_original_title\"\n",
    "# drop_columns(df_akas, [\"ordering\", \"types\", \"attributes\", \"is_original_title\"])\n",
    "# df_akas.head()"
   ]
  },
  {
   "cell_type": "code",
   "execution_count": 14,
   "metadata": {},
   "outputs": [],
   "source": [
    "# from df_basics, dropping \"tconst\", \"start_year\"\n",
    "drop_columns(df_basics, [\"tconst\", \"original_title\"])"
   ]
  },
  {
   "cell_type": "code",
   "execution_count": 43,
   "metadata": {},
   "outputs": [
    {
     "data": {
      "text/html": [
       "<div>\n",
       "<style scoped>\n",
       "    .dataframe tbody tr th:only-of-type {\n",
       "        vertical-align: middle;\n",
       "    }\n",
       "\n",
       "    .dataframe tbody tr th {\n",
       "        vertical-align: top;\n",
       "    }\n",
       "\n",
       "    .dataframe thead th {\n",
       "        text-align: right;\n",
       "    }\n",
       "</style>\n",
       "<table border=\"1\" class=\"dataframe\">\n",
       "  <thead>\n",
       "    <tr style=\"text-align: right;\">\n",
       "      <th></th>\n",
       "      <th>primary_title</th>\n",
       "      <th>start_year</th>\n",
       "      <th>runtime_minutes</th>\n",
       "      <th>genres</th>\n",
       "    </tr>\n",
       "  </thead>\n",
       "  <tbody>\n",
       "    <tr>\n",
       "      <th>0</th>\n",
       "      <td>Sunghursh</td>\n",
       "      <td>2013</td>\n",
       "      <td>175.0</td>\n",
       "      <td>Action,Crime,Drama</td>\n",
       "    </tr>\n",
       "    <tr>\n",
       "      <th>1</th>\n",
       "      <td>One Day Before the Rainy Season</td>\n",
       "      <td>2019</td>\n",
       "      <td>114.0</td>\n",
       "      <td>Biography,Drama</td>\n",
       "    </tr>\n",
       "    <tr>\n",
       "      <th>2</th>\n",
       "      <td>The Other Side of the Wind</td>\n",
       "      <td>2018</td>\n",
       "      <td>122.0</td>\n",
       "      <td>Drama</td>\n",
       "    </tr>\n",
       "    <tr>\n",
       "      <th>3</th>\n",
       "      <td>Sabse Bada Sukh</td>\n",
       "      <td>2018</td>\n",
       "      <td>NaN</td>\n",
       "      <td>Comedy,Drama</td>\n",
       "    </tr>\n",
       "    <tr>\n",
       "      <th>4</th>\n",
       "      <td>The Wandering Soap Opera</td>\n",
       "      <td>2017</td>\n",
       "      <td>80.0</td>\n",
       "      <td>Comedy,Drama,Fantasy</td>\n",
       "    </tr>\n",
       "  </tbody>\n",
       "</table>\n",
       "</div>"
      ],
      "text/plain": [
       "                     primary_title start_year  runtime_minutes  \\\n",
       "0                        Sunghursh       2013            175.0   \n",
       "1  One Day Before the Rainy Season       2019            114.0   \n",
       "2       The Other Side of the Wind       2018            122.0   \n",
       "3                  Sabse Bada Sukh       2018              NaN   \n",
       "4         The Wandering Soap Opera       2017             80.0   \n",
       "\n",
       "                 genres  \n",
       "0    Action,Crime,Drama  \n",
       "1       Biography,Drama  \n",
       "2                 Drama  \n",
       "3          Comedy,Drama  \n",
       "4  Comedy,Drama,Fantasy  "
      ]
     },
     "execution_count": 43,
     "metadata": {},
     "output_type": "execute_result"
    }
   ],
   "source": [
    "df_basics.head()"
   ]
  },
  {
   "cell_type": "markdown",
   "metadata": {},
   "source": [
    "### Merge datasets"
   ]
  },
  {
   "cell_type": "code",
   "execution_count": 44,
   "metadata": {},
   "outputs": [
    {
     "name": "stdout",
     "output_type": "stream",
     "text": [
      "(3387, 2)\n",
      "(26517, 6)\n"
     ]
    }
   ],
   "source": [
    "print(df_gross.shape)\n",
    "print(df_popularity.shape)"
   ]
  },
  {
   "cell_type": "code",
   "execution_count": 15,
   "metadata": {
    "scrolled": true
   },
   "outputs": [
    {
     "data": {
      "text/html": [
       "<div>\n",
       "<style scoped>\n",
       "    .dataframe tbody tr th:only-of-type {\n",
       "        vertical-align: middle;\n",
       "    }\n",
       "\n",
       "    .dataframe tbody tr th {\n",
       "        vertical-align: top;\n",
       "    }\n",
       "\n",
       "    .dataframe thead th {\n",
       "        text-align: right;\n",
       "    }\n",
       "</style>\n",
       "<table border=\"1\" class=\"dataframe\">\n",
       "  <thead>\n",
       "    <tr style=\"text-align: right;\">\n",
       "      <th></th>\n",
       "      <th>original_language</th>\n",
       "      <th>popularity</th>\n",
       "      <th>release_date</th>\n",
       "      <th>title</th>\n",
       "      <th>vote_average</th>\n",
       "      <th>vote_count</th>\n",
       "      <th>studio</th>\n",
       "    </tr>\n",
       "  </thead>\n",
       "  <tbody>\n",
       "    <tr>\n",
       "      <th>0</th>\n",
       "      <td>en</td>\n",
       "      <td>33.533</td>\n",
       "      <td>2010-11-19</td>\n",
       "      <td>Harry Potter and the Deathly Hallows: Part 1</td>\n",
       "      <td>7.7</td>\n",
       "      <td>10788</td>\n",
       "      <td>NaN</td>\n",
       "    </tr>\n",
       "    <tr>\n",
       "      <th>1</th>\n",
       "      <td>en</td>\n",
       "      <td>28.734</td>\n",
       "      <td>2010-03-26</td>\n",
       "      <td>How to Train Your Dragon</td>\n",
       "      <td>7.7</td>\n",
       "      <td>7610</td>\n",
       "      <td>P/DW</td>\n",
       "    </tr>\n",
       "    <tr>\n",
       "      <th>2</th>\n",
       "      <td>en</td>\n",
       "      <td>28.515</td>\n",
       "      <td>2010-05-07</td>\n",
       "      <td>Iron Man 2</td>\n",
       "      <td>6.8</td>\n",
       "      <td>12368</td>\n",
       "      <td>Par.</td>\n",
       "    </tr>\n",
       "    <tr>\n",
       "      <th>3</th>\n",
       "      <td>en</td>\n",
       "      <td>28.005</td>\n",
       "      <td>1995-11-22</td>\n",
       "      <td>Toy Story</td>\n",
       "      <td>7.9</td>\n",
       "      <td>10174</td>\n",
       "      <td>NaN</td>\n",
       "    </tr>\n",
       "    <tr>\n",
       "      <th>4</th>\n",
       "      <td>en</td>\n",
       "      <td>27.920</td>\n",
       "      <td>2010-07-16</td>\n",
       "      <td>Inception</td>\n",
       "      <td>8.3</td>\n",
       "      <td>22186</td>\n",
       "      <td>WB</td>\n",
       "    </tr>\n",
       "    <tr>\n",
       "      <th>5</th>\n",
       "      <td>en</td>\n",
       "      <td>26.691</td>\n",
       "      <td>2010-02-11</td>\n",
       "      <td>Percy Jackson &amp; the Olympians: The Lightning T...</td>\n",
       "      <td>6.1</td>\n",
       "      <td>4229</td>\n",
       "      <td>NaN</td>\n",
       "    </tr>\n",
       "    <tr>\n",
       "      <th>6</th>\n",
       "      <td>en</td>\n",
       "      <td>26.526</td>\n",
       "      <td>2009-12-18</td>\n",
       "      <td>Avatar</td>\n",
       "      <td>7.4</td>\n",
       "      <td>18676</td>\n",
       "      <td>NaN</td>\n",
       "    </tr>\n",
       "    <tr>\n",
       "      <th>7</th>\n",
       "      <td>en</td>\n",
       "      <td>24.445</td>\n",
       "      <td>2010-06-17</td>\n",
       "      <td>Toy Story 3</td>\n",
       "      <td>7.7</td>\n",
       "      <td>8340</td>\n",
       "      <td>BV</td>\n",
       "    </tr>\n",
       "    <tr>\n",
       "      <th>8</th>\n",
       "      <td>en</td>\n",
       "      <td>23.673</td>\n",
       "      <td>2010-07-09</td>\n",
       "      <td>Despicable Me</td>\n",
       "      <td>7.2</td>\n",
       "      <td>10057</td>\n",
       "      <td>Uni.</td>\n",
       "    </tr>\n",
       "    <tr>\n",
       "      <th>9</th>\n",
       "      <td>en</td>\n",
       "      <td>22.855</td>\n",
       "      <td>2010-11-04</td>\n",
       "      <td>Megamind</td>\n",
       "      <td>6.8</td>\n",
       "      <td>3635</td>\n",
       "      <td>P/DW</td>\n",
       "    </tr>\n",
       "  </tbody>\n",
       "</table>\n",
       "</div>"
      ],
      "text/plain": [
       "  original_language  popularity release_date  \\\n",
       "0                en      33.533   2010-11-19   \n",
       "1                en      28.734   2010-03-26   \n",
       "2                en      28.515   2010-05-07   \n",
       "3                en      28.005   1995-11-22   \n",
       "4                en      27.920   2010-07-16   \n",
       "5                en      26.691   2010-02-11   \n",
       "6                en      26.526   2009-12-18   \n",
       "7                en      24.445   2010-06-17   \n",
       "8                en      23.673   2010-07-09   \n",
       "9                en      22.855   2010-11-04   \n",
       "\n",
       "                                               title  vote_average  \\\n",
       "0       Harry Potter and the Deathly Hallows: Part 1           7.7   \n",
       "1                           How to Train Your Dragon           7.7   \n",
       "2                                         Iron Man 2           6.8   \n",
       "3                                          Toy Story           7.9   \n",
       "4                                          Inception           8.3   \n",
       "5  Percy Jackson & the Olympians: The Lightning T...           6.1   \n",
       "6                                             Avatar           7.4   \n",
       "7                                        Toy Story 3           7.7   \n",
       "8                                      Despicable Me           7.2   \n",
       "9                                           Megamind           6.8   \n",
       "\n",
       "   vote_count studio  \n",
       "0       10788    NaN  \n",
       "1        7610   P/DW  \n",
       "2       12368   Par.  \n",
       "3       10174    NaN  \n",
       "4       22186     WB  \n",
       "5        4229    NaN  \n",
       "6       18676    NaN  \n",
       "7        8340     BV  \n",
       "8       10057   Uni.  \n",
       "9        3635   P/DW  "
      ]
     },
     "execution_count": 15,
     "metadata": {},
     "output_type": "execute_result"
    }
   ],
   "source": [
    "df_movies = pd.merge(df_popularity, df_gross, how=\"left\", on=\"title\")\n",
    "df_movies.head(10)"
   ]
  },
  {
   "cell_type": "code",
   "execution_count": 16,
   "metadata": {
    "scrolled": false
   },
   "outputs": [
    {
     "data": {
      "text/html": [
       "<div>\n",
       "<style scoped>\n",
       "    .dataframe tbody tr th:only-of-type {\n",
       "        vertical-align: middle;\n",
       "    }\n",
       "\n",
       "    .dataframe tbody tr th {\n",
       "        vertical-align: top;\n",
       "    }\n",
       "\n",
       "    .dataframe thead th {\n",
       "        text-align: right;\n",
       "    }\n",
       "</style>\n",
       "<table border=\"1\" class=\"dataframe\">\n",
       "  <thead>\n",
       "    <tr style=\"text-align: right;\">\n",
       "      <th></th>\n",
       "      <th>title</th>\n",
       "      <th>production_budget</th>\n",
       "      <th>domestic_gross</th>\n",
       "      <th>worldwide_gross</th>\n",
       "    </tr>\n",
       "  </thead>\n",
       "  <tbody>\n",
       "    <tr>\n",
       "      <th>0</th>\n",
       "      <td>Avatar</td>\n",
       "      <td>425000000</td>\n",
       "      <td>760507625</td>\n",
       "      <td>2776345279</td>\n",
       "    </tr>\n",
       "    <tr>\n",
       "      <th>1</th>\n",
       "      <td>Pirates of the Caribbean: On Stranger Tides</td>\n",
       "      <td>410600000</td>\n",
       "      <td>241063875</td>\n",
       "      <td>1045663875</td>\n",
       "    </tr>\n",
       "    <tr>\n",
       "      <th>2</th>\n",
       "      <td>Dark Phoenix</td>\n",
       "      <td>350000000</td>\n",
       "      <td>42762350</td>\n",
       "      <td>149762350</td>\n",
       "    </tr>\n",
       "    <tr>\n",
       "      <th>3</th>\n",
       "      <td>Avengers: Age of Ultron</td>\n",
       "      <td>330600000</td>\n",
       "      <td>459005868</td>\n",
       "      <td>1403013963</td>\n",
       "    </tr>\n",
       "    <tr>\n",
       "      <th>4</th>\n",
       "      <td>Star Wars Ep. VIII: The Last Jedi</td>\n",
       "      <td>317000000</td>\n",
       "      <td>620181382</td>\n",
       "      <td>1316721747</td>\n",
       "    </tr>\n",
       "  </tbody>\n",
       "</table>\n",
       "</div>"
      ],
      "text/plain": [
       "                                         title  production_budget  \\\n",
       "0                                       Avatar          425000000   \n",
       "1  Pirates of the Caribbean: On Stranger Tides          410600000   \n",
       "2                                 Dark Phoenix          350000000   \n",
       "3                      Avengers: Age of Ultron          330600000   \n",
       "4            Star Wars Ep. VIII: The Last Jedi          317000000   \n",
       "\n",
       "   domestic_gross  worldwide_gross  \n",
       "0       760507625       2776345279  \n",
       "1       241063875       1045663875  \n",
       "2        42762350        149762350  \n",
       "3       459005868       1403013963  \n",
       "4       620181382       1316721747  "
      ]
     },
     "execution_count": 16,
     "metadata": {},
     "output_type": "execute_result"
    }
   ],
   "source": [
    "df_budgets.rename(columns = {\"movie\": \"title\"}, inplace=True)\n",
    "df_budgets.head()"
   ]
  },
  {
   "cell_type": "code",
   "execution_count": 47,
   "metadata": {},
   "outputs": [
    {
     "name": "stdout",
     "output_type": "stream",
     "text": [
      "(26517, 7)\n",
      "(5782, 4)\n"
     ]
    }
   ],
   "source": [
    "print(df_movies.shape)\n",
    "print(df_budgets.shape)"
   ]
  },
  {
   "cell_type": "code",
   "execution_count": 17,
   "metadata": {},
   "outputs": [
    {
     "data": {
      "text/html": [
       "<div>\n",
       "<style scoped>\n",
       "    .dataframe tbody tr th:only-of-type {\n",
       "        vertical-align: middle;\n",
       "    }\n",
       "\n",
       "    .dataframe tbody tr th {\n",
       "        vertical-align: top;\n",
       "    }\n",
       "\n",
       "    .dataframe thead th {\n",
       "        text-align: right;\n",
       "    }\n",
       "</style>\n",
       "<table border=\"1\" class=\"dataframe\">\n",
       "  <thead>\n",
       "    <tr style=\"text-align: right;\">\n",
       "      <th></th>\n",
       "      <th>original_language</th>\n",
       "      <th>popularity</th>\n",
       "      <th>release_date</th>\n",
       "      <th>title</th>\n",
       "      <th>vote_average</th>\n",
       "      <th>vote_count</th>\n",
       "      <th>studio</th>\n",
       "      <th>production_budget</th>\n",
       "      <th>domestic_gross</th>\n",
       "      <th>worldwide_gross</th>\n",
       "    </tr>\n",
       "  </thead>\n",
       "  <tbody>\n",
       "    <tr>\n",
       "      <th>0</th>\n",
       "      <td>en</td>\n",
       "      <td>33.533</td>\n",
       "      <td>2010-11-19</td>\n",
       "      <td>Harry Potter and the Deathly Hallows: Part 1</td>\n",
       "      <td>7.7</td>\n",
       "      <td>10788</td>\n",
       "      <td>NaN</td>\n",
       "      <td>NaN</td>\n",
       "      <td>NaN</td>\n",
       "      <td>NaN</td>\n",
       "    </tr>\n",
       "    <tr>\n",
       "      <th>1</th>\n",
       "      <td>en</td>\n",
       "      <td>28.734</td>\n",
       "      <td>2010-03-26</td>\n",
       "      <td>How to Train Your Dragon</td>\n",
       "      <td>7.7</td>\n",
       "      <td>7610</td>\n",
       "      <td>P/DW</td>\n",
       "      <td>165000000.0</td>\n",
       "      <td>217581232.0</td>\n",
       "      <td>494870992.0</td>\n",
       "    </tr>\n",
       "    <tr>\n",
       "      <th>2</th>\n",
       "      <td>en</td>\n",
       "      <td>28.515</td>\n",
       "      <td>2010-05-07</td>\n",
       "      <td>Iron Man 2</td>\n",
       "      <td>6.8</td>\n",
       "      <td>12368</td>\n",
       "      <td>Par.</td>\n",
       "      <td>170000000.0</td>\n",
       "      <td>312433331.0</td>\n",
       "      <td>621156389.0</td>\n",
       "    </tr>\n",
       "    <tr>\n",
       "      <th>3</th>\n",
       "      <td>en</td>\n",
       "      <td>28.005</td>\n",
       "      <td>1995-11-22</td>\n",
       "      <td>Toy Story</td>\n",
       "      <td>7.9</td>\n",
       "      <td>10174</td>\n",
       "      <td>NaN</td>\n",
       "      <td>30000000.0</td>\n",
       "      <td>191796233.0</td>\n",
       "      <td>364545516.0</td>\n",
       "    </tr>\n",
       "    <tr>\n",
       "      <th>4</th>\n",
       "      <td>en</td>\n",
       "      <td>27.920</td>\n",
       "      <td>2010-07-16</td>\n",
       "      <td>Inception</td>\n",
       "      <td>8.3</td>\n",
       "      <td>22186</td>\n",
       "      <td>WB</td>\n",
       "      <td>160000000.0</td>\n",
       "      <td>292576195.0</td>\n",
       "      <td>835524642.0</td>\n",
       "    </tr>\n",
       "  </tbody>\n",
       "</table>\n",
       "</div>"
      ],
      "text/plain": [
       "  original_language  popularity release_date  \\\n",
       "0                en      33.533   2010-11-19   \n",
       "1                en      28.734   2010-03-26   \n",
       "2                en      28.515   2010-05-07   \n",
       "3                en      28.005   1995-11-22   \n",
       "4                en      27.920   2010-07-16   \n",
       "\n",
       "                                          title  vote_average  vote_count  \\\n",
       "0  Harry Potter and the Deathly Hallows: Part 1           7.7       10788   \n",
       "1                      How to Train Your Dragon           7.7        7610   \n",
       "2                                    Iron Man 2           6.8       12368   \n",
       "3                                     Toy Story           7.9       10174   \n",
       "4                                     Inception           8.3       22186   \n",
       "\n",
       "  studio  production_budget  domestic_gross  worldwide_gross  \n",
       "0    NaN                NaN             NaN              NaN  \n",
       "1   P/DW        165000000.0     217581232.0      494870992.0  \n",
       "2   Par.        170000000.0     312433331.0      621156389.0  \n",
       "3    NaN         30000000.0     191796233.0      364545516.0  \n",
       "4     WB        160000000.0     292576195.0      835524642.0  "
      ]
     },
     "execution_count": 17,
     "metadata": {},
     "output_type": "execute_result"
    }
   ],
   "source": [
    "df_movies2 = pd.merge(df_movies, df_budgets, how = \"left\", on=\"title\")\n",
    "df_movies2.head()"
   ]
  },
  {
   "cell_type": "code",
   "execution_count": 18,
   "metadata": {},
   "outputs": [
    {
     "data": {
      "text/html": [
       "<div>\n",
       "<style scoped>\n",
       "    .dataframe tbody tr th:only-of-type {\n",
       "        vertical-align: middle;\n",
       "    }\n",
       "\n",
       "    .dataframe tbody tr th {\n",
       "        vertical-align: top;\n",
       "    }\n",
       "\n",
       "    .dataframe thead th {\n",
       "        text-align: right;\n",
       "    }\n",
       "</style>\n",
       "<table border=\"1\" class=\"dataframe\">\n",
       "  <thead>\n",
       "    <tr style=\"text-align: right;\">\n",
       "      <th></th>\n",
       "      <th>title</th>\n",
       "      <th>start_year</th>\n",
       "      <th>runtime_minutes</th>\n",
       "      <th>genres</th>\n",
       "    </tr>\n",
       "  </thead>\n",
       "  <tbody>\n",
       "    <tr>\n",
       "      <th>0</th>\n",
       "      <td>Sunghursh</td>\n",
       "      <td>2013</td>\n",
       "      <td>175.0</td>\n",
       "      <td>Action,Crime,Drama</td>\n",
       "    </tr>\n",
       "    <tr>\n",
       "      <th>1</th>\n",
       "      <td>One Day Before the Rainy Season</td>\n",
       "      <td>2019</td>\n",
       "      <td>114.0</td>\n",
       "      <td>Biography,Drama</td>\n",
       "    </tr>\n",
       "    <tr>\n",
       "      <th>2</th>\n",
       "      <td>The Other Side of the Wind</td>\n",
       "      <td>2018</td>\n",
       "      <td>122.0</td>\n",
       "      <td>Drama</td>\n",
       "    </tr>\n",
       "    <tr>\n",
       "      <th>3</th>\n",
       "      <td>Sabse Bada Sukh</td>\n",
       "      <td>2018</td>\n",
       "      <td>NaN</td>\n",
       "      <td>Comedy,Drama</td>\n",
       "    </tr>\n",
       "    <tr>\n",
       "      <th>4</th>\n",
       "      <td>The Wandering Soap Opera</td>\n",
       "      <td>2017</td>\n",
       "      <td>80.0</td>\n",
       "      <td>Comedy,Drama,Fantasy</td>\n",
       "    </tr>\n",
       "  </tbody>\n",
       "</table>\n",
       "</div>"
      ],
      "text/plain": [
       "                             title start_year  runtime_minutes  \\\n",
       "0                        Sunghursh       2013            175.0   \n",
       "1  One Day Before the Rainy Season       2019            114.0   \n",
       "2       The Other Side of the Wind       2018            122.0   \n",
       "3                  Sabse Bada Sukh       2018              NaN   \n",
       "4         The Wandering Soap Opera       2017             80.0   \n",
       "\n",
       "                 genres  \n",
       "0    Action,Crime,Drama  \n",
       "1       Biography,Drama  \n",
       "2                 Drama  \n",
       "3          Comedy,Drama  \n",
       "4  Comedy,Drama,Fantasy  "
      ]
     },
     "execution_count": 18,
     "metadata": {},
     "output_type": "execute_result"
    }
   ],
   "source": [
    "df_basics.rename(columns = {\"primary_title\": \"title\"}, inplace=True)\n",
    "df_basics.head()"
   ]
  },
  {
   "cell_type": "code",
   "execution_count": 50,
   "metadata": {},
   "outputs": [
    {
     "name": "stdout",
     "output_type": "stream",
     "text": [
      "(26606, 10)\n",
      "(146144, 4)\n"
     ]
    }
   ],
   "source": [
    "print(df_movies2.shape)\n",
    "print(df_basics.shape)"
   ]
  },
  {
   "cell_type": "code",
   "execution_count": 19,
   "metadata": {
    "scrolled": true
   },
   "outputs": [
    {
     "data": {
      "text/html": [
       "<div>\n",
       "<style scoped>\n",
       "    .dataframe tbody tr th:only-of-type {\n",
       "        vertical-align: middle;\n",
       "    }\n",
       "\n",
       "    .dataframe tbody tr th {\n",
       "        vertical-align: top;\n",
       "    }\n",
       "\n",
       "    .dataframe thead th {\n",
       "        text-align: right;\n",
       "    }\n",
       "</style>\n",
       "<table border=\"1\" class=\"dataframe\">\n",
       "  <thead>\n",
       "    <tr style=\"text-align: right;\">\n",
       "      <th></th>\n",
       "      <th>title</th>\n",
       "      <th>start_year</th>\n",
       "      <th>runtime_minutes</th>\n",
       "      <th>genres</th>\n",
       "      <th>original_language</th>\n",
       "      <th>popularity</th>\n",
       "      <th>release_date</th>\n",
       "      <th>vote_average</th>\n",
       "      <th>vote_count</th>\n",
       "      <th>studio</th>\n",
       "      <th>production_budget</th>\n",
       "      <th>domestic_gross</th>\n",
       "      <th>worldwide_gross</th>\n",
       "    </tr>\n",
       "  </thead>\n",
       "  <tbody>\n",
       "    <tr>\n",
       "      <th>0</th>\n",
       "      <td>Sunghursh</td>\n",
       "      <td>2013</td>\n",
       "      <td>175.0</td>\n",
       "      <td>Action,Crime,Drama</td>\n",
       "      <td>NaN</td>\n",
       "      <td>NaN</td>\n",
       "      <td>NaN</td>\n",
       "      <td>NaN</td>\n",
       "      <td>NaN</td>\n",
       "      <td>NaN</td>\n",
       "      <td>NaN</td>\n",
       "      <td>NaN</td>\n",
       "      <td>NaN</td>\n",
       "    </tr>\n",
       "    <tr>\n",
       "      <th>1</th>\n",
       "      <td>One Day Before the Rainy Season</td>\n",
       "      <td>2019</td>\n",
       "      <td>114.0</td>\n",
       "      <td>Biography,Drama</td>\n",
       "      <td>NaN</td>\n",
       "      <td>NaN</td>\n",
       "      <td>NaN</td>\n",
       "      <td>NaN</td>\n",
       "      <td>NaN</td>\n",
       "      <td>NaN</td>\n",
       "      <td>NaN</td>\n",
       "      <td>NaN</td>\n",
       "      <td>NaN</td>\n",
       "    </tr>\n",
       "    <tr>\n",
       "      <th>2</th>\n",
       "      <td>The Other Side of the Wind</td>\n",
       "      <td>2018</td>\n",
       "      <td>122.0</td>\n",
       "      <td>Drama</td>\n",
       "      <td>en</td>\n",
       "      <td>9.8</td>\n",
       "      <td>2018-11-02</td>\n",
       "      <td>7.0</td>\n",
       "      <td>64.0</td>\n",
       "      <td>NaN</td>\n",
       "      <td>NaN</td>\n",
       "      <td>NaN</td>\n",
       "      <td>NaN</td>\n",
       "    </tr>\n",
       "    <tr>\n",
       "      <th>3</th>\n",
       "      <td>Sabse Bada Sukh</td>\n",
       "      <td>2018</td>\n",
       "      <td>NaN</td>\n",
       "      <td>Comedy,Drama</td>\n",
       "      <td>NaN</td>\n",
       "      <td>NaN</td>\n",
       "      <td>NaN</td>\n",
       "      <td>NaN</td>\n",
       "      <td>NaN</td>\n",
       "      <td>NaN</td>\n",
       "      <td>NaN</td>\n",
       "      <td>NaN</td>\n",
       "      <td>NaN</td>\n",
       "    </tr>\n",
       "    <tr>\n",
       "      <th>4</th>\n",
       "      <td>The Wandering Soap Opera</td>\n",
       "      <td>2017</td>\n",
       "      <td>80.0</td>\n",
       "      <td>Comedy,Drama,Fantasy</td>\n",
       "      <td>NaN</td>\n",
       "      <td>NaN</td>\n",
       "      <td>NaN</td>\n",
       "      <td>NaN</td>\n",
       "      <td>NaN</td>\n",
       "      <td>NaN</td>\n",
       "      <td>NaN</td>\n",
       "      <td>NaN</td>\n",
       "      <td>NaN</td>\n",
       "    </tr>\n",
       "  </tbody>\n",
       "</table>\n",
       "</div>"
      ],
      "text/plain": [
       "                             title start_year  runtime_minutes  \\\n",
       "0                        Sunghursh       2013            175.0   \n",
       "1  One Day Before the Rainy Season       2019            114.0   \n",
       "2       The Other Side of the Wind       2018            122.0   \n",
       "3                  Sabse Bada Sukh       2018              NaN   \n",
       "4         The Wandering Soap Opera       2017             80.0   \n",
       "\n",
       "                 genres original_language  popularity release_date  \\\n",
       "0    Action,Crime,Drama               NaN         NaN          NaN   \n",
       "1       Biography,Drama               NaN         NaN          NaN   \n",
       "2                 Drama                en         9.8   2018-11-02   \n",
       "3          Comedy,Drama               NaN         NaN          NaN   \n",
       "4  Comedy,Drama,Fantasy               NaN         NaN          NaN   \n",
       "\n",
       "   vote_average  vote_count studio  production_budget  domestic_gross  \\\n",
       "0           NaN         NaN    NaN                NaN             NaN   \n",
       "1           NaN         NaN    NaN                NaN             NaN   \n",
       "2           7.0        64.0    NaN                NaN             NaN   \n",
       "3           NaN         NaN    NaN                NaN             NaN   \n",
       "4           NaN         NaN    NaN                NaN             NaN   \n",
       "\n",
       "   worldwide_gross  \n",
       "0              NaN  \n",
       "1              NaN  \n",
       "2              NaN  \n",
       "3              NaN  \n",
       "4              NaN  "
      ]
     },
     "execution_count": 19,
     "metadata": {},
     "output_type": "execute_result"
    }
   ],
   "source": [
    "df_movies_final = pd.merge(df_basics, df_movies2, how = \"left\", on=\"title\")\n",
    "df_movies_final.head()"
   ]
  },
  {
   "cell_type": "code",
   "execution_count": 20,
   "metadata": {},
   "outputs": [],
   "source": [
    "#replace null values in release_date with start_year from df_basics\n",
    "df_movies_final.release_date.fillna(df_movies_final.start_year, inplace=True)"
   ]
  },
  {
   "cell_type": "code",
   "execution_count": 21,
   "metadata": {},
   "outputs": [],
   "source": [
    "#\"start_year\" no longer needed\n",
    "drop_columns(df_movies_final, \"start_year\")"
   ]
  },
  {
   "cell_type": "code",
   "execution_count": 22,
   "metadata": {
    "scrolled": true
   },
   "outputs": [],
   "source": [
    "df_movies_final[\"foreign_gross\"] = (df_movies_final.worldwide_gross - df_movies_final.domestic_gross)\n",
    "df_movies_final[\"net_profit\"] = (df_movies_final.worldwide_gross - df_movies_final.production_budget)\n",
    "drop_columns(df_movies_final, [\"runtime_minutes\", \"original_language\", \"studio\"])\n",
    "#\"original_language\", \"studio\", \"runtime_minutes\", no longer needed"
   ]
  },
  {
   "cell_type": "code",
   "execution_count": 23,
   "metadata": {
    "scrolled": false
   },
   "outputs": [
    {
     "data": {
      "text/html": [
       "<div>\n",
       "<style scoped>\n",
       "    .dataframe tbody tr th:only-of-type {\n",
       "        vertical-align: middle;\n",
       "    }\n",
       "\n",
       "    .dataframe tbody tr th {\n",
       "        vertical-align: top;\n",
       "    }\n",
       "\n",
       "    .dataframe thead th {\n",
       "        text-align: right;\n",
       "    }\n",
       "</style>\n",
       "<table border=\"1\" class=\"dataframe\">\n",
       "  <thead>\n",
       "    <tr style=\"text-align: right;\">\n",
       "      <th></th>\n",
       "      <th>title</th>\n",
       "      <th>genres</th>\n",
       "      <th>popularity</th>\n",
       "      <th>release_date</th>\n",
       "      <th>vote_average</th>\n",
       "      <th>vote_count</th>\n",
       "      <th>production_budget</th>\n",
       "      <th>domestic_gross</th>\n",
       "      <th>worldwide_gross</th>\n",
       "      <th>foreign_gross</th>\n",
       "      <th>net_profit</th>\n",
       "    </tr>\n",
       "  </thead>\n",
       "  <tbody>\n",
       "    <tr>\n",
       "      <th>0</th>\n",
       "      <td>Sunghursh</td>\n",
       "      <td>Action,Crime,Drama</td>\n",
       "      <td>NaN</td>\n",
       "      <td>2013</td>\n",
       "      <td>NaN</td>\n",
       "      <td>NaN</td>\n",
       "      <td>NaN</td>\n",
       "      <td>NaN</td>\n",
       "      <td>NaN</td>\n",
       "      <td>NaN</td>\n",
       "      <td>NaN</td>\n",
       "    </tr>\n",
       "    <tr>\n",
       "      <th>1</th>\n",
       "      <td>One Day Before the Rainy Season</td>\n",
       "      <td>Biography,Drama</td>\n",
       "      <td>NaN</td>\n",
       "      <td>2019</td>\n",
       "      <td>NaN</td>\n",
       "      <td>NaN</td>\n",
       "      <td>NaN</td>\n",
       "      <td>NaN</td>\n",
       "      <td>NaN</td>\n",
       "      <td>NaN</td>\n",
       "      <td>NaN</td>\n",
       "    </tr>\n",
       "    <tr>\n",
       "      <th>2</th>\n",
       "      <td>The Other Side of the Wind</td>\n",
       "      <td>Drama</td>\n",
       "      <td>9.8</td>\n",
       "      <td>2018-11-02</td>\n",
       "      <td>7.0</td>\n",
       "      <td>64.0</td>\n",
       "      <td>NaN</td>\n",
       "      <td>NaN</td>\n",
       "      <td>NaN</td>\n",
       "      <td>NaN</td>\n",
       "      <td>NaN</td>\n",
       "    </tr>\n",
       "    <tr>\n",
       "      <th>3</th>\n",
       "      <td>Sabse Bada Sukh</td>\n",
       "      <td>Comedy,Drama</td>\n",
       "      <td>NaN</td>\n",
       "      <td>2018</td>\n",
       "      <td>NaN</td>\n",
       "      <td>NaN</td>\n",
       "      <td>NaN</td>\n",
       "      <td>NaN</td>\n",
       "      <td>NaN</td>\n",
       "      <td>NaN</td>\n",
       "      <td>NaN</td>\n",
       "    </tr>\n",
       "    <tr>\n",
       "      <th>4</th>\n",
       "      <td>The Wandering Soap Opera</td>\n",
       "      <td>Comedy,Drama,Fantasy</td>\n",
       "      <td>NaN</td>\n",
       "      <td>2017</td>\n",
       "      <td>NaN</td>\n",
       "      <td>NaN</td>\n",
       "      <td>NaN</td>\n",
       "      <td>NaN</td>\n",
       "      <td>NaN</td>\n",
       "      <td>NaN</td>\n",
       "      <td>NaN</td>\n",
       "    </tr>\n",
       "  </tbody>\n",
       "</table>\n",
       "</div>"
      ],
      "text/plain": [
       "                             title                genres  popularity  \\\n",
       "0                        Sunghursh    Action,Crime,Drama         NaN   \n",
       "1  One Day Before the Rainy Season       Biography,Drama         NaN   \n",
       "2       The Other Side of the Wind                 Drama         9.8   \n",
       "3                  Sabse Bada Sukh          Comedy,Drama         NaN   \n",
       "4         The Wandering Soap Opera  Comedy,Drama,Fantasy         NaN   \n",
       "\n",
       "  release_date  vote_average  vote_count  production_budget  domestic_gross  \\\n",
       "0         2013           NaN         NaN                NaN             NaN   \n",
       "1         2019           NaN         NaN                NaN             NaN   \n",
       "2   2018-11-02           7.0        64.0                NaN             NaN   \n",
       "3         2018           NaN         NaN                NaN             NaN   \n",
       "4         2017           NaN         NaN                NaN             NaN   \n",
       "\n",
       "   worldwide_gross  foreign_gross  net_profit  \n",
       "0              NaN            NaN         NaN  \n",
       "1              NaN            NaN         NaN  \n",
       "2              NaN            NaN         NaN  \n",
       "3              NaN            NaN         NaN  \n",
       "4              NaN            NaN         NaN  "
      ]
     },
     "execution_count": 23,
     "metadata": {},
     "output_type": "execute_result"
    }
   ],
   "source": [
    "df_movies_final.head()"
   ]
  },
  {
   "cell_type": "code",
   "execution_count": 35,
   "metadata": {
    "scrolled": true
   },
   "outputs": [
    {
     "data": {
      "text/html": [
       "<div>\n",
       "<style scoped>\n",
       "    .dataframe tbody tr th:only-of-type {\n",
       "        vertical-align: middle;\n",
       "    }\n",
       "\n",
       "    .dataframe tbody tr th {\n",
       "        vertical-align: top;\n",
       "    }\n",
       "\n",
       "    .dataframe thead th {\n",
       "        text-align: right;\n",
       "    }\n",
       "</style>\n",
       "<table border=\"1\" class=\"dataframe\">\n",
       "  <thead>\n",
       "    <tr style=\"text-align: right;\">\n",
       "      <th></th>\n",
       "      <th>popularity</th>\n",
       "      <th>vote_average</th>\n",
       "      <th>vote_count</th>\n",
       "      <th>production_budget</th>\n",
       "      <th>domestic_gross</th>\n",
       "      <th>worldwide_gross</th>\n",
       "      <th>foreign_gross</th>\n",
       "      <th>net_profit</th>\n",
       "    </tr>\n",
       "  </thead>\n",
       "  <tbody>\n",
       "    <tr>\n",
       "      <th>count</th>\n",
       "      <td>24204.000000</td>\n",
       "      <td>24204.000000</td>\n",
       "      <td>24204.000000</td>\n",
       "      <td>4.550000e+03</td>\n",
       "      <td>4.550000e+03</td>\n",
       "      <td>4.550000e+03</td>\n",
       "      <td>4.550000e+03</td>\n",
       "      <td>4.550000e+03</td>\n",
       "    </tr>\n",
       "    <tr>\n",
       "      <th>mean</th>\n",
       "      <td>3.853930</td>\n",
       "      <td>5.811552</td>\n",
       "      <td>282.449802</td>\n",
       "      <td>3.450462e+07</td>\n",
       "      <td>4.382987e+07</td>\n",
       "      <td>1.047967e+08</td>\n",
       "      <td>6.096687e+07</td>\n",
       "      <td>7.029212e+07</td>\n",
       "    </tr>\n",
       "    <tr>\n",
       "      <th>std</th>\n",
       "      <td>4.916361</td>\n",
       "      <td>1.710107</td>\n",
       "      <td>1129.202956</td>\n",
       "      <td>4.785826e+07</td>\n",
       "      <td>7.714793e+07</td>\n",
       "      <td>1.986001e+08</td>\n",
       "      <td>1.271451e+08</td>\n",
       "      <td>1.633475e+08</td>\n",
       "    </tr>\n",
       "    <tr>\n",
       "      <th>min</th>\n",
       "      <td>0.600000</td>\n",
       "      <td>0.000000</td>\n",
       "      <td>1.000000</td>\n",
       "      <td>9.000000e+03</td>\n",
       "      <td>0.000000e+00</td>\n",
       "      <td>0.000000e+00</td>\n",
       "      <td>0.000000e+00</td>\n",
       "      <td>-1.104502e+08</td>\n",
       "    </tr>\n",
       "    <tr>\n",
       "      <th>25%</th>\n",
       "      <td>0.655000</td>\n",
       "      <td>5.000000</td>\n",
       "      <td>2.000000</td>\n",
       "      <td>4.357373e+06</td>\n",
       "      <td>6.510800e+04</td>\n",
       "      <td>1.884251e+06</td>\n",
       "      <td>1.030822e+05</td>\n",
       "      <td>-2.609697e+06</td>\n",
       "    </tr>\n",
       "    <tr>\n",
       "      <th>50%</th>\n",
       "      <td>1.767000</td>\n",
       "      <td>6.000000</td>\n",
       "      <td>8.000000</td>\n",
       "      <td>1.500000e+07</td>\n",
       "      <td>1.227786e+07</td>\n",
       "      <td>3.435676e+07</td>\n",
       "      <td>1.415973e+07</td>\n",
       "      <td>1.251745e+07</td>\n",
       "    </tr>\n",
       "    <tr>\n",
       "      <th>75%</th>\n",
       "      <td>5.754000</td>\n",
       "      <td>6.900000</td>\n",
       "      <td>56.000000</td>\n",
       "      <td>4.000000e+07</td>\n",
       "      <td>4.729874e+07</td>\n",
       "      <td>9.632292e+07</td>\n",
       "      <td>5.127620e+07</td>\n",
       "      <td>6.020913e+07</td>\n",
       "    </tr>\n",
       "    <tr>\n",
       "      <th>max</th>\n",
       "      <td>80.773000</td>\n",
       "      <td>10.000000</td>\n",
       "      <td>22186.000000</td>\n",
       "      <td>4.250000e+08</td>\n",
       "      <td>7.605076e+08</td>\n",
       "      <td>2.776345e+09</td>\n",
       "      <td>2.015838e+09</td>\n",
       "      <td>2.351345e+09</td>\n",
       "    </tr>\n",
       "  </tbody>\n",
       "</table>\n",
       "</div>"
      ],
      "text/plain": [
       "         popularity  vote_average    vote_count  production_budget  \\\n",
       "count  24204.000000  24204.000000  24204.000000       4.550000e+03   \n",
       "mean       3.853930      5.811552    282.449802       3.450462e+07   \n",
       "std        4.916361      1.710107   1129.202956       4.785826e+07   \n",
       "min        0.600000      0.000000      1.000000       9.000000e+03   \n",
       "25%        0.655000      5.000000      2.000000       4.357373e+06   \n",
       "50%        1.767000      6.000000      8.000000       1.500000e+07   \n",
       "75%        5.754000      6.900000     56.000000       4.000000e+07   \n",
       "max       80.773000     10.000000  22186.000000       4.250000e+08   \n",
       "\n",
       "       domestic_gross  worldwide_gross  foreign_gross    net_profit  \n",
       "count    4.550000e+03     4.550000e+03   4.550000e+03  4.550000e+03  \n",
       "mean     4.382987e+07     1.047967e+08   6.096687e+07  7.029212e+07  \n",
       "std      7.714793e+07     1.986001e+08   1.271451e+08  1.633475e+08  \n",
       "min      0.000000e+00     0.000000e+00   0.000000e+00 -1.104502e+08  \n",
       "25%      6.510800e+04     1.884251e+06   1.030822e+05 -2.609697e+06  \n",
       "50%      1.227786e+07     3.435676e+07   1.415973e+07  1.251745e+07  \n",
       "75%      4.729874e+07     9.632292e+07   5.127620e+07  6.020913e+07  \n",
       "max      7.605076e+08     2.776345e+09   2.015838e+09  2.351345e+09  "
      ]
     },
     "execution_count": 35,
     "metadata": {},
     "output_type": "execute_result"
    }
   ],
   "source": [
    "df_movies_final.describe()"
   ]
  },
  {
   "cell_type": "code",
   "execution_count": 44,
   "metadata": {},
   "outputs": [
    {
     "data": {
      "text/plain": [
       "Index(['count', 'mean', 'std', 'min', '25%', '50%', '75%', 'max'], dtype='object')"
      ]
     },
     "execution_count": 44,
     "metadata": {},
     "output_type": "execute_result"
    }
   ],
   "source": [
    "df_movies_final.describe().index"
   ]
  },
  {
   "cell_type": "code",
   "execution_count": 24,
   "metadata": {
    "scrolled": true
   },
   "outputs": [
    {
     "data": {
      "text/plain": [
       "5.098999999999999"
      ]
     },
     "execution_count": 24,
     "metadata": {},
     "output_type": "execute_result"
    }
   ],
   "source": [
    "#called index 75% (Q3) and index 25% (Q1) to calculate IQR\n",
    "df_movies_final[\"popularity\"].describe().iloc[6] - df_movies_final[\"popularity\"].describe().iloc[4]"
   ]
  },
  {
   "cell_type": "markdown",
   "metadata": {},
   "source": [
    "### Functions for Exploration"
   ]
  },
  {
   "cell_type": "markdown",
   "metadata": {},
   "source": [
    "1. Drop Outliers"
   ]
  },
  {
   "cell_type": "code",
   "execution_count": 26,
   "metadata": {},
   "outputs": [],
   "source": [
    "#calculate IQR to find outliers\n",
    "def calculate_interquartile_range(data, column):\n",
    "    return data[column].describe().iloc[6] - data[column].describe().iloc[4]"
   ]
  },
  {
   "cell_type": "code",
   "execution_count": 27,
   "metadata": {
    "scrolled": true
   },
   "outputs": [
    {
     "data": {
      "text/plain": [
       "popularity       5.099\n",
       "vote_average     1.900\n",
       "vote_count      54.000\n",
       "dtype: float64"
      ]
     },
     "execution_count": 27,
     "metadata": {},
     "output_type": "execute_result"
    }
   ],
   "source": [
    "calculate_interquartile_range(df_movies_final, [\"popularity\", \"vote_average\", \"vote_count\"])"
   ]
  },
  {
   "cell_type": "code",
   "execution_count": 45,
   "metadata": {},
   "outputs": [],
   "source": [
    "#drop lower and upper outliers from each column\n",
    "def drop_outliers(data, column):\n",
    "    lower_outlier = data[column].describe().loc[\"25%\"] - (1.5 * calculate_interquartile_range(data, column))\n",
    "    upper_outlier = data[column].describe().loc[\"75%\"] + (1.5 * calculate_interquartile_range(data, column))\n",
    "    return data[(data[column] > lower_outlier) & (data[column] < upper_outlier)]"
   ]
  },
  {
   "cell_type": "markdown",
   "metadata": {},
   "source": [
    "2. Calculate Mean"
   ]
  },
  {
   "cell_type": "code",
   "execution_count": 161,
   "metadata": {},
   "outputs": [],
   "source": [
    "#calculate mean of each column without outliers\n",
    "#iterating through each genre\n",
    "def calculate_mean(data, column, genres):\n",
    "    list_obj = []\n",
    "    df_without_outlier = drop_outliers(data, column)\n",
    "    for genre in genres:\n",
    "        mean = round(df_without_outlier[df_without_outlier[\"genres\"].str.contains(genre)==True].mean(),2)\n",
    "        list_obj.append(mean[column])\n",
    "    return list_obj"
   ]
  },
  {
   "cell_type": "code",
   "execution_count": 62,
   "metadata": {
    "scrolled": true
   },
   "outputs": [
    {
     "data": {
      "text/plain": [
       "popularity           9.801540e+00\n",
       "vote_average         5.855789e+00\n",
       "vote_count           1.289218e+03\n",
       "production_budget    3.049076e+07\n",
       "domestic_gross       3.343737e+07\n",
       "worldwide_gross      7.632116e+07\n",
       "foreign_gross        4.288379e+07\n",
       "net_profit           4.583040e+07\n",
       "dtype: float64"
      ]
     },
     "execution_count": 62,
     "metadata": {},
     "output_type": "execute_result"
    }
   ],
   "source": [
    "calculate_mean(df_movies_final, \"production_budget\", \"Action\")"
   ]
  },
  {
   "cell_type": "code",
   "execution_count": 124,
   "metadata": {},
   "outputs": [],
   "source": [
    "genre = [\"Action\", \"Adventure\", \"Animation\", \"Comedy\", \"Crime\", \"Drama\", \"Fantasy\", \"Horror\", \"Mystery\", \"Romance\", \"Sci-Fi\", \"Thriller\"]"
   ]
  },
  {
   "cell_type": "code",
   "execution_count": 133,
   "metadata": {
    "scrolled": true
   },
   "outputs": [
    {
     "name": "stdout",
     "output_type": "stream",
     "text": [
      "4.066878224101507\n",
      "4.034992868462763\n",
      "4.485887733887732\n",
      "3.5494475005457717\n",
      "4.093360106383007\n",
      "3.480557782231007\n",
      "4.011331944444435\n",
      "3.183791819464077\n",
      "3.6695874906924755\n",
      "3.7597113840340417\n",
      "3.425333011582999\n",
      "3.401369230769286\n"
     ]
    }
   ],
   "source": [
    "#popularity mean\n",
    "calculate_mean(df_movies_final, \"popularity\", genre)"
   ]
  },
  {
   "cell_type": "code",
   "execution_count": 131,
   "metadata": {},
   "outputs": [
    {
     "name": "stdout",
     "output_type": "stream",
     "text": [
      "5.602866972477057\n",
      "5.885263157894749\n",
      "6.310681399631688\n",
      "5.76220904699164\n",
      "5.80290005178664\n",
      "5.998622295527338\n",
      "5.714713216957599\n",
      "5.04919113241462\n",
      "5.5411677753141255\n",
      "5.978929765886299\n",
      "5.382516188714157\n",
      "5.426020015396429\n"
     ]
    }
   ],
   "source": [
    "#vote_average mean\n",
    "calculate_mean(df_movies_final, \"vote_average\", genre)"
   ]
  },
  {
   "cell_type": "code",
   "execution_count": 132,
   "metadata": {},
   "outputs": [
    {
     "name": "stdout",
     "output_type": "stream",
     "text": [
      "22.327979274611398\n",
      "21.564102564102566\n",
      "21.037735849056602\n",
      "17.992193808882906\n",
      "23.28205128205128\n",
      "18.761877306273064\n",
      "19.959363957597173\n",
      "16.943506493506494\n",
      "20.649138712601996\n",
      "18.980861244019138\n",
      "18.40340909090909\n",
      "18.75639141933588\n"
     ]
    }
   ],
   "source": [
    "#vote_count mean\n",
    "calculate_mean(df_movies_final, \"vote_count\", genre)"
   ]
  },
  {
   "cell_type": "code",
   "execution_count": 134,
   "metadata": {},
   "outputs": [
    {
     "name": "stdout",
     "output_type": "stream",
     "text": [
      "30490758.549122807\n",
      "33374656.565656565\n",
      "32450406.50406504\n",
      "23592710.773913044\n",
      "24090947.74364896\n",
      "17567022.620921306\n",
      "25540303.03030303\n",
      "16040791.230290456\n",
      "19113314.04263566\n",
      "16027569.739952719\n",
      "21588209.307692308\n",
      "19629035.676557865\n"
     ]
    }
   ],
   "source": [
    "#production_budget mean\n",
    "calculate_mean(df_movies_final, \"production_budget\", genre)"
   ]
  },
  {
   "cell_type": "code",
   "execution_count": 135,
   "metadata": {},
   "outputs": [
    {
     "name": "stdout",
     "output_type": "stream",
     "text": [
      "30257700.617322836\n",
      "35951837.18384401\n",
      "31866148.404958677\n",
      "28117856.9781491\n",
      "22645401.33647059\n",
      "18480256.886429258\n",
      "27337646.3313253\n",
      "19509311.757446807\n",
      "25083932.186507937\n",
      "20741916.302663438\n",
      "25429821.15591398\n",
      "21211675.40560472\n"
     ]
    }
   ],
   "source": [
    "#domestic_gross mean\n",
    "calculate_mean(df_movies_final, \"domestic_gross\", genre)"
   ]
  },
  {
   "cell_type": "code",
   "execution_count": 136,
   "metadata": {},
   "outputs": [
    {
     "name": "stdout",
     "output_type": "stream",
     "text": [
      "59915757.2151463\n",
      "66572089.43464052\n",
      "54508980.93333333\n",
      "50223595.401574805\n",
      "45989445.241784036\n",
      "36118281.63334958\n",
      "54308639.17218543\n",
      "38720048.08405172\n",
      "48048289.10288066\n",
      "42193888.107317075\n",
      "38903494.93939394\n",
      "41191026.893455096\n"
     ]
    }
   ],
   "source": [
    "#worldwide_gross mean\n",
    "calculate_mean(df_movies_final, \"worldwide_gross\", genre)"
   ]
  },
  {
   "cell_type": "code",
   "execution_count": 137,
   "metadata": {},
   "outputs": [
    {
     "name": "stdout",
     "output_type": "stream",
     "text": [
      "28685133.364285715\n",
      "31930899.379310343\n",
      "31416866.923809525\n",
      "22454438.29281046\n",
      "21635241.5754717\n",
      "17949382.214460187\n",
      "23872271.887323942\n",
      "19083093.0\n",
      "25196872.98765432\n",
      "21677277.858536586\n",
      "17869122.666666668\n",
      "19765497.6244204\n"
     ]
    }
   ],
   "source": [
    "#foreign_gross mean\n",
    "calculate_mean(df_movies_final, \"foreign_gross\", genre)"
   ]
  },
  {
   "cell_type": "code",
   "execution_count": 154,
   "metadata": {},
   "outputs": [
    {
     "data": {
      "text/plain": [
       "[25277569.809682805,\n",
       " 30184412.423312884,\n",
       " 34694398.45454545,\n",
       " 26407329.019788917,\n",
       " 19788747.722748816,\n",
       " 16501189.402157921,\n",
       " 18617069.874172185,\n",
       " 21492106.880694143,\n",
       " 27508919.520833332,\n",
       " 23195732.360696517,\n",
       " 18980943.190751445,\n",
       " 19417062.584355827]"
      ]
     },
     "execution_count": 154,
     "metadata": {},
     "output_type": "execute_result"
    }
   ],
   "source": [
    "#net_profit mean\n",
    "calculate_mean(df_movies_final, \"net_profit\", genre)"
   ]
  },
  {
   "cell_type": "code",
   "execution_count": 157,
   "metadata": {
    "scrolled": false
   },
   "outputs": [
    {
     "data": {
      "text/html": [
       "<div>\n",
       "<style scoped>\n",
       "    .dataframe tbody tr th:only-of-type {\n",
       "        vertical-align: middle;\n",
       "    }\n",
       "\n",
       "    .dataframe tbody tr th {\n",
       "        vertical-align: top;\n",
       "    }\n",
       "\n",
       "    .dataframe thead th {\n",
       "        text-align: right;\n",
       "    }\n",
       "</style>\n",
       "<table border=\"1\" class=\"dataframe\">\n",
       "  <thead>\n",
       "    <tr style=\"text-align: right;\">\n",
       "      <th></th>\n",
       "      <th>production_budget</th>\n",
       "      <th>domestic_gross</th>\n",
       "      <th>foreign_gross</th>\n",
       "    </tr>\n",
       "    <tr>\n",
       "      <th>genres</th>\n",
       "      <th></th>\n",
       "      <th></th>\n",
       "      <th></th>\n",
       "    </tr>\n",
       "  </thead>\n",
       "  <tbody>\n",
       "    <tr>\n",
       "      <th>Action</th>\n",
       "      <td>NaN</td>\n",
       "      <td>NaN</td>\n",
       "      <td>NaN</td>\n",
       "    </tr>\n",
       "    <tr>\n",
       "      <th>Adventure</th>\n",
       "      <td>NaN</td>\n",
       "      <td>NaN</td>\n",
       "      <td>NaN</td>\n",
       "    </tr>\n",
       "    <tr>\n",
       "      <th>Animation</th>\n",
       "      <td>NaN</td>\n",
       "      <td>NaN</td>\n",
       "      <td>NaN</td>\n",
       "    </tr>\n",
       "    <tr>\n",
       "      <th>Comedy</th>\n",
       "      <td>NaN</td>\n",
       "      <td>NaN</td>\n",
       "      <td>NaN</td>\n",
       "    </tr>\n",
       "    <tr>\n",
       "      <th>Crime</th>\n",
       "      <td>NaN</td>\n",
       "      <td>NaN</td>\n",
       "      <td>NaN</td>\n",
       "    </tr>\n",
       "  </tbody>\n",
       "</table>\n",
       "</div>"
      ],
      "text/plain": [
       "          production_budget domestic_gross foreign_gross\n",
       "genres                                                  \n",
       "Action                  NaN            NaN           NaN\n",
       "Adventure               NaN            NaN           NaN\n",
       "Animation               NaN            NaN           NaN\n",
       "Comedy                  NaN            NaN           NaN\n",
       "Crime                   NaN            NaN           NaN"
      ]
     },
     "execution_count": 157,
     "metadata": {},
     "output_type": "execute_result"
    }
   ],
   "source": [
    "df = pd.DataFrame(columns=['production_budget', 'domestic_gross', 'foreign_gross'])\n",
    "df['genres'] = genre\n",
    "df.set_index('genres', inplace=True)\n",
    "df.head()"
   ]
  },
  {
   "cell_type": "code",
   "execution_count": 194,
   "metadata": {},
   "outputs": [
    {
     "data": {
      "text/html": [
       "<div>\n",
       "<style scoped>\n",
       "    .dataframe tbody tr th:only-of-type {\n",
       "        vertical-align: middle;\n",
       "    }\n",
       "\n",
       "    .dataframe tbody tr th {\n",
       "        vertical-align: top;\n",
       "    }\n",
       "\n",
       "    .dataframe thead th {\n",
       "        text-align: right;\n",
       "    }\n",
       "</style>\n",
       "<table border=\"1\" class=\"dataframe\">\n",
       "  <thead>\n",
       "    <tr style=\"text-align: right;\">\n",
       "      <th></th>\n",
       "      <th>conservative</th>\n",
       "      <th>compromised</th>\n",
       "      <th>aggressive</th>\n",
       "      <th>production_budget</th>\n",
       "      <th>domestic_gross</th>\n",
       "      <th>foreign_gross</th>\n",
       "      <th>worldwide_gross</th>\n",
       "      <th>net_profit</th>\n",
       "      <th>popularity</th>\n",
       "      <th>vote_average</th>\n",
       "      <th>vote_count</th>\n",
       "    </tr>\n",
       "    <tr>\n",
       "      <th>genres</th>\n",
       "      <th></th>\n",
       "      <th></th>\n",
       "      <th></th>\n",
       "      <th></th>\n",
       "      <th></th>\n",
       "      <th></th>\n",
       "      <th></th>\n",
       "      <th></th>\n",
       "      <th></th>\n",
       "      <th></th>\n",
       "      <th></th>\n",
       "    </tr>\n",
       "  </thead>\n",
       "  <tbody>\n",
       "    <tr>\n",
       "      <th>Action</th>\n",
       "      <td>NaN</td>\n",
       "      <td>NaN</td>\n",
       "      <td>NaN</td>\n",
       "      <td>30490758.55</td>\n",
       "      <td>30257700.62</td>\n",
       "      <td>28685133.36</td>\n",
       "      <td>59915757.22</td>\n",
       "      <td>25277569.81</td>\n",
       "      <td>4.07</td>\n",
       "      <td>5.60</td>\n",
       "      <td>22.33</td>\n",
       "    </tr>\n",
       "    <tr>\n",
       "      <th>Adventure</th>\n",
       "      <td>NaN</td>\n",
       "      <td>NaN</td>\n",
       "      <td>NaN</td>\n",
       "      <td>33374656.57</td>\n",
       "      <td>35951837.18</td>\n",
       "      <td>31930899.38</td>\n",
       "      <td>66572089.43</td>\n",
       "      <td>30184412.42</td>\n",
       "      <td>4.03</td>\n",
       "      <td>5.89</td>\n",
       "      <td>21.56</td>\n",
       "    </tr>\n",
       "    <tr>\n",
       "      <th>Animation</th>\n",
       "      <td>NaN</td>\n",
       "      <td>NaN</td>\n",
       "      <td>NaN</td>\n",
       "      <td>32450406.50</td>\n",
       "      <td>31866148.40</td>\n",
       "      <td>31416866.92</td>\n",
       "      <td>54508980.93</td>\n",
       "      <td>34694398.45</td>\n",
       "      <td>4.49</td>\n",
       "      <td>6.31</td>\n",
       "      <td>21.04</td>\n",
       "    </tr>\n",
       "    <tr>\n",
       "      <th>Comedy</th>\n",
       "      <td>NaN</td>\n",
       "      <td>NaN</td>\n",
       "      <td>NaN</td>\n",
       "      <td>23592710.77</td>\n",
       "      <td>28117856.98</td>\n",
       "      <td>22454438.29</td>\n",
       "      <td>50223595.40</td>\n",
       "      <td>26407329.02</td>\n",
       "      <td>3.55</td>\n",
       "      <td>5.76</td>\n",
       "      <td>17.99</td>\n",
       "    </tr>\n",
       "    <tr>\n",
       "      <th>Crime</th>\n",
       "      <td>NaN</td>\n",
       "      <td>NaN</td>\n",
       "      <td>NaN</td>\n",
       "      <td>24090947.74</td>\n",
       "      <td>22645401.34</td>\n",
       "      <td>21635241.58</td>\n",
       "      <td>45989445.24</td>\n",
       "      <td>19788747.72</td>\n",
       "      <td>4.09</td>\n",
       "      <td>5.80</td>\n",
       "      <td>23.28</td>\n",
       "    </tr>\n",
       "    <tr>\n",
       "      <th>Drama</th>\n",
       "      <td>NaN</td>\n",
       "      <td>NaN</td>\n",
       "      <td>NaN</td>\n",
       "      <td>17567022.62</td>\n",
       "      <td>18480256.89</td>\n",
       "      <td>17949382.21</td>\n",
       "      <td>36118281.63</td>\n",
       "      <td>16501189.40</td>\n",
       "      <td>3.48</td>\n",
       "      <td>6.00</td>\n",
       "      <td>18.76</td>\n",
       "    </tr>\n",
       "    <tr>\n",
       "      <th>Fantasy</th>\n",
       "      <td>NaN</td>\n",
       "      <td>NaN</td>\n",
       "      <td>NaN</td>\n",
       "      <td>25540303.03</td>\n",
       "      <td>27337646.33</td>\n",
       "      <td>23872271.89</td>\n",
       "      <td>54308639.17</td>\n",
       "      <td>18617069.87</td>\n",
       "      <td>4.01</td>\n",
       "      <td>5.71</td>\n",
       "      <td>19.96</td>\n",
       "    </tr>\n",
       "    <tr>\n",
       "      <th>Horror</th>\n",
       "      <td>NaN</td>\n",
       "      <td>NaN</td>\n",
       "      <td>NaN</td>\n",
       "      <td>16040791.23</td>\n",
       "      <td>19509311.76</td>\n",
       "      <td>19083093.00</td>\n",
       "      <td>38720048.08</td>\n",
       "      <td>21492106.88</td>\n",
       "      <td>3.18</td>\n",
       "      <td>5.05</td>\n",
       "      <td>16.94</td>\n",
       "    </tr>\n",
       "    <tr>\n",
       "      <th>Mystery</th>\n",
       "      <td>NaN</td>\n",
       "      <td>NaN</td>\n",
       "      <td>NaN</td>\n",
       "      <td>19113314.04</td>\n",
       "      <td>25083932.19</td>\n",
       "      <td>25196872.99</td>\n",
       "      <td>48048289.10</td>\n",
       "      <td>27508919.52</td>\n",
       "      <td>3.67</td>\n",
       "      <td>5.54</td>\n",
       "      <td>20.65</td>\n",
       "    </tr>\n",
       "    <tr>\n",
       "      <th>Romance</th>\n",
       "      <td>NaN</td>\n",
       "      <td>NaN</td>\n",
       "      <td>NaN</td>\n",
       "      <td>16027569.74</td>\n",
       "      <td>20741916.30</td>\n",
       "      <td>21677277.86</td>\n",
       "      <td>42193888.11</td>\n",
       "      <td>23195732.36</td>\n",
       "      <td>3.76</td>\n",
       "      <td>5.98</td>\n",
       "      <td>18.98</td>\n",
       "    </tr>\n",
       "    <tr>\n",
       "      <th>Sci-Fi</th>\n",
       "      <td>NaN</td>\n",
       "      <td>NaN</td>\n",
       "      <td>NaN</td>\n",
       "      <td>21588209.31</td>\n",
       "      <td>25429821.16</td>\n",
       "      <td>17869122.67</td>\n",
       "      <td>38903494.94</td>\n",
       "      <td>18980943.19</td>\n",
       "      <td>3.43</td>\n",
       "      <td>5.38</td>\n",
       "      <td>18.40</td>\n",
       "    </tr>\n",
       "    <tr>\n",
       "      <th>Thriller</th>\n",
       "      <td>NaN</td>\n",
       "      <td>NaN</td>\n",
       "      <td>NaN</td>\n",
       "      <td>19629035.68</td>\n",
       "      <td>21211675.41</td>\n",
       "      <td>19765497.62</td>\n",
       "      <td>41191026.89</td>\n",
       "      <td>19417062.58</td>\n",
       "      <td>3.40</td>\n",
       "      <td>5.43</td>\n",
       "      <td>18.76</td>\n",
       "    </tr>\n",
       "  </tbody>\n",
       "</table>\n",
       "</div>"
      ],
      "text/plain": [
       "          conservative compromised aggressive  production_budget  \\\n",
       "genres                                                             \n",
       "Action             NaN         NaN        NaN        30490758.55   \n",
       "Adventure          NaN         NaN        NaN        33374656.57   \n",
       "Animation          NaN         NaN        NaN        32450406.50   \n",
       "Comedy             NaN         NaN        NaN        23592710.77   \n",
       "Crime              NaN         NaN        NaN        24090947.74   \n",
       "Drama              NaN         NaN        NaN        17567022.62   \n",
       "Fantasy            NaN         NaN        NaN        25540303.03   \n",
       "Horror             NaN         NaN        NaN        16040791.23   \n",
       "Mystery            NaN         NaN        NaN        19113314.04   \n",
       "Romance            NaN         NaN        NaN        16027569.74   \n",
       "Sci-Fi             NaN         NaN        NaN        21588209.31   \n",
       "Thriller           NaN         NaN        NaN        19629035.68   \n",
       "\n",
       "           domestic_gross  foreign_gross  worldwide_gross   net_profit  \\\n",
       "genres                                                                   \n",
       "Action        30257700.62    28685133.36      59915757.22  25277569.81   \n",
       "Adventure     35951837.18    31930899.38      66572089.43  30184412.42   \n",
       "Animation     31866148.40    31416866.92      54508980.93  34694398.45   \n",
       "Comedy        28117856.98    22454438.29      50223595.40  26407329.02   \n",
       "Crime         22645401.34    21635241.58      45989445.24  19788747.72   \n",
       "Drama         18480256.89    17949382.21      36118281.63  16501189.40   \n",
       "Fantasy       27337646.33    23872271.89      54308639.17  18617069.87   \n",
       "Horror        19509311.76    19083093.00      38720048.08  21492106.88   \n",
       "Mystery       25083932.19    25196872.99      48048289.10  27508919.52   \n",
       "Romance       20741916.30    21677277.86      42193888.11  23195732.36   \n",
       "Sci-Fi        25429821.16    17869122.67      38903494.94  18980943.19   \n",
       "Thriller      21211675.41    19765497.62      41191026.89  19417062.58   \n",
       "\n",
       "           popularity  vote_average  vote_count  \n",
       "genres                                           \n",
       "Action           4.07          5.60       22.33  \n",
       "Adventure        4.03          5.89       21.56  \n",
       "Animation        4.49          6.31       21.04  \n",
       "Comedy           3.55          5.76       17.99  \n",
       "Crime            4.09          5.80       23.28  \n",
       "Drama            3.48          6.00       18.76  \n",
       "Fantasy          4.01          5.71       19.96  \n",
       "Horror           3.18          5.05       16.94  \n",
       "Mystery          3.67          5.54       20.65  \n",
       "Romance          3.76          5.98       18.98  \n",
       "Sci-Fi           3.43          5.38       18.40  \n",
       "Thriller         3.40          5.43       18.76  "
      ]
     },
     "execution_count": 194,
     "metadata": {},
     "output_type": "execute_result"
    }
   ],
   "source": [
    "df[\"production_budget\"] = calculate_mean(df_movies_final, \"production_budget\", genre)\n",
    "df[\"domestic_gross\"] = calculate_mean(df_movies_final, \"domestic_gross\", genre)\n",
    "df[\"foreign_gross\"] = calculate_mean(df_movies_final, \"foreign_gross\", genre)\n",
    "df[\"worldwide_gross\"] = calculate_mean(df_movies_final, \"worldwide_gross\", genre)\n",
    "df[\"net_profit\"] = calculate_mean(df_movies_final, \"net_profit\", genre)\n",
    "df[\"popularity\"] = calculate_mean(df_movies_final, \"popularity\", genre)\n",
    "df[\"vote_average\"] = calculate_mean(df_movies_final, \"vote_average\", genre)\n",
    "df[\"vote_count\"] = calculate_mean(df_movies_final, \"vote_count\", genre)\n",
    "df"
   ]
  },
  {
   "cell_type": "code",
   "execution_count": 171,
   "metadata": {},
   "outputs": [
    {
     "data": {
      "text/plain": [
       "production_budget    float64\n",
       "domestic_gross       float64\n",
       "foreign_gross        float64\n",
       "worldwide_gross      float64\n",
       "net_profit           float64\n",
       "popularity           float64\n",
       "vote_average         float64\n",
       "vote_count           float64\n",
       "dtype: object"
      ]
     },
     "execution_count": 171,
     "metadata": {},
     "output_type": "execute_result"
    }
   ],
   "source": [
    "df.dtypes"
   ]
  },
  {
   "cell_type": "code",
   "execution_count": 164,
   "metadata": {
    "scrolled": true
   },
   "outputs": [
    {
     "data": {
      "text/plain": [
       "30490758.55"
      ]
     },
     "execution_count": 164,
     "metadata": {},
     "output_type": "execute_result"
    }
   ],
   "source": [
    "df.loc[\"Action\", \"production_budget\"]"
   ]
  },
  {
   "cell_type": "code",
   "execution_count": 172,
   "metadata": {},
   "outputs": [
    {
     "data": {
      "text/plain": [
       "30350923.792000003"
      ]
     },
     "execution_count": 172,
     "metadata": {},
     "output_type": "execute_result"
    }
   ],
   "source": [
    "(0.4 * df.loc[\"Action\", \"production_budget\"]) + (0.6 * df.loc[\"Action\", \"domestic_gross\"])"
   ]
  },
  {
   "cell_type": "code",
   "execution_count": 183,
   "metadata": {},
   "outputs": [],
   "source": [
    "#Conservative ranking: weighted ranking using \"production_budget\" and \"domestic_gross\" for all genres\n",
    "def conservative_ranking(genre, col1, col2):\n",
    "    weighted_output = []\n",
    "    for film in genre:\n",
    "        weighted_sum = (0.4 * df.loc[film, col1]) + (0.6 * df.loc[film, col2])\n",
    "        weighted_output.append(weighted_sum)\n",
    "    return weighted_output"
   ]
  },
  {
   "cell_type": "code",
   "execution_count": 179,
   "metadata": {},
   "outputs": [
    {
     "data": {
      "text/plain": [
       "Index(['Action', 'Adventure', 'Animation', 'Comedy', 'Crime', 'Drama',\n",
       "       'Fantasy', 'Horror', 'Mystery', 'Romance', 'Sci-Fi', 'Thriller'],\n",
       "      dtype='object', name='genres')"
      ]
     },
     "execution_count": 179,
     "metadata": {},
     "output_type": "execute_result"
    }
   ],
   "source": [
    "df.index"
   ]
  },
  {
   "cell_type": "code",
   "execution_count": 195,
   "metadata": {
    "scrolled": false
   },
   "outputs": [
    {
     "data": {
      "text/plain": [
       "[30350923.792000003,\n",
       " 34920964.936,\n",
       " 32099851.64,\n",
       " 26307798.496,\n",
       " 23223619.9,\n",
       " 18114963.182,\n",
       " 26618709.009999998,\n",
       " 18121903.548,\n",
       " 22695684.93,\n",
       " 18856177.676,\n",
       " 23893176.419999998,\n",
       " 20578619.518]"
      ]
     },
     "execution_count": 195,
     "metadata": {},
     "output_type": "execute_result"
    }
   ],
   "source": [
    "conservative_ranking(df.index, \"production_budget\", \"domestic_gross\")"
   ]
  },
  {
   "cell_type": "code",
   "execution_count": 185,
   "metadata": {},
   "outputs": [],
   "source": [
    "#Compromised ranking: weighted ranking using \"production_budget\", \"domestic_gross\", \"foreign_gross\" for all genres\n",
    "def compromised_ranking(genre, col1, col2, col3):\n",
    "    weighted_output = []\n",
    "    for film in genre:\n",
    "        weighted_sum = (0.2 * df.loc[film, col1]) + (0.4 * df.loc[film, col2]) + (0.4 * df.loc[film, col3])\n",
    "        weighted_output.append(weighted_sum)\n",
    "    return weighted_output"
   ]
  },
  {
   "cell_type": "code",
   "execution_count": 186,
   "metadata": {},
   "outputs": [
    {
     "data": {
      "text/plain": [
       "[29675285.302000005,\n",
       " 33828025.938,\n",
       " 31803287.428000003,\n",
       " 24947460.262000002,\n",
       " 22530446.716,\n",
       " 18085260.164,\n",
       " 25592027.894,\n",
       " 18645120.150000002,\n",
       " 23934984.880000003,\n",
       " 20173191.612,\n",
       " 21637219.394,\n",
       " 20316676.348]"
      ]
     },
     "execution_count": 186,
     "metadata": {},
     "output_type": "execute_result"
    }
   ],
   "source": [
    "compromised_ranking(df.index, \"production_budget\", \"domestic_gross\", \"foreign_gross\")"
   ]
  },
  {
   "cell_type": "code",
   "execution_count": 187,
   "metadata": {},
   "outputs": [],
   "source": [
    "#Aggresive Ranking: weighted ranking using \"production_budget\", \"domestic_gross\", \"foreign_gross\" ....for all genres\n",
    "def aggresive_ranking(genre, col1, col2, col3):\n",
    "    weighted_output = []\n",
    "    for film in genre:\n",
    "        weighted_sum = (0.3 * df.loc[film, col1] + (0.4 * df.loc[film, col2] + (0.3 * df.loc[film, col3])))\n",
    "        weighted_output.append(weighted_sum)\n",
    "    return weighted_output"
   ]
  },
  {
   "cell_type": "code",
   "execution_count": 188,
   "metadata": {},
   "outputs": [
    {
     "data": {
      "text/plain": [
       "[10.159999999999998,\n",
       " 10.032999999999998,\n",
       " 10.182999999999998,\n",
       " 8.765999999999998,\n",
       " 10.531,\n",
       " 9.072000000000001,\n",
       " 9.475,\n",
       " 8.056000000000001,\n",
       " 9.512,\n",
       " 9.214,\n",
       " 8.701,\n",
       " 8.82]"
      ]
     },
     "execution_count": 188,
     "metadata": {},
     "output_type": "execute_result"
    }
   ],
   "source": [
    "aggresive_ranking(df.index, \"popularity\", \"vote_average\", \"vote_count\")"
   ]
  },
  {
   "cell_type": "code",
   "execution_count": 196,
   "metadata": {},
   "outputs": [
    {
     "data": {
      "text/html": [
       "<div>\n",
       "<style scoped>\n",
       "    .dataframe tbody tr th:only-of-type {\n",
       "        vertical-align: middle;\n",
       "    }\n",
       "\n",
       "    .dataframe tbody tr th {\n",
       "        vertical-align: top;\n",
       "    }\n",
       "\n",
       "    .dataframe thead th {\n",
       "        text-align: right;\n",
       "    }\n",
       "</style>\n",
       "<table border=\"1\" class=\"dataframe\">\n",
       "  <thead>\n",
       "    <tr style=\"text-align: right;\">\n",
       "      <th></th>\n",
       "      <th>conservative</th>\n",
       "      <th>compromised</th>\n",
       "      <th>aggressive</th>\n",
       "    </tr>\n",
       "    <tr>\n",
       "      <th>genres</th>\n",
       "      <th></th>\n",
       "      <th></th>\n",
       "      <th></th>\n",
       "    </tr>\n",
       "  </thead>\n",
       "  <tbody>\n",
       "    <tr>\n",
       "      <th>Action</th>\n",
       "      <td>NaN</td>\n",
       "      <td>NaN</td>\n",
       "      <td>NaN</td>\n",
       "    </tr>\n",
       "    <tr>\n",
       "      <th>Adventure</th>\n",
       "      <td>NaN</td>\n",
       "      <td>NaN</td>\n",
       "      <td>NaN</td>\n",
       "    </tr>\n",
       "    <tr>\n",
       "      <th>Animation</th>\n",
       "      <td>NaN</td>\n",
       "      <td>NaN</td>\n",
       "      <td>NaN</td>\n",
       "    </tr>\n",
       "    <tr>\n",
       "      <th>Comedy</th>\n",
       "      <td>NaN</td>\n",
       "      <td>NaN</td>\n",
       "      <td>NaN</td>\n",
       "    </tr>\n",
       "    <tr>\n",
       "      <th>Crime</th>\n",
       "      <td>NaN</td>\n",
       "      <td>NaN</td>\n",
       "      <td>NaN</td>\n",
       "    </tr>\n",
       "  </tbody>\n",
       "</table>\n",
       "</div>"
      ],
      "text/plain": [
       "          conservative compromised aggressive\n",
       "genres                                       \n",
       "Action             NaN         NaN        NaN\n",
       "Adventure          NaN         NaN        NaN\n",
       "Animation          NaN         NaN        NaN\n",
       "Comedy             NaN         NaN        NaN\n",
       "Crime              NaN         NaN        NaN"
      ]
     },
     "execution_count": 196,
     "metadata": {},
     "output_type": "execute_result"
    }
   ],
   "source": [
    "df_rankings = pd.DataFrame(columns=[\"genres\", \"conservative\", \"compromised\", \"aggressive\"])\n",
    "df_rankings['genres'] = genre\n",
    "df_rankings.set_index('genres', inplace=True)\n",
    "df_rankings.head()"
   ]
  },
  {
   "cell_type": "code",
   "execution_count": 198,
   "metadata": {},
   "outputs": [
    {
     "data": {
      "text/html": [
       "<div>\n",
       "<style scoped>\n",
       "    .dataframe tbody tr th:only-of-type {\n",
       "        vertical-align: middle;\n",
       "    }\n",
       "\n",
       "    .dataframe tbody tr th {\n",
       "        vertical-align: top;\n",
       "    }\n",
       "\n",
       "    .dataframe thead th {\n",
       "        text-align: right;\n",
       "    }\n",
       "</style>\n",
       "<table border=\"1\" class=\"dataframe\">\n",
       "  <thead>\n",
       "    <tr style=\"text-align: right;\">\n",
       "      <th></th>\n",
       "      <th>conservative</th>\n",
       "      <th>compromised</th>\n",
       "      <th>aggressive</th>\n",
       "    </tr>\n",
       "    <tr>\n",
       "      <th>genres</th>\n",
       "      <th></th>\n",
       "      <th></th>\n",
       "      <th></th>\n",
       "    </tr>\n",
       "  </thead>\n",
       "  <tbody>\n",
       "    <tr>\n",
       "      <th>Action</th>\n",
       "      <td>3.035092e+07</td>\n",
       "      <td>2.967529e+07</td>\n",
       "      <td>10.160</td>\n",
       "    </tr>\n",
       "    <tr>\n",
       "      <th>Adventure</th>\n",
       "      <td>3.492096e+07</td>\n",
       "      <td>3.382803e+07</td>\n",
       "      <td>10.033</td>\n",
       "    </tr>\n",
       "    <tr>\n",
       "      <th>Animation</th>\n",
       "      <td>3.209985e+07</td>\n",
       "      <td>3.180329e+07</td>\n",
       "      <td>10.183</td>\n",
       "    </tr>\n",
       "    <tr>\n",
       "      <th>Comedy</th>\n",
       "      <td>2.630780e+07</td>\n",
       "      <td>2.494746e+07</td>\n",
       "      <td>8.766</td>\n",
       "    </tr>\n",
       "    <tr>\n",
       "      <th>Crime</th>\n",
       "      <td>2.322362e+07</td>\n",
       "      <td>2.253045e+07</td>\n",
       "      <td>10.531</td>\n",
       "    </tr>\n",
       "    <tr>\n",
       "      <th>Drama</th>\n",
       "      <td>1.811496e+07</td>\n",
       "      <td>1.808526e+07</td>\n",
       "      <td>9.072</td>\n",
       "    </tr>\n",
       "    <tr>\n",
       "      <th>Fantasy</th>\n",
       "      <td>2.661871e+07</td>\n",
       "      <td>2.559203e+07</td>\n",
       "      <td>9.475</td>\n",
       "    </tr>\n",
       "    <tr>\n",
       "      <th>Horror</th>\n",
       "      <td>1.812190e+07</td>\n",
       "      <td>1.864512e+07</td>\n",
       "      <td>8.056</td>\n",
       "    </tr>\n",
       "    <tr>\n",
       "      <th>Mystery</th>\n",
       "      <td>2.269568e+07</td>\n",
       "      <td>2.393498e+07</td>\n",
       "      <td>9.512</td>\n",
       "    </tr>\n",
       "    <tr>\n",
       "      <th>Romance</th>\n",
       "      <td>1.885618e+07</td>\n",
       "      <td>2.017319e+07</td>\n",
       "      <td>9.214</td>\n",
       "    </tr>\n",
       "    <tr>\n",
       "      <th>Sci-Fi</th>\n",
       "      <td>2.389318e+07</td>\n",
       "      <td>2.163722e+07</td>\n",
       "      <td>8.701</td>\n",
       "    </tr>\n",
       "    <tr>\n",
       "      <th>Thriller</th>\n",
       "      <td>2.057862e+07</td>\n",
       "      <td>2.031668e+07</td>\n",
       "      <td>8.820</td>\n",
       "    </tr>\n",
       "  </tbody>\n",
       "</table>\n",
       "</div>"
      ],
      "text/plain": [
       "           conservative   compromised  aggressive\n",
       "genres                                           \n",
       "Action     3.035092e+07  2.967529e+07      10.160\n",
       "Adventure  3.492096e+07  3.382803e+07      10.033\n",
       "Animation  3.209985e+07  3.180329e+07      10.183\n",
       "Comedy     2.630780e+07  2.494746e+07       8.766\n",
       "Crime      2.322362e+07  2.253045e+07      10.531\n",
       "Drama      1.811496e+07  1.808526e+07       9.072\n",
       "Fantasy    2.661871e+07  2.559203e+07       9.475\n",
       "Horror     1.812190e+07  1.864512e+07       8.056\n",
       "Mystery    2.269568e+07  2.393498e+07       9.512\n",
       "Romance    1.885618e+07  2.017319e+07       9.214\n",
       "Sci-Fi     2.389318e+07  2.163722e+07       8.701\n",
       "Thriller   2.057862e+07  2.031668e+07       8.820"
      ]
     },
     "execution_count": 198,
     "metadata": {},
     "output_type": "execute_result"
    }
   ],
   "source": [
    "df_rankings[\"conservative\"] = conservative_ranking(df.index, \"production_budget\", \"domestic_gross\")\n",
    "df_rankings[\"compromised\"] = compromised_ranking(df.index, \"production_budget\", \"domestic_gross\", \"foreign_gross\")\n",
    "df_rankings[\"aggressive\"] = aggresive_ranking(df.index, \"popularity\", \"vote_average\", \"vote_count\")\n",
    "df_rankings"
   ]
  },
  {
   "cell_type": "code",
   "execution_count": 199,
   "metadata": {
    "scrolled": true
   },
   "outputs": [
    {
     "data": {
      "text/html": [
       "<div>\n",
       "<style scoped>\n",
       "    .dataframe tbody tr th:only-of-type {\n",
       "        vertical-align: middle;\n",
       "    }\n",
       "\n",
       "    .dataframe tbody tr th {\n",
       "        vertical-align: top;\n",
       "    }\n",
       "\n",
       "    .dataframe thead th {\n",
       "        text-align: right;\n",
       "    }\n",
       "</style>\n",
       "<table border=\"1\" class=\"dataframe\">\n",
       "  <thead>\n",
       "    <tr style=\"text-align: right;\">\n",
       "      <th></th>\n",
       "      <th>conservative</th>\n",
       "      <th>compromised</th>\n",
       "      <th>aggressive</th>\n",
       "    </tr>\n",
       "  </thead>\n",
       "  <tbody>\n",
       "    <tr>\n",
       "      <th>count</th>\n",
       "      <td>1.200000e+01</td>\n",
       "      <td>1.200000e+01</td>\n",
       "      <td>12.000000</td>\n",
       "    </tr>\n",
       "    <tr>\n",
       "      <th>mean</th>\n",
       "      <td>2.464853e+07</td>\n",
       "      <td>2.426408e+07</td>\n",
       "      <td>9.376917</td>\n",
       "    </tr>\n",
       "    <tr>\n",
       "      <th>std</th>\n",
       "      <td>5.576017e+06</td>\n",
       "      <td>5.151367e+06</td>\n",
       "      <td>0.742097</td>\n",
       "    </tr>\n",
       "    <tr>\n",
       "      <th>min</th>\n",
       "      <td>1.811496e+07</td>\n",
       "      <td>1.808526e+07</td>\n",
       "      <td>8.056000</td>\n",
       "    </tr>\n",
       "    <tr>\n",
       "      <th>25%</th>\n",
       "      <td>2.014801e+07</td>\n",
       "      <td>2.028081e+07</td>\n",
       "      <td>8.806500</td>\n",
       "    </tr>\n",
       "    <tr>\n",
       "      <th>50%</th>\n",
       "      <td>2.355840e+07</td>\n",
       "      <td>2.323272e+07</td>\n",
       "      <td>9.344500</td>\n",
       "    </tr>\n",
       "    <tr>\n",
       "      <th>75%</th>\n",
       "      <td>2.755176e+07</td>\n",
       "      <td>2.661284e+07</td>\n",
       "      <td>10.064750</td>\n",
       "    </tr>\n",
       "    <tr>\n",
       "      <th>max</th>\n",
       "      <td>3.492096e+07</td>\n",
       "      <td>3.382803e+07</td>\n",
       "      <td>10.531000</td>\n",
       "    </tr>\n",
       "  </tbody>\n",
       "</table>\n",
       "</div>"
      ],
      "text/plain": [
       "       conservative   compromised  aggressive\n",
       "count  1.200000e+01  1.200000e+01   12.000000\n",
       "mean   2.464853e+07  2.426408e+07    9.376917\n",
       "std    5.576017e+06  5.151367e+06    0.742097\n",
       "min    1.811496e+07  1.808526e+07    8.056000\n",
       "25%    2.014801e+07  2.028081e+07    8.806500\n",
       "50%    2.355840e+07  2.323272e+07    9.344500\n",
       "75%    2.755176e+07  2.661284e+07   10.064750\n",
       "max    3.492096e+07  3.382803e+07   10.531000"
      ]
     },
     "execution_count": 199,
     "metadata": {},
     "output_type": "execute_result"
    }
   ],
   "source": [
    "df_rankings.describe()"
   ]
  },
  {
   "cell_type": "code",
   "execution_count": 212,
   "metadata": {},
   "outputs": [
    {
     "data": {
      "image/png": "[encoded data removed]",
      "text/plain": [
       "<Figure size 432x288 with 1 Axes>"
      ]
     },
     "metadata": {
      "needs_background": "light"
     },
     "output_type": "display_data"
    }
   ],
   "source": [
    "sns.boxplot(df_rankings['conservative']);"
   ]
  },
  {
   "cell_type": "code",
   "execution_count": 211,
   "metadata": {},
   "outputs": [
    {
     "data": {
      "image/png": "[encoded data removed]",
      "text/plain": [
       "<Figure size 432x288 with 1 Axes>"
      ]
     },
     "metadata": {
      "needs_background": "light"
     },
     "output_type": "display_data"
    }
   ],
   "source": [
    "plt.barh(df.index, df_rankings['conservative'])\n",
    "plt.show()"
   ]
  },
  {
   "cell_type": "code",
   "execution_count": 217,
   "metadata": {},
   "outputs": [
    {
     "data": {
      "text/html": [
       "<div>\n",
       "<style scoped>\n",
       "    .dataframe tbody tr th:only-of-type {\n",
       "        vertical-align: middle;\n",
       "    }\n",
       "\n",
       "    .dataframe tbody tr th {\n",
       "        vertical-align: top;\n",
       "    }\n",
       "\n",
       "    .dataframe thead th {\n",
       "        text-align: right;\n",
       "    }\n",
       "</style>\n",
       "<table border=\"1\" class=\"dataframe\">\n",
       "  <thead>\n",
       "    <tr style=\"text-align: right;\">\n",
       "      <th></th>\n",
       "      <th>conservative</th>\n",
       "      <th>compromised</th>\n",
       "      <th>aggressive</th>\n",
       "    </tr>\n",
       "    <tr>\n",
       "      <th>genres</th>\n",
       "      <th></th>\n",
       "      <th></th>\n",
       "      <th></th>\n",
       "    </tr>\n",
       "  </thead>\n",
       "  <tbody>\n",
       "    <tr>\n",
       "      <th>Adventure</th>\n",
       "      <td>3.492096e+07</td>\n",
       "      <td>3.382803e+07</td>\n",
       "      <td>10.033</td>\n",
       "    </tr>\n",
       "    <tr>\n",
       "      <th>Drama</th>\n",
       "      <td>1.811496e+07</td>\n",
       "      <td>1.808526e+07</td>\n",
       "      <td>9.072</td>\n",
       "    </tr>\n",
       "  </tbody>\n",
       "</table>\n",
       "</div>"
      ],
      "text/plain": [
       "           conservative   compromised  aggressive\n",
       "genres                                           \n",
       "Adventure  3.492096e+07  3.382803e+07      10.033\n",
       "Drama      1.811496e+07  1.808526e+07       9.072"
      ]
     },
     "execution_count": 217,
     "metadata": {},
     "output_type": "execute_result"
    }
   ],
   "source": [
    "df_rankings.loc[(df_rankings['conservative'] == df_rankings['conservative'].min())\n",
    "                | (df_rankings['conservative'] == df_rankings['conservative'].max())]"
   ]
  },
  {
   "cell_type": "code",
   "execution_count": 224,
   "metadata": {},
   "outputs": [],
   "source": [
    "def min_and_max_values(data, column):\n",
    "    return data.loc[(data[column] == data[column].min()) | (data[column] == data[column].max())]"
   ]
  },
  {
   "cell_type": "code",
   "execution_count": 221,
   "metadata": {},
   "outputs": [
    {
     "data": {
      "text/html": [
       "<div>\n",
       "<style scoped>\n",
       "    .dataframe tbody tr th:only-of-type {\n",
       "        vertical-align: middle;\n",
       "    }\n",
       "\n",
       "    .dataframe tbody tr th {\n",
       "        vertical-align: top;\n",
       "    }\n",
       "\n",
       "    .dataframe thead th {\n",
       "        text-align: right;\n",
       "    }\n",
       "</style>\n",
       "<table border=\"1\" class=\"dataframe\">\n",
       "  <thead>\n",
       "    <tr style=\"text-align: right;\">\n",
       "      <th></th>\n",
       "      <th>conservative</th>\n",
       "      <th>compromised</th>\n",
       "      <th>aggressive</th>\n",
       "    </tr>\n",
       "    <tr>\n",
       "      <th>genres</th>\n",
       "      <th></th>\n",
       "      <th></th>\n",
       "      <th></th>\n",
       "    </tr>\n",
       "  </thead>\n",
       "  <tbody>\n",
       "    <tr>\n",
       "      <th>Adventure</th>\n",
       "      <td>3.492096e+07</td>\n",
       "      <td>3.382803e+07</td>\n",
       "      <td>10.033</td>\n",
       "    </tr>\n",
       "    <tr>\n",
       "      <th>Drama</th>\n",
       "      <td>1.811496e+07</td>\n",
       "      <td>1.808526e+07</td>\n",
       "      <td>9.072</td>\n",
       "    </tr>\n",
       "  </tbody>\n",
       "</table>\n",
       "</div>"
      ],
      "text/plain": [
       "           conservative   compromised  aggressive\n",
       "genres                                           \n",
       "Adventure  3.492096e+07  3.382803e+07      10.033\n",
       "Drama      1.811496e+07  1.808526e+07       9.072"
      ]
     },
     "execution_count": 221,
     "metadata": {},
     "output_type": "execute_result"
    }
   ],
   "source": [
    "min_and_max_values(df_rankings, 'conservative')"
   ]
  },
  {
   "cell_type": "code",
   "execution_count": 222,
   "metadata": {},
   "outputs": [
    {
     "data": {
      "text/html": [
       "<div>\n",
       "<style scoped>\n",
       "    .dataframe tbody tr th:only-of-type {\n",
       "        vertical-align: middle;\n",
       "    }\n",
       "\n",
       "    .dataframe tbody tr th {\n",
       "        vertical-align: top;\n",
       "    }\n",
       "\n",
       "    .dataframe thead th {\n",
       "        text-align: right;\n",
       "    }\n",
       "</style>\n",
       "<table border=\"1\" class=\"dataframe\">\n",
       "  <thead>\n",
       "    <tr style=\"text-align: right;\">\n",
       "      <th></th>\n",
       "      <th>conservative</th>\n",
       "      <th>compromised</th>\n",
       "      <th>aggressive</th>\n",
       "    </tr>\n",
       "    <tr>\n",
       "      <th>genres</th>\n",
       "      <th></th>\n",
       "      <th></th>\n",
       "      <th></th>\n",
       "    </tr>\n",
       "  </thead>\n",
       "  <tbody>\n",
       "    <tr>\n",
       "      <th>Adventure</th>\n",
       "      <td>3.492096e+07</td>\n",
       "      <td>3.382803e+07</td>\n",
       "      <td>10.033</td>\n",
       "    </tr>\n",
       "    <tr>\n",
       "      <th>Drama</th>\n",
       "      <td>1.811496e+07</td>\n",
       "      <td>1.808526e+07</td>\n",
       "      <td>9.072</td>\n",
       "    </tr>\n",
       "  </tbody>\n",
       "</table>\n",
       "</div>"
      ],
      "text/plain": [
       "           conservative   compromised  aggressive\n",
       "genres                                           \n",
       "Adventure  3.492096e+07  3.382803e+07      10.033\n",
       "Drama      1.811496e+07  1.808526e+07       9.072"
      ]
     },
     "execution_count": 222,
     "metadata": {},
     "output_type": "execute_result"
    }
   ],
   "source": [
    "min_and_max_values(df_rankings, 'compromised')"
   ]
  },
  {
   "cell_type": "code",
   "execution_count": 223,
   "metadata": {},
   "outputs": [
    {
     "data": {
      "text/html": [
       "<div>\n",
       "<style scoped>\n",
       "    .dataframe tbody tr th:only-of-type {\n",
       "        vertical-align: middle;\n",
       "    }\n",
       "\n",
       "    .dataframe tbody tr th {\n",
       "        vertical-align: top;\n",
       "    }\n",
       "\n",
       "    .dataframe thead th {\n",
       "        text-align: right;\n",
       "    }\n",
       "</style>\n",
       "<table border=\"1\" class=\"dataframe\">\n",
       "  <thead>\n",
       "    <tr style=\"text-align: right;\">\n",
       "      <th></th>\n",
       "      <th>conservative</th>\n",
       "      <th>compromised</th>\n",
       "      <th>aggressive</th>\n",
       "    </tr>\n",
       "    <tr>\n",
       "      <th>genres</th>\n",
       "      <th></th>\n",
       "      <th></th>\n",
       "      <th></th>\n",
       "    </tr>\n",
       "  </thead>\n",
       "  <tbody>\n",
       "    <tr>\n",
       "      <th>Crime</th>\n",
       "      <td>2.322362e+07</td>\n",
       "      <td>2.253045e+07</td>\n",
       "      <td>10.531</td>\n",
       "    </tr>\n",
       "    <tr>\n",
       "      <th>Horror</th>\n",
       "      <td>1.812190e+07</td>\n",
       "      <td>1.864512e+07</td>\n",
       "      <td>8.056</td>\n",
       "    </tr>\n",
       "  </tbody>\n",
       "</table>\n",
       "</div>"
      ],
      "text/plain": [
       "        conservative   compromised  aggressive\n",
       "genres                                        \n",
       "Crime   2.322362e+07  2.253045e+07      10.531\n",
       "Horror  1.812190e+07  1.864512e+07       8.056"
      ]
     },
     "execution_count": 223,
     "metadata": {},
     "output_type": "execute_result"
    }
   ],
   "source": [
    "min_and_max_values(df_rankings, 'aggressive')"
   ]
  }
 ],
 "metadata": {
  "kernelspec": {
   "display_name": "Python 3",
   "language": "python",
   "name": "python3"
  },
  "language_info": {
   "codemirror_mode": {
    "name": "ipython",
    "version": 3
   },
   "file_extension": ".py",
   "mimetype": "text/x-python",
   "name": "python",
   "nbconvert_exporter": "python",
   "pygments_lexer": "ipython3",
   "version": "3.7.3"
  }
 },
 "nbformat": 4,
 "nbformat_minor": 2
}
