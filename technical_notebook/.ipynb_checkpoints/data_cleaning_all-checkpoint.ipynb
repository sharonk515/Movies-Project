{
 "cells": [
  {
   "cell_type": "markdown",
   "metadata": {},
   "source": [
    "### Plan\n",
    "\n",
    "1. Data cleanup\n",
    " - Formatting issues\n",
    " - Duplicates\n",
    " - Missing values\n",
    " \n",
    "\n",
    "2. Exploration\n",
    " - visualizations\n",
    "\n",
    "\n",
    "3. Modeling\n",
    "    - \n",
    "\n",
    "\n",
    "4. Evalution\n",
    "    -"
   ]
  },
  {
   "cell_type": "markdown",
   "metadata": {},
   "source": [
    "### Import Packages"
   ]
  },
  {
   "cell_type": "code",
   "execution_count": 1,
   "metadata": {},
   "outputs": [],
   "source": [
    "import pandas as pd\n",
    "import numpy as np\n",
    "import matplotlib.pyplot as plt\n",
    "import seaborn as sns\n",
    "from datetime import datetime\n",
    "import time"
   ]
  },
  {
   "cell_type": "markdown",
   "metadata": {},
   "source": [
    "### 1. Data Cleanup for Null Values"
   ]
  },
  {
   "cell_type": "markdown",
   "metadata": {},
   "source": [
    "File Name: tmdb.movies.csv\n",
    "- No nun values"
   ]
  },
  {
   "cell_type": "markdown",
   "metadata": {},
   "source": [
    "File Name: tn.movie_budgets.csv\n",
    "- No nun values"
   ]
  },
  {
   "cell_type": "markdown",
   "metadata": {},
   "source": [
    "Data with nun values:"
   ]
  },
  {
   "cell_type": "markdown",
   "metadata": {},
   "source": [
    "File name: bom.movie_gross.csv\n",
    "- leaving null value in data set"
   ]
  },
  {
   "cell_type": "markdown",
   "metadata": {},
   "source": [
    "File Name: imdb.title.basics.csv\n",
    "- leaving null vale in data set"
   ]
  },
  {
   "cell_type": "markdown",
   "metadata": {},
   "source": [
    "### Import data sets\n",
    "- df_budgets\n",
    "- df_popularity\n",
    "- df_gross\n",
    "- df_basics"
   ]
  },
  {
   "cell_type": "code",
   "execution_count": 2,
   "metadata": {},
   "outputs": [],
   "source": [
    "df_budgets = pd.read_csv(\"files/tn.movie_budgets.csv\")\n",
    "df_popularity = pd.read_csv(\"files/tmdb.movies.csv\")\n",
    "df_gross = pd.read_csv(\"files/bom.movie_gross.csv\")\n",
    "df_basics = pd.read_csv(\"files/imdb.title.basics.csv\")"
   ]
  },
  {
   "cell_type": "markdown",
   "metadata": {},
   "source": [
    "### Functions "
   ]
  },
  {
   "cell_type": "code",
   "execution_count": 4,
   "metadata": {},
   "outputs": [],
   "source": [
    "def turn_to_int(data, column):\n",
    "    data[column] = data[column].apply(lambda x: x.replace(\"$\", \"\"))\n",
    "    data[column] = data[column].apply(lambda x: x.replace(\",\", \"\"))\n",
    "    data[column] = data[column].astype(int)"
   ]
  },
  {
   "cell_type": "code",
   "execution_count": 5,
   "metadata": {},
   "outputs": [],
   "source": [
    "def turn_to_obj(data, column):\n",
    "    data[column] = data[column].astype(str)"
   ]
  },
  {
   "cell_type": "code",
   "execution_count": 6,
   "metadata": {},
   "outputs": [],
   "source": [
    "def drop_columns(data, column):\n",
    "    data.drop(column, inplace=True, axis=1)# axis=0 to row, axis=1 to column"
   ]
  },
  {
   "cell_type": "code",
   "execution_count": 38,
   "metadata": {},
   "outputs": [],
   "source": [
    "def merge_dataframes(df_1, df_2):\n",
    "    df_movies = pd.merge(df_1, df_2, how=\"left\", on=\"title\")\n",
    "    return df_movies.head()"
   ]
  },
  {
   "cell_type": "markdown",
   "metadata": {},
   "source": [
    "### Updating Formats"
   ]
  },
  {
   "cell_type": "markdown",
   "metadata": {},
   "source": [
    "- Calling functions"
   ]
  },
  {
   "cell_type": "code",
   "execution_count": 8,
   "metadata": {},
   "outputs": [],
   "source": [
    "turn_to_int(df_budgets, \"production_budget\")\n",
    "turn_to_int(df_budgets, \"domestic_gross\")\n",
    "turn_to_int(df_budgets, \"worldwide_gross\")\n",
    "turn_to_obj(df_basics, \"start_year\")\n",
    "turn_to_obj(df_gross, \"year\")"
   ]
  },
  {
   "cell_type": "markdown",
   "metadata": {},
   "source": [
    "### Drop Columns\n"
   ]
  },
  {
   "cell_type": "code",
   "execution_count": 9,
   "metadata": {},
   "outputs": [],
   "source": [
    "drop_columns(df_popularity, [\"id\", \"Unnamed: 0\", \"genre_ids\", \"original_title\"])"
   ]
  },
  {
   "cell_type": "code",
   "execution_count": 10,
   "metadata": {},
   "outputs": [],
   "source": [
    "drop_columns(df_budgets, [\"id\", \"release_date\"])"
   ]
  },
  {
   "cell_type": "code",
   "execution_count": 11,
   "metadata": {},
   "outputs": [],
   "source": [
    "drop_columns(df_gross, [\"foreign_gross\", \"domestic_gross\", \"year\"])"
   ]
  },
  {
   "cell_type": "code",
   "execution_count": 12,
   "metadata": {},
   "outputs": [],
   "source": [
    "drop_columns(df_basics, [\"tconst\", \"original_title\", \"start_year\"])"
   ]
  },
  {
   "cell_type": "markdown",
   "metadata": {},
   "source": [
    "### Merge datasets\n",
    "\n",
    "##### 1) Rename"
   ]
  },
  {
   "cell_type": "code",
   "execution_count": 13,
   "metadata": {},
   "outputs": [],
   "source": [
    "df_budgets.rename(columns = {\"movie\": \"title\"}, inplace=True)"
   ]
  },
  {
   "cell_type": "code",
   "execution_count": 14,
   "metadata": {},
   "outputs": [],
   "source": [
    "df_basics.rename(columns = {\"primary_title\": \"title\"}, inplace=True)"
   ]
  },
  {
   "cell_type": "markdown",
   "metadata": {},
   "source": [
    "##### 2) Merge"
   ]
  },
  {
   "cell_type": "code",
   "execution_count": 39,
   "metadata": {
    "scrolled": true
   },
   "outputs": [],
   "source": [
    "df_movie = merge_dataframes(df_popularity, df_gross)"
   ]
  },
  {
   "cell_type": "code",
   "execution_count": 40,
   "metadata": {},
   "outputs": [],
   "source": [
    "df_movie_2 = merge_dataframes(df_movie, df_budgets)"
   ]
  },
  {
   "cell_type": "code",
   "execution_count": 41,
   "metadata": {
    "scrolled": true
   },
   "outputs": [],
   "source": [
    "df_movies_final = merge_dataframes(df_basics, df_movie_2)"
   ]
  }
 ],
 "metadata": {
  "kernelspec": {
   "display_name": "Python 3",
   "language": "python",
   "name": "python3"
  },
  "language_info": {
   "codemirror_mode": {
    "name": "ipython",
    "version": 3
   },
   "file_extension": ".py",
   "mimetype": "text/x-python",
   "name": "python",
   "nbconvert_exporter": "python",
   "pygments_lexer": "ipython3",
   "version": "3.7.3"
  }
 },
 "nbformat": 4,
 "nbformat_minor": 2
}
