{
 "cells": [
  {
   "cell_type": "markdown",
   "metadata": {},
   "source": [
    "### Plan\n",
    "\n",
    "1. Data cleanup\n",
    "    - Formatting issues\n",
    "    - Missing values\n",
    " \n",
    "\n",
    "2. Exploration (EDA)\n",
    "\n",
    "\n",
    "3. Evaluation\n",
    "    - Visualizations\n",
    "    - Outputs (Final Recommendations)"
   ]
  },
  {
   "cell_type": "markdown",
   "metadata": {},
   "source": [
    "### Import Packages"
   ]
  },
  {
   "cell_type": "code",
   "execution_count": null,
   "metadata": {},
   "outputs": [],
   "source": [
    "import pandas as pd\n",
    "import matplotlib.pyplot as plt\n",
    "import seaborn as sns\n",
    "import movie_functions as mf\n",
    "import numpy as np"
   ]
  },
  {
   "cell_type": "markdown",
   "metadata": {},
   "source": [
    "### 1. Data Cleanup"
   ]
  },
  {
   "cell_type": "markdown",
   "metadata": {},
   "source": [
    "### Read data\n",
    "\n",
    "- Using data sets from IMDB and TheMovieDB"
   ]
  },
  {
   "cell_type": "code",
   "execution_count": null,
   "metadata": {},
   "outputs": [],
   "source": [
    "#The Movie DB\n",
    "df_budgets = pd.read_csv(\"data/tn.movie_budgets.csv\")\n",
    "df_popularity = pd.read_csv(\"data/tmdb.movies.csv\")\n",
    "\n",
    "#IMDB\n",
    "df_basics = pd.read_csv(\"data/imdb.title.basics.csv\")"
   ]
  },
  {
   "cell_type": "markdown",
   "metadata": {},
   "source": [
    "### Update data formats\n",
    "\n",
    "##### Turn numeric object from string to integer"
   ]
  },
  {
   "cell_type": "code",
   "execution_count": null,
   "metadata": {},
   "outputs": [],
   "source": [
    "for column in df_budgets.columns[-3:]:\n",
    "    df_budgets[column] = mf.scale_to_millions(df_budgets, column)"
   ]
  },
  {
   "cell_type": "markdown",
   "metadata": {},
   "source": [
    "### Merge datasets\n",
    "\n",
    "##### 1) Rename"
   ]
  },
  {
   "cell_type": "code",
   "execution_count": null,
   "metadata": {},
   "outputs": [],
   "source": [
    "df_budgets.rename(columns={\"movie\": \"title\"}, inplace=True)\n",
    "df_basics.rename(columns={\"primary_title\": \"title\"}, inplace=True)"
   ]
  },
  {
   "cell_type": "markdown",
   "metadata": {},
   "source": [
    "##### 2) Merge"
   ]
  },
  {
   "cell_type": "code",
   "execution_count": null,
   "metadata": {},
   "outputs": [],
   "source": [
    "df_movies = pd.merge(df_popularity, df_budgets, how=\"left\", on=\"title\")\n",
    "df_movies = pd.merge(df_basics, df_movies, how=\"left\", on=\"title\")"
   ]
  },
  {
   "cell_type": "markdown",
   "metadata": {},
   "source": [
    "### Drop Columns"
   ]
  },
  {
   "cell_type": "code",
   "execution_count": null,
   "metadata": {},
   "outputs": [],
   "source": [
    "df_movies.drop(columns=[\n",
    "                \"id_x\", \"Unnamed: 0\", \"genre_ids\",\n",
    "                \"original_title_x\", \"original_language\",\n",
    "                \"release_date_x\", \"id_y\", \"release_date_y\", \"tconst\",\n",
    "                \"runtime_minutes\", \"original_title_y\", \"start_year\"\n",
    "                ],\n",
    "               axis=1, inplace=True)"
   ]
  },
  {
   "cell_type": "markdown",
   "metadata": {},
   "source": [
    "### New Columns"
   ]
  },
  {
   "cell_type": "code",
   "execution_count": null,
   "metadata": {},
   "outputs": [],
   "source": [
    "df_movies[\"foreign_gross\"] = ((df_movies.worldwide_gross\n",
    "                               - df_movies.domestic_gross))"
   ]
  },
  {
   "cell_type": "code",
   "execution_count": null,
   "metadata": {},
   "outputs": [],
   "source": [
    "df_movies[\"net_profit\"] = ((df_movies.worldwide_gross\n",
    "                            - df_movies.production_budget))"
   ]
  },
  {
   "cell_type": "code",
   "execution_count": null,
   "metadata": {},
   "outputs": [],
   "source": [
    "df_movies"
   ]
  },
  {
   "cell_type": "markdown",
   "metadata": {},
   "source": [
    "### 2. Exploration"
   ]
  },
  {
   "cell_type": "markdown",
   "metadata": {},
   "source": [
    "##### Calculate Mean of DataFrame without Outliers"
   ]
  },
  {
   "cell_type": "markdown",
   "metadata": {},
   "source": [
    "1) Find Interquartile Range to calculate Outliers"
   ]
  },
  {
   "cell_type": "code",
   "execution_count": null,
   "metadata": {},
   "outputs": [],
   "source": [
    "genre = [\"Action\", \"Adventure\", \"Animation\", \"Comedy\", \"Crime\", \"Drama\",\n",
    "         \"Fantasy\", \"Horror\", \"Mystery\", \"Romance\", \"Sci-Fi\", \"Thriller\"]"
   ]
  },
  {
   "cell_type": "markdown",
   "metadata": {},
   "source": [
    "2) Create new DataFrame of Means for each column based on Genre"
   ]
  },
  {
   "cell_type": "code",
   "execution_count": null,
   "metadata": {},
   "outputs": [],
   "source": [
    "df_mean = pd.DataFrame(genre, columns=['genres'])\n",
    "df_mean.set_index('genres', inplace=True)"
   ]
  },
  {
   "cell_type": "code",
   "execution_count": null,
   "metadata": {
    "scrolled": true
   },
   "outputs": [],
   "source": [
    "for column in df_movies.columns[2:]:\n",
    "    df_mean[column] = mf.calculate_mean(df_movies, column, genre)\n",
    "\n",
    "df_mean"
   ]
  },
  {
   "cell_type": "markdown",
   "metadata": {},
   "source": [
    "##### Calculate weighted rankings for each genre\n",
    "\n",
    "    - Conservative \n",
    "    - Compromised\n",
    "    - Aggressive"
   ]
  },
  {
   "cell_type": "code",
   "execution_count": null,
   "metadata": {},
   "outputs": [],
   "source": [
    "df_rankings = pd.DataFrame(genre, columns=[\"genres\"])\n",
    "df_rankings.set_index('genres', inplace=True)"
   ]
  },
  {
   "cell_type": "code",
   "execution_count": null,
   "metadata": {},
   "outputs": [],
   "source": [
    "df_rankings[\"conservative\"] = mf.conservative_ranking(df_rankings.index, df_mean,\n",
    "                                                   \"production_budget\", \"domestic_gross\")\n",
    "\n",
    "df_rankings[\"compromised\"] = mf.compromised_ranking(df_rankings.index, df_mean,\n",
    "                                                 \"production_budget\", \"domestic_gross\", \"foreign_gross\")\n",
    "\n",
    "df_rankings[\"aggressive\"] = mf.aggressive_ranking(df_rankings.index, df_mean,\n",
    "                                               \"popularity\", \"vote_average\", \"vote_count\")\n",
    "\n",
    "df_rankings"
   ]
  },
  {
   "cell_type": "code",
   "execution_count": null,
   "metadata": {},
   "outputs": [],
   "source": [
    "ranking_type = [\"conservative\", \"conservative\",\n",
    "                \"compromised\", \"compromised\", \"compromised\",\n",
    "                \"aggressive\", \"aggressive\", \"aggressive\"]\n",
    "df_percent_weight = pd.DataFrame(ranking_type, columns={\"ranking_type\"})\n",
    "\n",
    "df_percent_weight[\"inputs\"] = [\"production_budget\", \"domestic_gross\",\n",
    "                                 \"production_budget\", \"domestic_gross\", \"foreign_gross\",\n",
    "                                \"popularity\", \"vote_average\", \"vote_count\"]\n",
    "\n",
    "df_percent_weight[\"percent\"] = [40, 60, 20, 40, 40, 30, 40, 30]\n",
    "\n",
    "df_percent_weight"
   ]
  },
  {
   "cell_type": "markdown",
   "metadata": {},
   "source": [
    "### Evaluation: Our recommended movie genres\n"
   ]
  },
  {
   "cell_type": "markdown",
   "metadata": {},
   "source": [
    "##### Visualizations"
   ]
  },
  {
   "cell_type": "code",
   "execution_count": null,
   "metadata": {},
   "outputs": [],
   "source": [
    "# Display weight percentages\n",
    "mf.percent_weight_bar_graph(df_percent_weight,\n",
    "                         \"ranking_type\", \"percent\", \"inputs\")"
   ]
  },
  {
   "cell_type": "markdown",
   "metadata": {},
   "source": [
    "- Conservative"
   ]
  },
  {
   "cell_type": "code",
   "execution_count": null,
   "metadata": {},
   "outputs": [],
   "source": [
    "#Display weighted sum of avg per film genre and the rankings(min and max, highlighted in red)\n",
    "mf.weighted_ranking_bar_graph(df_rankings,\n",
    "                          \"conservative\", \"Conservative Ranking\")"
   ]
  },
  {
   "cell_type": "code",
   "execution_count": null,
   "metadata": {},
   "outputs": [],
   "source": [
    "#Display distribution of the weighted sums of avg\n",
    "mf.weighted_ranking_box_plot(df_rankings,\n",
    "                          \"conservative\", \"Conservative Ranking\")"
   ]
  },
  {
   "cell_type": "markdown",
   "metadata": {},
   "source": [
    "- Compromised"
   ]
  },
  {
   "cell_type": "code",
   "execution_count": null,
   "metadata": {},
   "outputs": [],
   "source": [
    "#Display weighted sum of avg per film genre and the rankings(min and max, highlighted in red)\n",
    "mf.weighted_ranking_bar_graph(df_rankings,\n",
    "                           \"compromised\", \"Compromised Ranking\")"
   ]
  },
  {
   "cell_type": "code",
   "execution_count": null,
   "metadata": {},
   "outputs": [],
   "source": [
    "#Display distribution of the weighted sums of avg\n",
    "mf.weighted_ranking_box_plot(df_rankings,\n",
    "                          \"compromised\", \"Compromised Ranking\")"
   ]
  },
  {
   "cell_type": "markdown",
   "metadata": {},
   "source": [
    "- Aggressive"
   ]
  },
  {
   "cell_type": "code",
   "execution_count": null,
   "metadata": {},
   "outputs": [],
   "source": [
    "#Display weighted sum of avg per film genre and the rankings(min and max, highlighted in red)\n",
    "mf.weighted_ranking_bar_graph(df_rankings,\n",
    "                           \"aggressive\", \"Aggressive Ranking\")"
   ]
  },
  {
   "cell_type": "code",
   "execution_count": null,
   "metadata": {},
   "outputs": [],
   "source": [
    "#Display distribution of the weighted sums of avg\n",
    "mf.weighted_ranking_box_plot(df_rankings,\n",
    "                          \"aggressive\", \"Aggressive Ranking\")"
   ]
  },
  {
   "cell_type": "markdown",
   "metadata": {},
   "source": [
    "##### Outputs\n",
    "\n",
    "- The min and max ranks per scenario and their weighted sums of avg (from Sensitivity Analysis)"
   ]
  },
  {
   "cell_type": "code",
   "execution_count": null,
   "metadata": {},
   "outputs": [],
   "source": [
    "mf.min_and_max_values(df_rankings, \"conservative\")"
   ]
  },
  {
   "cell_type": "code",
   "execution_count": null,
   "metadata": {},
   "outputs": [],
   "source": [
    "mf.min_and_max_values(df_rankings, \"compromised\")"
   ]
  },
  {
   "cell_type": "code",
   "execution_count": null,
   "metadata": {},
   "outputs": [],
   "source": [
    "mf.min_and_max_values(df_rankings, \"aggressive\")"
   ]
  }
 ],
 "metadata": {
  "kernelspec": {
   "display_name": "Python 3",
   "language": "python",
   "name": "python3"
  },
  "language_info": {
   "codemirror_mode": {
    "name": "ipython",
    "version": 3
   },
   "file_extension": ".py",
   "mimetype": "text/x-python",
   "name": "python",
   "nbconvert_exporter": "python",
   "pygments_lexer": "ipython3",
   "version": "3.7.3"
  }
 },
 "nbformat": 4,
 "nbformat_minor": 4
}
